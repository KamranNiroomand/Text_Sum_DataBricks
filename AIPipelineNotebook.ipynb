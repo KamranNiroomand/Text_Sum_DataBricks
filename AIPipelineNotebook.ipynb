{
 "cells": [
  {
   "cell_type": "code",
   "execution_count": 0,
   "metadata": {
    "application/vnd.databricks.v1+cell": {
     "cellMetadata": {
      "byteLimit": 2048000,
      "rowLimit": 10000
     },
     "inputWidgets": {},
     "nuid": "aa19411d-eef7-40b2-9bf5-bf6a293f7817",
     "showTitle": false,
     "tableResultSettingsMap": {},
     "title": ""
    }
   },
   "outputs": [
    {
     "data": {
      "text/html": [
       "<style scoped>\n",
       "  .table-result-container {\n",
       "    max-height: 300px;\n",
       "    overflow: auto;\n",
       "  }\n",
       "  table, th, td {\n",
       "    border: 1px solid black;\n",
       "    border-collapse: collapse;\n",
       "  }\n",
       "  th, td {\n",
       "    padding: 5px;\n",
       "  }\n",
       "  th {\n",
       "    text-align: left;\n",
       "  }\n",
       "</style><div class='table-result-container'><table class='table-result'><thead style='background-color: white'><tr><th>mountPoint</th><th>source</th><th>encryptionType</th></tr></thead><tbody><tr><td>/databricks-datasets</td><td>databricks-datasets</td><td></td></tr><tr><td>/Volumes</td><td>UnityCatalogVolumes</td><td></td></tr><tr><td>/databricks/mlflow-tracking</td><td>databricks/mlflow-tracking</td><td></td></tr><tr><td>/databricks-results</td><td>databricks-results</td><td></td></tr><tr><td>/mnt/raw</td><td>wasbs://raw-data@rivalaisstorage.blob.core.windows.net/</td><td></td></tr><tr><td>/databricks/mlflow-registry</td><td>databricks/mlflow-registry</td><td></td></tr><tr><td>/Volume</td><td>DbfsReserved</td><td></td></tr><tr><td>/volumes</td><td>DbfsReserved</td><td></td></tr><tr><td>/</td><td>DatabricksRoot</td><td></td></tr><tr><td>/volume</td><td>DbfsReserved</td><td></td></tr></tbody></table></div>"
      ]
     },
     "metadata": {
      "application/vnd.databricks.v1+output": {
       "addedWidgets": {},
       "aggData": [],
       "aggError": "",
       "aggOverflow": false,
       "aggSchema": [],
       "aggSeriesLimitReached": false,
       "aggType": "",
       "arguments": {},
       "columnCustomDisplayInfos": {},
       "data": [
        [
         "/databricks-datasets",
         "databricks-datasets",
         ""
        ],
        [
         "/Volumes",
         "UnityCatalogVolumes",
         ""
        ],
        [
         "/databricks/mlflow-tracking",
         "databricks/mlflow-tracking",
         ""
        ],
        [
         "/databricks-results",
         "databricks-results",
         ""
        ],
        [
         "/mnt/raw",
         "wasbs://raw-data@rivalaisstorage.blob.core.windows.net/",
         ""
        ],
        [
         "/databricks/mlflow-registry",
         "databricks/mlflow-registry",
         ""
        ],
        [
         "/Volume",
         "DbfsReserved",
         ""
        ],
        [
         "/volumes",
         "DbfsReserved",
         ""
        ],
        [
         "/",
         "DatabricksRoot",
         ""
        ],
        [
         "/volume",
         "DbfsReserved",
         ""
        ]
       ],
       "datasetInfos": [],
       "dbfsResultPath": null,
       "isJsonSchema": true,
       "metadata": {},
       "overflow": false,
       "plotOptions": {
        "customPlotOptions": {},
        "displayType": "table",
        "pivotAggregation": null,
        "pivotColumns": null,
        "xColumns": null,
        "yColumns": null
       },
       "removedWidgets": [],
       "schema": [
        {
         "metadata": "{}",
         "name": "mountPoint",
         "type": "\"string\""
        },
        {
         "metadata": "{}",
         "name": "source",
         "type": "\"string\""
        },
        {
         "metadata": "{}",
         "name": "encryptionType",
         "type": "\"string\""
        }
       ],
       "type": "table"
      }
     },
     "output_type": "display_data"
    }
   ],
   "source": [
    "display(dbutils.fs.mounts())\n"
   ]
  },
  {
   "cell_type": "code",
   "execution_count": 0,
   "metadata": {
    "application/vnd.databricks.v1+cell": {
     "cellMetadata": {
      "byteLimit": 2048000,
      "rowLimit": 10000
     },
     "inputWidgets": {},
     "nuid": "182bd986-33cf-4e8a-b4f3-4492fa523c30",
     "showTitle": false,
     "tableResultSettingsMap": {},
     "title": ""
    }
   },
   "outputs": [
    {
     "data": {
      "text/html": [
       "<style scoped>\n",
       "  .table-result-container {\n",
       "    max-height: 300px;\n",
       "    overflow: auto;\n",
       "  }\n",
       "  table, th, td {\n",
       "    border: 1px solid black;\n",
       "    border-collapse: collapse;\n",
       "  }\n",
       "  th, td {\n",
       "    padding: 5px;\n",
       "  }\n",
       "  th {\n",
       "    text-align: left;\n",
       "  }\n",
       "</style><div class='table-result-container'><table class='table-result'><thead style='background-color: white'><tr><th>path</th><th>name</th><th>size</th><th>modificationTime</th></tr></thead><tbody><tr><td>dbfs:/mnt/raw/AI Data Developer Technical Challenge - Sample Raw Data.csv</td><td>AI Data Developer Technical Challenge - Sample Raw Data.csv</td><td>14533</td><td>1739621297000</td></tr></tbody></table></div>"
      ]
     },
     "metadata": {
      "application/vnd.databricks.v1+output": {
       "addedWidgets": {},
       "aggData": [],
       "aggError": "",
       "aggOverflow": false,
       "aggSchema": [],
       "aggSeriesLimitReached": false,
       "aggType": "",
       "arguments": {},
       "columnCustomDisplayInfos": {},
       "data": [
        [
         "dbfs:/mnt/raw/AI Data Developer Technical Challenge - Sample Raw Data.csv",
         "AI Data Developer Technical Challenge - Sample Raw Data.csv",
         14533,
         1739621297000
        ]
       ],
       "datasetInfos": [],
       "dbfsResultPath": null,
       "isJsonSchema": true,
       "metadata": {},
       "overflow": false,
       "plotOptions": {
        "customPlotOptions": {},
        "displayType": "table",
        "pivotAggregation": null,
        "pivotColumns": null,
        "xColumns": null,
        "yColumns": null
       },
       "removedWidgets": [],
       "schema": [
        {
         "metadata": "{}",
         "name": "path",
         "type": "\"string\""
        },
        {
         "metadata": "{}",
         "name": "name",
         "type": "\"string\""
        },
        {
         "metadata": "{}",
         "name": "size",
         "type": "\"long\""
        },
        {
         "metadata": "{}",
         "name": "modificationTime",
         "type": "\"long\""
        }
       ],
       "type": "table"
      }
     },
     "output_type": "display_data"
    }
   ],
   "source": [
    "display(dbutils.fs.ls(\"/mnt/raw\"))\n"
   ]
  },
  {
   "cell_type": "code",
   "execution_count": 0,
   "metadata": {
    "application/vnd.databricks.v1+cell": {
     "cellMetadata": {
      "byteLimit": 2048000,
      "rowLimit": 10000
     },
     "inputWidgets": {},
     "nuid": "7c4a609a-0128-4885-ad71-a374bf21188b",
     "showTitle": false,
     "tableResultSettingsMap": {},
     "title": ""
    }
   },
   "outputs": [
    {
     "data": {
      "text/html": [
       "<style scoped>\n",
       "  .table-result-container {\n",
       "    max-height: 300px;\n",
       "    overflow: auto;\n",
       "  }\n",
       "  table, th, td {\n",
       "    border: 1px solid black;\n",
       "    border-collapse: collapse;\n",
       "  }\n",
       "  th, td {\n",
       "    padding: 5px;\n",
       "  }\n",
       "  th {\n",
       "    text-align: left;\n",
       "  }\n",
       "</style><div class='table-result-container'><table class='table-result'><thead style='background-color: white'><tr><th>id</th><th>category</th><th>text</th></tr></thead><tbody><tr><td>1</td><td>customer_review</td><td>I recently filed a claim with Rival Insurance, and the process was slower than expected. The customer service was helpful, but I had to follow up multiple times.</td></tr><tr><td>2</td><td>customer_review</td><td>Amazing experience! Rival Insurance approved my claim in just two days. Very satisfied with the service.</td></tr><tr><td>3</td><td>customer_review</td><td>Frustrating experience. My claim was denied without a clear explanation. I will consider switching providers.</td></tr><tr><td>4</td><td>policy_document</td><td>Policyholder agrees to maintain comprehensive coverage for damages not caused by collision, including theft and natural disasters.</td></tr><tr><td>5</td><td>policy_document</td><td>This insurance policy covers personal injury protection (PIP) up to $50,000 per insured person per accident.</td></tr><tr><td>6</td><td>policy_document</td><td>Exclusions: This policy does not cover damages resulting from intentional acts, fraud, or unauthorized vehicle usage.</td></tr><tr><td>7</td><td>claim_note</td><td>Claim #11234: Reviewed documents and found discrepancies in reported damages. Requested additional evidence from claimant.</td></tr><tr><td>8</td><td>claim_note</td><td>Claim #23567: Approved for payout after verification of supporting documents and repair estimates.</td></tr><tr><td>9</td><td>claim_note</td><td>Claim #34890: Denied due to policy exclusion on pre-existing damages. Notified policyholder of appeal options.</td></tr><tr><td>10</td><td>customer_review</td><td>Had to wait on hold for over an hour before speaking to a representative. Not a great experience.</td></tr><tr><td>11</td><td>customer_review</td><td>Quick and easy claims process. I would highly recommend Rival Insurance to my friends and family.</td></tr><tr><td>12</td><td>customer_review</td><td>Denied claim due to a technicality that was not clearly stated in the policy. Very frustrating!</td></tr><tr><td>13</td><td>policy_document</td><td>Coverage includes liability for bodily injury and property damage up to the limits stated in the policy.</td></tr><tr><td>14</td><td>policy_document</td><td>Policyholders must report any accidents within 24 hours to ensure eligibility for coverage.</td></tr><tr><td>15</td><td>policy_document</td><td>Additional riders available for extended coverage on high-value assets, subject to approval.</td></tr><tr><td>16</td><td>claim_note</td><td>Claim #78456: Investigation completed, claim approved. Payment to be processed within 5 business days.</td></tr><tr><td>17</td><td>claim_note</td><td>Claim #98213: Initial assessment shows possible fraudulent activity. Sent to the fraud department for review.</td></tr><tr><td>18</td><td>claim_note</td><td>Claim #65784: Incomplete documentation received. Followed up with policyholder for additional paperwork.</td></tr><tr><td>19</td><td>customer_review</td><td>Filing a claim online was easy, but the response time was longer than expected.</td></tr><tr><td>20</td><td>customer_review</td><td>Appreciate the 24/7 customer support. The rep was very helpful in explaining my coverage.</td></tr><tr><td>null</td><td>category</td><td>text</td></tr><tr><td>1</td><td>customer_review</td><td>I recently filed a claim with Rival Insurance, and the process was slower than expected. The customer service was helpful, but I had to follow up multiple times.</td></tr><tr><td>2</td><td>customer_review</td><td>Amazing experience! Rival Insurance approved my claim in just two days. Very satisfied with the service.</td></tr><tr><td>3</td><td>customer_review</td><td>Frustrating experience. My claim was denied without a clear explanation. I will consider switching providers.</td></tr><tr><td>4</td><td>policy_document</td><td>Policyholder agrees to maintain comprehensive coverage for damages not caused by collision, including theft and natural disasters.</td></tr><tr><td>5</td><td>policy_document</td><td>This insurance policy covers personal injury protection (PIP) up to $50,000 per insured person per accident.</td></tr><tr><td>6</td><td>policy_document</td><td>Exclusions: This policy does not cover damages resulting from intentional acts, fraud, or unauthorized vehicle usage.</td></tr><tr><td>7</td><td>claim_note</td><td>Claim #11234: Reviewed documents and found discrepancies in reported damages. Requested additional evidence from claimant.</td></tr><tr><td>8</td><td>claim_note</td><td>Claim #23567: Approved for payout after verification of supporting documents and repair estimates.</td></tr><tr><td>9</td><td>claim_note</td><td>Claim #34890: Denied due to policy exclusion on pre-existing damages. Notified policyholder of appeal options.</td></tr><tr><td>10</td><td>customer_review</td><td>Had to wait on hold for over an hour before speaking to a representative. Not a great experience.</td></tr><tr><td>11</td><td>customer_review</td><td>Quick and easy claims process. I would highly recommend Rival Insurance to my friends and family.</td></tr><tr><td>12</td><td>customer_review</td><td>Denied claim due to a technicality that was not clearly stated in the policy. Very frustrating!</td></tr><tr><td>13</td><td>policy_document</td><td>Coverage includes liability for bodily injury and property damage up to the limits stated in the policy.</td></tr><tr><td>14</td><td>policy_document</td><td>Policyholders must report any accidents within 24 hours to ensure eligibility for coverage.</td></tr><tr><td>15</td><td>policy_document</td><td>Additional riders available for extended coverage on high-value assets, subject to approval.</td></tr><tr><td>16</td><td>claim_note</td><td>Claim #78456: Investigation completed, claim approved. Payment to be processed within 5 business days.</td></tr><tr><td>17</td><td>claim_note</td><td>Claim #98213: Initial assessment shows possible fraudulent activity. Sent to the fraud department for review.</td></tr><tr><td>18</td><td>claim_note</td><td>Claim #65784: Incomplete documentation received. Followed up with policyholder for additional paperwork.</td></tr><tr><td>19</td><td>customer_review</td><td>Filing a claim online was easy, but the response time was longer than expected.</td></tr><tr><td>20</td><td>customer_review</td><td>Appreciate the 24/7 customer support. The rep was very helpful in explaining my coverage.</td></tr><tr><td>21</td><td>customer_review</td><td>The app is user-friendly, and I was able to track my claim in real-time.</td></tr><tr><td>22</td><td>customer_review</td><td>Denied my claim despite having all the required documents. Will not renew my policy.</td></tr><tr><td>23</td><td>policy_document</td><td>This policy includes rental car reimbursement for up to $40 per day.</td></tr><tr><td>24</td><td>policy_document</td><td>Premium adjustments will be made annually based on claim history and risk assessment.</td></tr><tr><td>25</td><td>claim_note</td><td>Claim #12987: Under review. Awaiting third-party verification of reported damages.</td></tr><tr><td>26</td><td>claim_note</td><td>Claim #56789: Payment approved, issued to policyholder.</td></tr><tr><td>27</td><td>claim_note</td><td>Claim #34762: Adjuster scheduled to inspect vehicle damages on-site.</td></tr><tr><td>28</td><td>customer_review</td><td>Rival Insurance resolved my issue efficiently. Very happy with their customer support.</td></tr><tr><td>29</td><td>customer_review</td><td>Terrible experience. Had to escalate my claim multiple times.</td></tr><tr><td>30</td><td>policy_document</td><td>Coverage for natural disasters includes hurricanes, tornadoes, and wildfires.</td></tr><tr><td>31</td><td>policy_document</td><td>Policyholders are required to notify the company of any address changes within 30 days.</td></tr><tr><td>32</td><td>claim_note</td><td>Claim #89456: Delayed due to missing documentation. Notified policyholder.</td></tr><tr><td>33</td><td>claim_note</td><td>Claim #45783: Adjuster report submitted. Pending final approval.</td></tr><tr><td>34</td><td>customer_review</td><td>Great experience with Rival Insurance! They handled my claim quickly and professionally.</td></tr><tr><td>35</td><td>customer_review</td><td>Still waiting on claim resolution after three weeks. Not satisfied.</td></tr><tr><td>36</td><td>policy_document</td><td>Comprehensive policies include roadside assistance up to 3 service calls per year.</td></tr><tr><td>37</td><td>policy_document</td><td>This policy does not cover mechanical failures due to wear and tear.</td></tr><tr><td>38</td><td>claim_note</td><td>Claim #23984: Policyholder requested reconsideration. Under review.</td></tr><tr><td>39</td><td>claim_note</td><td>Claim #56473: Fraudulent activity detected. Claim denied.</td></tr><tr><td>40</td><td>customer_review</td><td>Filed a claim through the mobile app. Process was smooth and easy.</td></tr><tr><td>41</td><td>customer_review</td><td>Very difficult to reach customer service. Not happy with response times.</td></tr><tr><td>42</td><td>policy_document</td><td>Windshield replacement is covered under comprehensive insurance with no deductible.</td></tr><tr><td>43</td><td>policy_document</td><td>Pet injury coverage included for up to $1,000 in medical expenses.</td></tr><tr><td>44</td><td>claim_note</td><td>Claim #38945: Initial payout approved. Funds to be disbursed soon.</td></tr><tr><td>45</td><td>claim_note</td><td>Claim #17638: Rejected due to lack of sufficient evidence.</td></tr><tr><td>46</td><td>customer_review</td><td>Overall good service, but claim processing took longer than expected.</td></tr><tr><td>47</td><td>customer_review</td><td>I appreciate the easy online claim submission process. Very convenient.</td></tr><tr><td>48</td><td>policy_document</td><td>The policy provides emergency accommodation coverage for policyholders stranded due to accidents.</td></tr><tr><td>49</td><td>policy_document</td><td>Coverage includes damage caused by uninsured motorists, subject to policy limits.</td></tr><tr><td>50</td><td>claim_note</td><td>Claim #56712: Additional documentation received. Claim reassessed and approved for payout.</td></tr><tr><td>50</td><td>claim_note</td><td>Claim #56712: Additional documentation received. Claim reassessed and approved for payout.</td></tr><tr><td>51</td><td>customer_review</td><td>Great customer service! My agent was very helpful and explained everything clearly.</td></tr><tr><td>52</td><td>customer_review</td><td>Not happy with the premium increase this year. Looking for other options.</td></tr><tr><td>53</td><td>policy_document</td><td>Deductibles vary based on the type of claim and policy terms.</td></tr><tr><td>54</td><td>policy_document</td><td>Policyholders can bundle home and auto insurance for discounted rates.</td></tr><tr><td>55</td><td>claim_note</td><td>Claim #67234: Investigation pending. Adjuster scheduled for next week.</td></tr><tr><td>56</td><td>claim_note</td><td>Claim #98234: Approved, waiting on policyholder’s response for payout method.</td></tr><tr><td>57</td><td>claim_note</td><td>Claim #12345: Denied due to insufficient documentation. Appeal process explained to policyholder.</td></tr><tr><td>58</td><td>customer_review</td><td>Quick approval, but the repair process took longer than expected.</td></tr><tr><td>59</td><td>customer_review</td><td>Easy renewal process. No issues with my policy so far.</td></tr><tr><td>60</td><td>policy_document</td><td>Policyholders must file a claim within 30 days of an incident to be eligible for coverage.</td></tr><tr><td>61</td><td>policy_document</td><td>This policy includes liability coverage for rental vehicles during business travel.</td></tr><tr><td>62</td><td>claim_note</td><td>Claim #78345: Additional information requested from claimant. Pending response.</td></tr><tr><td>63</td><td>claim_note</td><td>Claim #89234: Investigation completed. Approved for partial payout.</td></tr><tr><td>64</td><td>customer_review</td><td>My claim was handled quickly and professionally. No complaints.</td></tr><tr><td>65</td><td>customer_review</td><td>The mobile app made it super easy to submit and track my claim.</td></tr><tr><td>66</td><td>policy_document</td><td>Exclusions: Coverage does not apply to intentional damage or illegal activities.</td></tr><tr><td>67</td><td>policy_document</td><td>Premium discounts available for policyholders with a no-claim history for 5+ years.</td></tr><tr><td>68</td><td>claim_note</td><td>Claim #47823: Adjuster completed review. Payout approved.</td></tr><tr><td>69</td><td>claim_note</td><td>Claim #89423: Denied due to lack of supporting documentation.</td></tr><tr><td>70</td><td>customer_review</td><td>Customer support was helpful, but the claim process took longer than expected.</td></tr><tr><td>71</td><td>customer_review</td><td>Very satisfied with my policy coverage and the prompt service provided.</td></tr><tr><td>72</td><td>policy_document</td><td>Policyholders can opt for extended roadside assistance at an additional cost.</td></tr><tr><td>73</td><td>policy_document</td><td>This policy covers vehicle damage due to hailstorms and other severe weather events.</td></tr><tr><td>74</td><td>claim_note</td><td>Claim #58392: Claim in review. Estimated completion within 5 business days.</td></tr><tr><td>75</td><td>claim_note</td><td>Claim #78329: Approved. Payment scheduled for next week.</td></tr><tr><td>76</td><td>customer_review</td><td>Had a minor issue with my claim, but it was resolved quickly.</td></tr><tr><td>77</td><td>customer_review</td><td>Frustrating experience trying to contact customer support. Long wait times.</td></tr><tr><td>78</td><td>policy_document</td><td>Annual policy reviews are conducted to adjust coverage based on risk assessment.</td></tr><tr><td>79</td><td>policy_document</td><td>Multi-policy discounts available for customers bundling auto and home insurance.</td></tr><tr><td>80</td><td>claim_note</td><td>Claim #47892: Additional verification required. Contacted policyholder for clarification.</td></tr><tr><td>61</td><td>policy_document</td><td>This policy includes liability coverage for rental vehicles during business travel.</td></tr><tr><td>62</td><td>claim_note</td><td>Claim #78345: Additional information requested from claimant. Pending response.</td></tr><tr><td>63</td><td>claim_note</td><td>Claim #89234: Investigation completed. Approved for partial payout.</td></tr><tr><td>64</td><td>customer_review</td><td>My claim was handled quickly and professionally. No complaints.</td></tr><tr><td>65</td><td>customer_review</td><td>The mobile app made it super easy to submit and track my claim.</td></tr><tr><td>66</td><td>policy_document</td><td>Exclusions: Coverage does not apply to intentional damage or illegal activities.</td></tr><tr><td>67</td><td>policy_document</td><td>Premium discounts available for policyholders with a no-claim history for 5+ years.</td></tr><tr><td>68</td><td>claim_note</td><td>Claim #47823: Adjuster completed review. Payout approved.</td></tr><tr><td>69</td><td>claim_note</td><td>Claim #89423: Denied due to lack of supporting documentation.</td></tr><tr><td>70</td><td>customer_review</td><td>Customer support was helpful, but the claim process took longer than expected.</td></tr><tr><td>71</td><td>customer_review</td><td>Very satisfied with my policy coverage and the prompt service provided.</td></tr><tr><td>72</td><td>policy_document</td><td>Policyholders can opt for extended roadside assistance at an additional cost.</td></tr><tr><td>73</td><td>policy_document</td><td>This policy covers vehicle damage due to hailstorms and other severe weather events.</td></tr><tr><td>74</td><td>claim_note</td><td>Claim #58392: Claim in review. Estimated completion within 5 business days.</td></tr><tr><td>75</td><td>claim_note</td><td>Claim #78329: Approved. Payment scheduled for next week.</td></tr><tr><td>76</td><td>customer_review</td><td>Had a minor issue with my claim, but it was resolved quickly.</td></tr><tr><td>77</td><td>customer_review</td><td>Frustrating experience trying to contact customer support. Long wait times.</td></tr><tr><td>78</td><td>policy_document</td><td>Annual policy reviews are conducted to adjust coverage based on risk assessment.</td></tr><tr><td>79</td><td>policy_document</td><td>Multi-policy discounts available for customers bundling auto and home insurance.</td></tr><tr><td>80</td><td>claim_note</td><td>Claim #47892: Additional verification required. Contacted policyholder for clarification.</td></tr><tr><td>81</td><td>customer_review</td><td>Extremely satisfied with the fast processing of my claim. Thank you!</td></tr><tr><td>82</td><td>customer_review</td><td>Had some issues with documentation requirements, but support was helpful.</td></tr><tr><td>83</td><td>policy_document</td><td>Coverage includes protection against uninsured and underinsured motorists.</td></tr><tr><td>84</td><td>policy_document</td><td>This policy offers optional coverage for custom vehicle modifications.</td></tr><tr><td>85</td><td>claim_note</td><td>Claim #98213: Case escalated for further review. Awaiting manager decision.</td></tr><tr><td>86</td><td>claim_note</td><td>Claim #46789: Claim resolved. Payment issued to policyholder.</td></tr><tr><td>87</td><td>customer_review</td><td>Best insurance experience I've had! Quick and hassle-free.</td></tr><tr><td>88</td><td>customer_review</td><td>Would appreciate clearer communication on claim status updates.</td></tr><tr><td>89</td><td>policy_document</td><td>New policyholders receive a 5% discount on their first year of coverage.</td></tr><tr><td>90</td><td>policy_document</td><td>Roadside assistance coverage includes towing up to 50 miles.</td></tr><tr><td>91</td><td>claim_note</td><td>Claim #56234: Under investigation for potential fraud.</td></tr><tr><td>92</td><td>claim_note</td><td>Claim #90345: Final approval granted. Payment scheduled.</td></tr><tr><td>93</td><td>customer_review</td><td>The online portal makes managing my policy super easy.</td></tr><tr><td>94</td><td>customer_review</td><td>Not satisfied with the premium hike this year. Looking for alternatives.</td></tr><tr><td>95</td><td>policy_document</td><td>Covers rental vehicle costs up to $40 per day for a maximum of 10 days.</td></tr><tr><td>96</td><td>policy_document</td><td>Medical expense coverage includes up to $10,000 per passenger.</td></tr><tr><td>97</td><td>claim_note</td><td>Claim #78321: Additional documents requested. Pending response.</td></tr><tr><td>98</td><td>claim_note</td><td>Claim #43298: Claim rejected due to policy exclusions.</td></tr><tr><td>99</td><td>customer_review</td><td>Great experience overall. Would highly recommend this insurance provider.</td></tr><tr><td>100</td><td>customer_review</td><td>Long wait times on the phone, but helpful service once connected.</td></tr></tbody></table></div>"
      ]
     },
     "metadata": {
      "application/vnd.databricks.v1+output": {
       "addedWidgets": {},
       "aggData": [],
       "aggError": "",
       "aggOverflow": false,
       "aggSchema": [],
       "aggSeriesLimitReached": false,
       "aggType": "",
       "arguments": {},
       "columnCustomDisplayInfos": {},
       "data": [
        [
         1,
         "customer_review",
         "I recently filed a claim with Rival Insurance, and the process was slower than expected. The customer service was helpful, but I had to follow up multiple times."
        ],
        [
         2,
         "customer_review",
         "Amazing experience! Rival Insurance approved my claim in just two days. Very satisfied with the service."
        ],
        [
         3,
         "customer_review",
         "Frustrating experience. My claim was denied without a clear explanation. I will consider switching providers."
        ],
        [
         4,
         "policy_document",
         "Policyholder agrees to maintain comprehensive coverage for damages not caused by collision, including theft and natural disasters."
        ],
        [
         5,
         "policy_document",
         "This insurance policy covers personal injury protection (PIP) up to $50,000 per insured person per accident."
        ],
        [
         6,
         "policy_document",
         "Exclusions: This policy does not cover damages resulting from intentional acts, fraud, or unauthorized vehicle usage."
        ],
        [
         7,
         "claim_note",
         "Claim #11234: Reviewed documents and found discrepancies in reported damages. Requested additional evidence from claimant."
        ],
        [
         8,
         "claim_note",
         "Claim #23567: Approved for payout after verification of supporting documents and repair estimates."
        ],
        [
         9,
         "claim_note",
         "Claim #34890: Denied due to policy exclusion on pre-existing damages. Notified policyholder of appeal options."
        ],
        [
         10,
         "customer_review",
         "Had to wait on hold for over an hour before speaking to a representative. Not a great experience."
        ],
        [
         11,
         "customer_review",
         "Quick and easy claims process. I would highly recommend Rival Insurance to my friends and family."
        ],
        [
         12,
         "customer_review",
         "Denied claim due to a technicality that was not clearly stated in the policy. Very frustrating!"
        ],
        [
         13,
         "policy_document",
         "Coverage includes liability for bodily injury and property damage up to the limits stated in the policy."
        ],
        [
         14,
         "policy_document",
         "Policyholders must report any accidents within 24 hours to ensure eligibility for coverage."
        ],
        [
         15,
         "policy_document",
         "Additional riders available for extended coverage on high-value assets, subject to approval."
        ],
        [
         16,
         "claim_note",
         "Claim #78456: Investigation completed, claim approved. Payment to be processed within 5 business days."
        ],
        [
         17,
         "claim_note",
         "Claim #98213: Initial assessment shows possible fraudulent activity. Sent to the fraud department for review."
        ],
        [
         18,
         "claim_note",
         "Claim #65784: Incomplete documentation received. Followed up with policyholder for additional paperwork."
        ],
        [
         19,
         "customer_review",
         "Filing a claim online was easy, but the response time was longer than expected."
        ],
        [
         20,
         "customer_review",
         "Appreciate the 24/7 customer support. The rep was very helpful in explaining my coverage."
        ],
        [
         null,
         "category",
         "text"
        ],
        [
         1,
         "customer_review",
         "I recently filed a claim with Rival Insurance, and the process was slower than expected. The customer service was helpful, but I had to follow up multiple times."
        ],
        [
         2,
         "customer_review",
         "Amazing experience! Rival Insurance approved my claim in just two days. Very satisfied with the service."
        ],
        [
         3,
         "customer_review",
         "Frustrating experience. My claim was denied without a clear explanation. I will consider switching providers."
        ],
        [
         4,
         "policy_document",
         "Policyholder agrees to maintain comprehensive coverage for damages not caused by collision, including theft and natural disasters."
        ],
        [
         5,
         "policy_document",
         "This insurance policy covers personal injury protection (PIP) up to $50,000 per insured person per accident."
        ],
        [
         6,
         "policy_document",
         "Exclusions: This policy does not cover damages resulting from intentional acts, fraud, or unauthorized vehicle usage."
        ],
        [
         7,
         "claim_note",
         "Claim #11234: Reviewed documents and found discrepancies in reported damages. Requested additional evidence from claimant."
        ],
        [
         8,
         "claim_note",
         "Claim #23567: Approved for payout after verification of supporting documents and repair estimates."
        ],
        [
         9,
         "claim_note",
         "Claim #34890: Denied due to policy exclusion on pre-existing damages. Notified policyholder of appeal options."
        ],
        [
         10,
         "customer_review",
         "Had to wait on hold for over an hour before speaking to a representative. Not a great experience."
        ],
        [
         11,
         "customer_review",
         "Quick and easy claims process. I would highly recommend Rival Insurance to my friends and family."
        ],
        [
         12,
         "customer_review",
         "Denied claim due to a technicality that was not clearly stated in the policy. Very frustrating!"
        ],
        [
         13,
         "policy_document",
         "Coverage includes liability for bodily injury and property damage up to the limits stated in the policy."
        ],
        [
         14,
         "policy_document",
         "Policyholders must report any accidents within 24 hours to ensure eligibility for coverage."
        ],
        [
         15,
         "policy_document",
         "Additional riders available for extended coverage on high-value assets, subject to approval."
        ],
        [
         16,
         "claim_note",
         "Claim #78456: Investigation completed, claim approved. Payment to be processed within 5 business days."
        ],
        [
         17,
         "claim_note",
         "Claim #98213: Initial assessment shows possible fraudulent activity. Sent to the fraud department for review."
        ],
        [
         18,
         "claim_note",
         "Claim #65784: Incomplete documentation received. Followed up with policyholder for additional paperwork."
        ],
        [
         19,
         "customer_review",
         "Filing a claim online was easy, but the response time was longer than expected."
        ],
        [
         20,
         "customer_review",
         "Appreciate the 24/7 customer support. The rep was very helpful in explaining my coverage."
        ],
        [
         21,
         "customer_review",
         "The app is user-friendly, and I was able to track my claim in real-time."
        ],
        [
         22,
         "customer_review",
         "Denied my claim despite having all the required documents. Will not renew my policy."
        ],
        [
         23,
         "policy_document",
         "This policy includes rental car reimbursement for up to $40 per day."
        ],
        [
         24,
         "policy_document",
         "Premium adjustments will be made annually based on claim history and risk assessment."
        ],
        [
         25,
         "claim_note",
         "Claim #12987: Under review. Awaiting third-party verification of reported damages."
        ],
        [
         26,
         "claim_note",
         "Claim #56789: Payment approved, issued to policyholder."
        ],
        [
         27,
         "claim_note",
         "Claim #34762: Adjuster scheduled to inspect vehicle damages on-site."
        ],
        [
         28,
         "customer_review",
         "Rival Insurance resolved my issue efficiently. Very happy with their customer support."
        ],
        [
         29,
         "customer_review",
         "Terrible experience. Had to escalate my claim multiple times."
        ],
        [
         30,
         "policy_document",
         "Coverage for natural disasters includes hurricanes, tornadoes, and wildfires."
        ],
        [
         31,
         "policy_document",
         "Policyholders are required to notify the company of any address changes within 30 days."
        ],
        [
         32,
         "claim_note",
         "Claim #89456: Delayed due to missing documentation. Notified policyholder."
        ],
        [
         33,
         "claim_note",
         "Claim #45783: Adjuster report submitted. Pending final approval."
        ],
        [
         34,
         "customer_review",
         "Great experience with Rival Insurance! They handled my claim quickly and professionally."
        ],
        [
         35,
         "customer_review",
         "Still waiting on claim resolution after three weeks. Not satisfied."
        ],
        [
         36,
         "policy_document",
         "Comprehensive policies include roadside assistance up to 3 service calls per year."
        ],
        [
         37,
         "policy_document",
         "This policy does not cover mechanical failures due to wear and tear."
        ],
        [
         38,
         "claim_note",
         "Claim #23984: Policyholder requested reconsideration. Under review."
        ],
        [
         39,
         "claim_note",
         "Claim #56473: Fraudulent activity detected. Claim denied."
        ],
        [
         40,
         "customer_review",
         "Filed a claim through the mobile app. Process was smooth and easy."
        ],
        [
         41,
         "customer_review",
         "Very difficult to reach customer service. Not happy with response times."
        ],
        [
         42,
         "policy_document",
         "Windshield replacement is covered under comprehensive insurance with no deductible."
        ],
        [
         43,
         "policy_document",
         "Pet injury coverage included for up to $1,000 in medical expenses."
        ],
        [
         44,
         "claim_note",
         "Claim #38945: Initial payout approved. Funds to be disbursed soon."
        ],
        [
         45,
         "claim_note",
         "Claim #17638: Rejected due to lack of sufficient evidence."
        ],
        [
         46,
         "customer_review",
         "Overall good service, but claim processing took longer than expected."
        ],
        [
         47,
         "customer_review",
         "I appreciate the easy online claim submission process. Very convenient."
        ],
        [
         48,
         "policy_document",
         "The policy provides emergency accommodation coverage for policyholders stranded due to accidents."
        ],
        [
         49,
         "policy_document",
         "Coverage includes damage caused by uninsured motorists, subject to policy limits."
        ],
        [
         50,
         "claim_note",
         "Claim #56712: Additional documentation received. Claim reassessed and approved for payout."
        ],
        [
         50,
         "claim_note",
         "Claim #56712: Additional documentation received. Claim reassessed and approved for payout."
        ],
        [
         51,
         "customer_review",
         "Great customer service! My agent was very helpful and explained everything clearly."
        ],
        [
         52,
         "customer_review",
         "Not happy with the premium increase this year. Looking for other options."
        ],
        [
         53,
         "policy_document",
         "Deductibles vary based on the type of claim and policy terms."
        ],
        [
         54,
         "policy_document",
         "Policyholders can bundle home and auto insurance for discounted rates."
        ],
        [
         55,
         "claim_note",
         "Claim #67234: Investigation pending. Adjuster scheduled for next week."
        ],
        [
         56,
         "claim_note",
         "Claim #98234: Approved, waiting on policyholder’s response for payout method."
        ],
        [
         57,
         "claim_note",
         "Claim #12345: Denied due to insufficient documentation. Appeal process explained to policyholder."
        ],
        [
         58,
         "customer_review",
         "Quick approval, but the repair process took longer than expected."
        ],
        [
         59,
         "customer_review",
         "Easy renewal process. No issues with my policy so far."
        ],
        [
         60,
         "policy_document",
         "Policyholders must file a claim within 30 days of an incident to be eligible for coverage."
        ],
        [
         61,
         "policy_document",
         "This policy includes liability coverage for rental vehicles during business travel."
        ],
        [
         62,
         "claim_note",
         "Claim #78345: Additional information requested from claimant. Pending response."
        ],
        [
         63,
         "claim_note",
         "Claim #89234: Investigation completed. Approved for partial payout."
        ],
        [
         64,
         "customer_review",
         "My claim was handled quickly and professionally. No complaints."
        ],
        [
         65,
         "customer_review",
         "The mobile app made it super easy to submit and track my claim."
        ],
        [
         66,
         "policy_document",
         "Exclusions: Coverage does not apply to intentional damage or illegal activities."
        ],
        [
         67,
         "policy_document",
         "Premium discounts available for policyholders with a no-claim history for 5+ years."
        ],
        [
         68,
         "claim_note",
         "Claim #47823: Adjuster completed review. Payout approved."
        ],
        [
         69,
         "claim_note",
         "Claim #89423: Denied due to lack of supporting documentation."
        ],
        [
         70,
         "customer_review",
         "Customer support was helpful, but the claim process took longer than expected."
        ],
        [
         71,
         "customer_review",
         "Very satisfied with my policy coverage and the prompt service provided."
        ],
        [
         72,
         "policy_document",
         "Policyholders can opt for extended roadside assistance at an additional cost."
        ],
        [
         73,
         "policy_document",
         "This policy covers vehicle damage due to hailstorms and other severe weather events."
        ],
        [
         74,
         "claim_note",
         "Claim #58392: Claim in review. Estimated completion within 5 business days."
        ],
        [
         75,
         "claim_note",
         "Claim #78329: Approved. Payment scheduled for next week."
        ],
        [
         76,
         "customer_review",
         "Had a minor issue with my claim, but it was resolved quickly."
        ],
        [
         77,
         "customer_review",
         "Frustrating experience trying to contact customer support. Long wait times."
        ],
        [
         78,
         "policy_document",
         "Annual policy reviews are conducted to adjust coverage based on risk assessment."
        ],
        [
         79,
         "policy_document",
         "Multi-policy discounts available for customers bundling auto and home insurance."
        ],
        [
         80,
         "claim_note",
         "Claim #47892: Additional verification required. Contacted policyholder for clarification."
        ],
        [
         61,
         "policy_document",
         "This policy includes liability coverage for rental vehicles during business travel."
        ],
        [
         62,
         "claim_note",
         "Claim #78345: Additional information requested from claimant. Pending response."
        ],
        [
         63,
         "claim_note",
         "Claim #89234: Investigation completed. Approved for partial payout."
        ],
        [
         64,
         "customer_review",
         "My claim was handled quickly and professionally. No complaints."
        ],
        [
         65,
         "customer_review",
         "The mobile app made it super easy to submit and track my claim."
        ],
        [
         66,
         "policy_document",
         "Exclusions: Coverage does not apply to intentional damage or illegal activities."
        ],
        [
         67,
         "policy_document",
         "Premium discounts available for policyholders with a no-claim history for 5+ years."
        ],
        [
         68,
         "claim_note",
         "Claim #47823: Adjuster completed review. Payout approved."
        ],
        [
         69,
         "claim_note",
         "Claim #89423: Denied due to lack of supporting documentation."
        ],
        [
         70,
         "customer_review",
         "Customer support was helpful, but the claim process took longer than expected."
        ],
        [
         71,
         "customer_review",
         "Very satisfied with my policy coverage and the prompt service provided."
        ],
        [
         72,
         "policy_document",
         "Policyholders can opt for extended roadside assistance at an additional cost."
        ],
        [
         73,
         "policy_document",
         "This policy covers vehicle damage due to hailstorms and other severe weather events."
        ],
        [
         74,
         "claim_note",
         "Claim #58392: Claim in review. Estimated completion within 5 business days."
        ],
        [
         75,
         "claim_note",
         "Claim #78329: Approved. Payment scheduled for next week."
        ],
        [
         76,
         "customer_review",
         "Had a minor issue with my claim, but it was resolved quickly."
        ],
        [
         77,
         "customer_review",
         "Frustrating experience trying to contact customer support. Long wait times."
        ],
        [
         78,
         "policy_document",
         "Annual policy reviews are conducted to adjust coverage based on risk assessment."
        ],
        [
         79,
         "policy_document",
         "Multi-policy discounts available for customers bundling auto and home insurance."
        ],
        [
         80,
         "claim_note",
         "Claim #47892: Additional verification required. Contacted policyholder for clarification."
        ],
        [
         81,
         "customer_review",
         "Extremely satisfied with the fast processing of my claim. Thank you!"
        ],
        [
         82,
         "customer_review",
         "Had some issues with documentation requirements, but support was helpful."
        ],
        [
         83,
         "policy_document",
         "Coverage includes protection against uninsured and underinsured motorists."
        ],
        [
         84,
         "policy_document",
         "This policy offers optional coverage for custom vehicle modifications."
        ],
        [
         85,
         "claim_note",
         "Claim #98213: Case escalated for further review. Awaiting manager decision."
        ],
        [
         86,
         "claim_note",
         "Claim #46789: Claim resolved. Payment issued to policyholder."
        ],
        [
         87,
         "customer_review",
         "Best insurance experience I've had! Quick and hassle-free."
        ],
        [
         88,
         "customer_review",
         "Would appreciate clearer communication on claim status updates."
        ],
        [
         89,
         "policy_document",
         "New policyholders receive a 5% discount on their first year of coverage."
        ],
        [
         90,
         "policy_document",
         "Roadside assistance coverage includes towing up to 50 miles."
        ],
        [
         91,
         "claim_note",
         "Claim #56234: Under investigation for potential fraud."
        ],
        [
         92,
         "claim_note",
         "Claim #90345: Final approval granted. Payment scheduled."
        ],
        [
         93,
         "customer_review",
         "The online portal makes managing my policy super easy."
        ],
        [
         94,
         "customer_review",
         "Not satisfied with the premium hike this year. Looking for alternatives."
        ],
        [
         95,
         "policy_document",
         "Covers rental vehicle costs up to $40 per day for a maximum of 10 days."
        ],
        [
         96,
         "policy_document",
         "Medical expense coverage includes up to $10,000 per passenger."
        ],
        [
         97,
         "claim_note",
         "Claim #78321: Additional documents requested. Pending response."
        ],
        [
         98,
         "claim_note",
         "Claim #43298: Claim rejected due to policy exclusions."
        ],
        [
         99,
         "customer_review",
         "Great experience overall. Would highly recommend this insurance provider."
        ],
        [
         100,
         "customer_review",
         "Long wait times on the phone, but helpful service once connected."
        ]
       ],
       "datasetInfos": [],
       "dbfsResultPath": null,
       "isJsonSchema": true,
       "metadata": {},
       "overflow": false,
       "plotOptions": {
        "customPlotOptions": {},
        "displayType": "table",
        "pivotAggregation": null,
        "pivotColumns": null,
        "xColumns": null,
        "yColumns": null
       },
       "removedWidgets": [],
       "schema": [
        {
         "metadata": "{}",
         "name": "id",
         "type": "\"integer\""
        },
        {
         "metadata": "{}",
         "name": "category",
         "type": "\"string\""
        },
        {
         "metadata": "{}",
         "name": "text",
         "type": "\"string\""
        }
       ],
       "type": "table"
      }
     },
     "output_type": "display_data"
    }
   ],
   "source": [
    "from pyspark.sql import SparkSession\n",
    "\n",
    "# Load raw CSV data\n",
    "raw_df = spark.read.format(\"csv\").option(\"header\", \"true\").option(\"inferSchema\", \"true\").load(\"/mnt/raw/AI Data Developer Technical Challenge - Sample Raw Data.csv\")\n",
    "\n",
    "# Store in Bronze layer\n",
    "raw_df.write.format(\"delta\").mode(\"overwrite\").save(\"dbfs:/mnt/bronze/raw_text_data\")\n",
    "\n",
    "display(raw_df)\n"
   ]
  },
  {
   "cell_type": "code",
   "execution_count": 0,
   "metadata": {
    "application/vnd.databricks.v1+cell": {
     "cellMetadata": {
      "byteLimit": 2048000,
      "rowLimit": 10000
     },
     "inputWidgets": {},
     "nuid": "bc1cc15e-99e8-42b1-aea4-2215a9a13197",
     "showTitle": false,
     "tableResultSettingsMap": {},
     "title": ""
    }
   },
   "outputs": [
    {
     "data": {
      "text/html": [
       "<style scoped>\n",
       "  .table-result-container {\n",
       "    max-height: 300px;\n",
       "    overflow: auto;\n",
       "  }\n",
       "  table, th, td {\n",
       "    border: 1px solid black;\n",
       "    border-collapse: collapse;\n",
       "  }\n",
       "  th, td {\n",
       "    padding: 5px;\n",
       "  }\n",
       "  th {\n",
       "    text-align: left;\n",
       "  }\n",
       "</style><div class='table-result-container'><table class='table-result'><thead style='background-color: white'><tr><th>id</th><th>category</th><th>text</th></tr></thead><tbody><tr><td>34</td><td>customer_review</td><td>great experience with rival insurance they handled my claim quickly and professionally</td></tr><tr><td>44</td><td>claim_note</td><td>claim 38945 initial payout approved funds to be disbursed soon</td></tr><tr><td>26</td><td>claim_note</td><td>claim 56789 payment approved issued to policyholder</td></tr><tr><td>77</td><td>customer_review</td><td>frustrating experience trying to contact customer support long wait times</td></tr><tr><td>88</td><td>customer_review</td><td>would appreciate clearer communication on claim status updates</td></tr><tr><td>96</td><td>policy_document</td><td>medical expense coverage includes up to 10000 per passenger</td></tr><tr><td>92</td><td>claim_note</td><td>claim 90345 final approval granted payment scheduled</td></tr><tr><td>90</td><td>policy_document</td><td>roadside assistance coverage includes towing up to 50 miles</td></tr><tr><td>81</td><td>customer_review</td><td>extremely satisfied with the fast processing of my claim thank you</td></tr><tr><td>55</td><td>claim_note</td><td>claim 67234 investigation pending adjuster scheduled for next week</td></tr><tr><td>66</td><td>policy_document</td><td>exclusions coverage does not apply to intentional damage or illegal activities</td></tr><tr><td>53</td><td>policy_document</td><td>deductibles vary based on the type of claim and policy terms</td></tr><tr><td>71</td><td>customer_review</td><td>very satisfied with my policy coverage and the prompt service provided</td></tr><tr><td>19</td><td>customer_review</td><td>filing a claim online was easy but the response time was longer than expected</td></tr><tr><td>7</td><td>claim_note</td><td>claim 11234 reviewed documents and found discrepancies in reported damages requested additional evidence from claimant</td></tr><tr><td>78</td><td>policy_document</td><td>annual policy reviews are conducted to adjust coverage based on risk assessment</td></tr><tr><td>2</td><td>customer_review</td><td>amazing experience rival insurance approved my claim in just two days very satisfied with the service</td></tr><tr><td>47</td><td>customer_review</td><td>i appreciate the easy online claim submission process very convenient</td></tr><tr><td>61</td><td>policy_document</td><td>this policy includes liability coverage for rental vehicles during business travel</td></tr><tr><td>58</td><td>customer_review</td><td>quick approval but the repair process took longer than expected</td></tr><tr><td>72</td><td>policy_document</td><td>policyholders can opt for extended roadside assistance at an additional cost</td></tr><tr><td>5</td><td>policy_document</td><td>this insurance policy covers personal injury protection pip up to 50000 per insured person per accident</td></tr><tr><td>8</td><td>claim_note</td><td>claim 23567 approved for payout after verification of supporting documents and repair estimates</td></tr><tr><td>49</td><td>policy_document</td><td>coverage includes damage caused by uninsured motorists subject to policy limits</td></tr><tr><td>68</td><td>claim_note</td><td>claim 47823 adjuster completed review payout approved</td></tr><tr><td>95</td><td>policy_document</td><td>covers rental vehicle costs up to 40 per day for a maximum of 10 days</td></tr><tr><td>33</td><td>claim_note</td><td>claim 45783 adjuster report submitted pending final approval</td></tr><tr><td>21</td><td>customer_review</td><td>the app is userfriendly and i was able to track my claim in realtime</td></tr><tr><td>89</td><td>policy_document</td><td>new policyholders receive a 5 discount on their first year of coverage</td></tr><tr><td>23</td><td>policy_document</td><td>this policy includes rental car reimbursement for up to 40 per day</td></tr><tr><td>43</td><td>policy_document</td><td>pet injury coverage included for up to 1000 in medical expenses</td></tr><tr><td>75</td><td>claim_note</td><td>claim 78329 approved payment scheduled for next week</td></tr><tr><td>45</td><td>claim_note</td><td>claim 17638 rejected due to lack of sufficient evidence</td></tr><tr><td>69</td><td>claim_note</td><td>claim 89423 denied due to lack of supporting documentation</td></tr><tr><td>70</td><td>customer_review</td><td>customer support was helpful but the claim process took longer than expected</td></tr><tr><td>38</td><td>claim_note</td><td>claim 23984 policyholder requested reconsideration under review</td></tr><tr><td>29</td><td>customer_review</td><td>terrible experience had to escalate my claim multiple times</td></tr><tr><td>46</td><td>customer_review</td><td>overall good service but claim processing took longer than expected</td></tr><tr><td>74</td><td>claim_note</td><td>claim 58392 claim in review estimated completion within 5 business days</td></tr><tr><td>36</td><td>policy_document</td><td>comprehensive policies include roadside assistance up to 3 service calls per year</td></tr><tr><td>60</td><td>policy_document</td><td>policyholders must file a claim within 30 days of an incident to be eligible for coverage</td></tr><tr><td>84</td><td>policy_document</td><td>this policy offers optional coverage for custom vehicle modifications</td></tr><tr><td>99</td><td>customer_review</td><td>great experience overall would highly recommend this insurance provider</td></tr><tr><td>41</td><td>customer_review</td><td>very difficult to reach customer service not happy with response times</td></tr><tr><td>13</td><td>policy_document</td><td>coverage includes liability for bodily injury and property damage up to the limits stated in the policy</td></tr><tr><td>51</td><td>customer_review</td><td>great customer service my agent was very helpful and explained everything clearly</td></tr><tr><td>86</td><td>claim_note</td><td>claim 46789 claim resolved payment issued to policyholder</td></tr><tr><td>40</td><td>customer_review</td><td>filed a claim through the mobile app process was smooth and easy</td></tr><tr><td>10</td><td>customer_review</td><td>had to wait on hold for over an hour before speaking to a representative not a great experience</td></tr><tr><td>83</td><td>policy_document</td><td>coverage includes protection against uninsured and underinsured motorists</td></tr><tr><td>27</td><td>claim_note</td><td>claim 34762 adjuster scheduled to inspect vehicle damages onsite</td></tr><tr><td>65</td><td>customer_review</td><td>the mobile app made it super easy to submit and track my claim</td></tr><tr><td>18</td><td>claim_note</td><td>claim 65784 incomplete documentation received followed up with policyholder for additional paperwork</td></tr><tr><td>16</td><td>claim_note</td><td>claim 78456 investigation completed claim approved payment to be processed within 5 business days</td></tr><tr><td>63</td><td>claim_note</td><td>claim 89234 investigation completed approved for partial payout</td></tr><tr><td>9</td><td>claim_note</td><td>claim 34890 denied due to policy exclusion on preexisting damages notified policyholder of appeal options</td></tr><tr><td>37</td><td>policy_document</td><td>this policy does not cover mechanical failures due to wear and tear</td></tr><tr><td>52</td><td>customer_review</td><td>not happy with the premium increase this year looking for other options</td></tr><tr><td>67</td><td>policy_document</td><td>premium discounts available for policyholders with a noclaim history for 5 years</td></tr><tr><td>64</td><td>customer_review</td><td>my claim was handled quickly and professionally no complaints</td></tr><tr><td>97</td><td>claim_note</td><td>claim 78321 additional documents requested pending response</td></tr><tr><td>15</td><td>policy_document</td><td>additional riders available for extended coverage on highvalue assets subject to approval</td></tr><tr><td>30</td><td>policy_document</td><td>coverage for natural disasters includes hurricanes tornadoes and wildfires</td></tr><tr><td>6</td><td>policy_document</td><td>exclusions this policy does not cover damages resulting from intentional acts fraud or unauthorized vehicle usage</td></tr><tr><td>42</td><td>policy_document</td><td>windshield replacement is covered under comprehensive insurance with no deductible</td></tr><tr><td>32</td><td>claim_note</td><td>claim 89456 delayed due to missing documentation notified policyholder</td></tr><tr><td>80</td><td>claim_note</td><td>claim 47892 additional verification required contacted policyholder for clarification</td></tr><tr><td>39</td><td>claim_note</td><td>claim 56473 fraudulent activity detected claim denied</td></tr><tr><td>76</td><td>customer_review</td><td>had a minor issue with my claim but it was resolved quickly</td></tr><tr><td>4</td><td>policy_document</td><td>policyholder agrees to maintain comprehensive coverage for damages not caused by collision including theft and natural disasters</td></tr><tr><td>25</td><td>claim_note</td><td>claim 12987 under review awaiting thirdparty verification of reported damages</td></tr><tr><td>1</td><td>customer_review</td><td>i recently filed a claim with rival insurance and the process was slower than expected the customer service was helpful but i had to follow up multiple times</td></tr><tr><td>62</td><td>claim_note</td><td>claim 78345 additional information requested from claimant pending response</td></tr><tr><td>73</td><td>policy_document</td><td>this policy covers vehicle damage due to hailstorms and other severe weather events</td></tr><tr><td>null</td><td>category</td><td>text</td></tr><tr><td>94</td><td>customer_review</td><td>not satisfied with the premium hike this year looking for alternatives</td></tr><tr><td>28</td><td>customer_review</td><td>rival insurance resolved my issue efficiently very happy with their customer support</td></tr><tr><td>50</td><td>claim_note</td><td>claim 56712 additional documentation received claim reassessed and approved for payout</td></tr><tr><td>87</td><td>customer_review</td><td>best insurance experience ive had quick and hasslefree</td></tr><tr><td>98</td><td>claim_note</td><td>claim 43298 claim rejected due to policy exclusions</td></tr><tr><td>11</td><td>customer_review</td><td>quick and easy claims process i would highly recommend rival insurance to my friends and family</td></tr><tr><td>59</td><td>customer_review</td><td>easy renewal process no issues with my policy so far</td></tr><tr><td>54</td><td>policy_document</td><td>policyholders can bundle home and auto insurance for discounted rates</td></tr><tr><td>91</td><td>claim_note</td><td>claim 56234 under investigation for potential fraud</td></tr><tr><td>14</td><td>policy_document</td><td>policyholders must report any accidents within 24 hours to ensure eligibility for coverage</td></tr><tr><td>12</td><td>customer_review</td><td>denied claim due to a technicality that was not clearly stated in the policy very frustrating</td></tr><tr><td>93</td><td>customer_review</td><td>the online portal makes managing my policy super easy</td></tr><tr><td>31</td><td>policy_document</td><td>policyholders are required to notify the company of any address changes within 30 days</td></tr><tr><td>56</td><td>claim_note</td><td>claim 98234 approved waiting on policyholders response for payout method</td></tr><tr><td>100</td><td>customer_review</td><td>long wait times on the phone but helpful service once connected</td></tr><tr><td>17</td><td>claim_note</td><td>claim 98213 initial assessment shows possible fraudulent activity sent to the fraud department for review</td></tr><tr><td>22</td><td>customer_review</td><td>denied my claim despite having all the required documents will not renew my policy</td></tr><tr><td>35</td><td>customer_review</td><td>still waiting on claim resolution after three weeks not satisfied</td></tr><tr><td>79</td><td>policy_document</td><td>multipolicy discounts available for customers bundling auto and home insurance</td></tr><tr><td>57</td><td>claim_note</td><td>claim 12345 denied due to insufficient documentation appeal process explained to policyholder</td></tr><tr><td>85</td><td>claim_note</td><td>claim 98213 case escalated for further review awaiting manager decision</td></tr><tr><td>82</td><td>customer_review</td><td>had some issues with documentation requirements but support was helpful</td></tr><tr><td>20</td><td>customer_review</td><td>appreciate the 247 customer support the rep was very helpful in explaining my coverage</td></tr><tr><td>48</td><td>policy_document</td><td>the policy provides emergency accommodation coverage for policyholders stranded due to accidents</td></tr><tr><td>24</td><td>policy_document</td><td>premium adjustments will be made annually based on claim history and risk assessment</td></tr><tr><td>3</td><td>customer_review</td><td>frustrating experience my claim was denied without a clear explanation i will consider switching providers</td></tr></tbody></table></div>"
      ]
     },
     "metadata": {
      "application/vnd.databricks.v1+output": {
       "addedWidgets": {},
       "aggData": [],
       "aggError": "",
       "aggOverflow": false,
       "aggSchema": [],
       "aggSeriesLimitReached": false,
       "aggType": "",
       "arguments": {},
       "columnCustomDisplayInfos": {},
       "data": [
        [
         34,
         "customer_review",
         "great experience with rival insurance they handled my claim quickly and professionally"
        ],
        [
         44,
         "claim_note",
         "claim 38945 initial payout approved funds to be disbursed soon"
        ],
        [
         26,
         "claim_note",
         "claim 56789 payment approved issued to policyholder"
        ],
        [
         77,
         "customer_review",
         "frustrating experience trying to contact customer support long wait times"
        ],
        [
         88,
         "customer_review",
         "would appreciate clearer communication on claim status updates"
        ],
        [
         96,
         "policy_document",
         "medical expense coverage includes up to 10000 per passenger"
        ],
        [
         92,
         "claim_note",
         "claim 90345 final approval granted payment scheduled"
        ],
        [
         90,
         "policy_document",
         "roadside assistance coverage includes towing up to 50 miles"
        ],
        [
         81,
         "customer_review",
         "extremely satisfied with the fast processing of my claim thank you"
        ],
        [
         55,
         "claim_note",
         "claim 67234 investigation pending adjuster scheduled for next week"
        ],
        [
         66,
         "policy_document",
         "exclusions coverage does not apply to intentional damage or illegal activities"
        ],
        [
         53,
         "policy_document",
         "deductibles vary based on the type of claim and policy terms"
        ],
        [
         71,
         "customer_review",
         "very satisfied with my policy coverage and the prompt service provided"
        ],
        [
         19,
         "customer_review",
         "filing a claim online was easy but the response time was longer than expected"
        ],
        [
         7,
         "claim_note",
         "claim 11234 reviewed documents and found discrepancies in reported damages requested additional evidence from claimant"
        ],
        [
         78,
         "policy_document",
         "annual policy reviews are conducted to adjust coverage based on risk assessment"
        ],
        [
         2,
         "customer_review",
         "amazing experience rival insurance approved my claim in just two days very satisfied with the service"
        ],
        [
         47,
         "customer_review",
         "i appreciate the easy online claim submission process very convenient"
        ],
        [
         61,
         "policy_document",
         "this policy includes liability coverage for rental vehicles during business travel"
        ],
        [
         58,
         "customer_review",
         "quick approval but the repair process took longer than expected"
        ],
        [
         72,
         "policy_document",
         "policyholders can opt for extended roadside assistance at an additional cost"
        ],
        [
         5,
         "policy_document",
         "this insurance policy covers personal injury protection pip up to 50000 per insured person per accident"
        ],
        [
         8,
         "claim_note",
         "claim 23567 approved for payout after verification of supporting documents and repair estimates"
        ],
        [
         49,
         "policy_document",
         "coverage includes damage caused by uninsured motorists subject to policy limits"
        ],
        [
         68,
         "claim_note",
         "claim 47823 adjuster completed review payout approved"
        ],
        [
         95,
         "policy_document",
         "covers rental vehicle costs up to 40 per day for a maximum of 10 days"
        ],
        [
         33,
         "claim_note",
         "claim 45783 adjuster report submitted pending final approval"
        ],
        [
         21,
         "customer_review",
         "the app is userfriendly and i was able to track my claim in realtime"
        ],
        [
         89,
         "policy_document",
         "new policyholders receive a 5 discount on their first year of coverage"
        ],
        [
         23,
         "policy_document",
         "this policy includes rental car reimbursement for up to 40 per day"
        ],
        [
         43,
         "policy_document",
         "pet injury coverage included for up to 1000 in medical expenses"
        ],
        [
         75,
         "claim_note",
         "claim 78329 approved payment scheduled for next week"
        ],
        [
         45,
         "claim_note",
         "claim 17638 rejected due to lack of sufficient evidence"
        ],
        [
         69,
         "claim_note",
         "claim 89423 denied due to lack of supporting documentation"
        ],
        [
         70,
         "customer_review",
         "customer support was helpful but the claim process took longer than expected"
        ],
        [
         38,
         "claim_note",
         "claim 23984 policyholder requested reconsideration under review"
        ],
        [
         29,
         "customer_review",
         "terrible experience had to escalate my claim multiple times"
        ],
        [
         46,
         "customer_review",
         "overall good service but claim processing took longer than expected"
        ],
        [
         74,
         "claim_note",
         "claim 58392 claim in review estimated completion within 5 business days"
        ],
        [
         36,
         "policy_document",
         "comprehensive policies include roadside assistance up to 3 service calls per year"
        ],
        [
         60,
         "policy_document",
         "policyholders must file a claim within 30 days of an incident to be eligible for coverage"
        ],
        [
         84,
         "policy_document",
         "this policy offers optional coverage for custom vehicle modifications"
        ],
        [
         99,
         "customer_review",
         "great experience overall would highly recommend this insurance provider"
        ],
        [
         41,
         "customer_review",
         "very difficult to reach customer service not happy with response times"
        ],
        [
         13,
         "policy_document",
         "coverage includes liability for bodily injury and property damage up to the limits stated in the policy"
        ],
        [
         51,
         "customer_review",
         "great customer service my agent was very helpful and explained everything clearly"
        ],
        [
         86,
         "claim_note",
         "claim 46789 claim resolved payment issued to policyholder"
        ],
        [
         40,
         "customer_review",
         "filed a claim through the mobile app process was smooth and easy"
        ],
        [
         10,
         "customer_review",
         "had to wait on hold for over an hour before speaking to a representative not a great experience"
        ],
        [
         83,
         "policy_document",
         "coverage includes protection against uninsured and underinsured motorists"
        ],
        [
         27,
         "claim_note",
         "claim 34762 adjuster scheduled to inspect vehicle damages onsite"
        ],
        [
         65,
         "customer_review",
         "the mobile app made it super easy to submit and track my claim"
        ],
        [
         18,
         "claim_note",
         "claim 65784 incomplete documentation received followed up with policyholder for additional paperwork"
        ],
        [
         16,
         "claim_note",
         "claim 78456 investigation completed claim approved payment to be processed within 5 business days"
        ],
        [
         63,
         "claim_note",
         "claim 89234 investigation completed approved for partial payout"
        ],
        [
         9,
         "claim_note",
         "claim 34890 denied due to policy exclusion on preexisting damages notified policyholder of appeal options"
        ],
        [
         37,
         "policy_document",
         "this policy does not cover mechanical failures due to wear and tear"
        ],
        [
         52,
         "customer_review",
         "not happy with the premium increase this year looking for other options"
        ],
        [
         67,
         "policy_document",
         "premium discounts available for policyholders with a noclaim history for 5 years"
        ],
        [
         64,
         "customer_review",
         "my claim was handled quickly and professionally no complaints"
        ],
        [
         97,
         "claim_note",
         "claim 78321 additional documents requested pending response"
        ],
        [
         15,
         "policy_document",
         "additional riders available for extended coverage on highvalue assets subject to approval"
        ],
        [
         30,
         "policy_document",
         "coverage for natural disasters includes hurricanes tornadoes and wildfires"
        ],
        [
         6,
         "policy_document",
         "exclusions this policy does not cover damages resulting from intentional acts fraud or unauthorized vehicle usage"
        ],
        [
         42,
         "policy_document",
         "windshield replacement is covered under comprehensive insurance with no deductible"
        ],
        [
         32,
         "claim_note",
         "claim 89456 delayed due to missing documentation notified policyholder"
        ],
        [
         80,
         "claim_note",
         "claim 47892 additional verification required contacted policyholder for clarification"
        ],
        [
         39,
         "claim_note",
         "claim 56473 fraudulent activity detected claim denied"
        ],
        [
         76,
         "customer_review",
         "had a minor issue with my claim but it was resolved quickly"
        ],
        [
         4,
         "policy_document",
         "policyholder agrees to maintain comprehensive coverage for damages not caused by collision including theft and natural disasters"
        ],
        [
         25,
         "claim_note",
         "claim 12987 under review awaiting thirdparty verification of reported damages"
        ],
        [
         1,
         "customer_review",
         "i recently filed a claim with rival insurance and the process was slower than expected the customer service was helpful but i had to follow up multiple times"
        ],
        [
         62,
         "claim_note",
         "claim 78345 additional information requested from claimant pending response"
        ],
        [
         73,
         "policy_document",
         "this policy covers vehicle damage due to hailstorms and other severe weather events"
        ],
        [
         null,
         "category",
         "text"
        ],
        [
         94,
         "customer_review",
         "not satisfied with the premium hike this year looking for alternatives"
        ],
        [
         28,
         "customer_review",
         "rival insurance resolved my issue efficiently very happy with their customer support"
        ],
        [
         50,
         "claim_note",
         "claim 56712 additional documentation received claim reassessed and approved for payout"
        ],
        [
         87,
         "customer_review",
         "best insurance experience ive had quick and hasslefree"
        ],
        [
         98,
         "claim_note",
         "claim 43298 claim rejected due to policy exclusions"
        ],
        [
         11,
         "customer_review",
         "quick and easy claims process i would highly recommend rival insurance to my friends and family"
        ],
        [
         59,
         "customer_review",
         "easy renewal process no issues with my policy so far"
        ],
        [
         54,
         "policy_document",
         "policyholders can bundle home and auto insurance for discounted rates"
        ],
        [
         91,
         "claim_note",
         "claim 56234 under investigation for potential fraud"
        ],
        [
         14,
         "policy_document",
         "policyholders must report any accidents within 24 hours to ensure eligibility for coverage"
        ],
        [
         12,
         "customer_review",
         "denied claim due to a technicality that was not clearly stated in the policy very frustrating"
        ],
        [
         93,
         "customer_review",
         "the online portal makes managing my policy super easy"
        ],
        [
         31,
         "policy_document",
         "policyholders are required to notify the company of any address changes within 30 days"
        ],
        [
         56,
         "claim_note",
         "claim 98234 approved waiting on policyholders response for payout method"
        ],
        [
         100,
         "customer_review",
         "long wait times on the phone but helpful service once connected"
        ],
        [
         17,
         "claim_note",
         "claim 98213 initial assessment shows possible fraudulent activity sent to the fraud department for review"
        ],
        [
         22,
         "customer_review",
         "denied my claim despite having all the required documents will not renew my policy"
        ],
        [
         35,
         "customer_review",
         "still waiting on claim resolution after three weeks not satisfied"
        ],
        [
         79,
         "policy_document",
         "multipolicy discounts available for customers bundling auto and home insurance"
        ],
        [
         57,
         "claim_note",
         "claim 12345 denied due to insufficient documentation appeal process explained to policyholder"
        ],
        [
         85,
         "claim_note",
         "claim 98213 case escalated for further review awaiting manager decision"
        ],
        [
         82,
         "customer_review",
         "had some issues with documentation requirements but support was helpful"
        ],
        [
         20,
         "customer_review",
         "appreciate the 247 customer support the rep was very helpful in explaining my coverage"
        ],
        [
         48,
         "policy_document",
         "the policy provides emergency accommodation coverage for policyholders stranded due to accidents"
        ],
        [
         24,
         "policy_document",
         "premium adjustments will be made annually based on claim history and risk assessment"
        ],
        [
         3,
         "customer_review",
         "frustrating experience my claim was denied without a clear explanation i will consider switching providers"
        ]
       ],
       "datasetInfos": [],
       "dbfsResultPath": null,
       "isJsonSchema": true,
       "metadata": {},
       "overflow": false,
       "plotOptions": {
        "customPlotOptions": {},
        "displayType": "table",
        "pivotAggregation": null,
        "pivotColumns": null,
        "xColumns": null,
        "yColumns": null
       },
       "removedWidgets": [],
       "schema": [
        {
         "metadata": "{}",
         "name": "id",
         "type": "\"integer\""
        },
        {
         "metadata": "{}",
         "name": "category",
         "type": "\"string\""
        },
        {
         "metadata": "{}",
         "name": "text",
         "type": "\"string\""
        }
       ],
       "type": "table"
      }
     },
     "output_type": "display_data"
    }
   ],
   "source": [
    "from pyspark.sql.functions import col, lower, regexp_replace\n",
    "\n",
    "# Load data from Bronze layer\n",
    "bronze_df = spark.read.format(\"delta\").load(\"dbfs:/mnt/bronze/raw_text_data\")\n",
    "\n",
    "# Data cleaning & preprocessing\n",
    "silver_df = bronze_df.withColumn(\"text\", lower(col(\"text\")))  # Convert text to lowercase\n",
    "silver_df = silver_df.withColumn(\"text\", regexp_replace(col(\"text\"), \"[^a-zA-Z0-9\\s]\", \"\"))  # Remove special chars\n",
    "silver_df = silver_df.dropDuplicates()  # Remove duplicates\n",
    "\n",
    "# Store in Silver layer\n",
    "silver_df.write.format(\"delta\").mode(\"overwrite\").save(\"dbfs:/mnt/silver/cleaned_text_data\")\n",
    "\n",
    "display(silver_df)\n"
   ]
  },
  {
   "cell_type": "code",
   "execution_count": 0,
   "metadata": {
    "application/vnd.databricks.v1+cell": {
     "cellMetadata": {
      "byteLimit": 2048000,
      "rowLimit": 10000
     },
     "inputWidgets": {},
     "nuid": "13306742-6e73-4356-9031-63a359cb4f7f",
     "showTitle": false,
     "tableResultSettingsMap": {},
     "title": ""
    }
   },
   "outputs": [
    {
     "data": {
      "text/html": [
       "<style scoped>\n",
       "  .table-result-container {\n",
       "    max-height: 300px;\n",
       "    overflow: auto;\n",
       "  }\n",
       "  table, th, td {\n",
       "    border: 1px solid black;\n",
       "    border-collapse: collapse;\n",
       "  }\n",
       "  th, td {\n",
       "    padding: 5px;\n",
       "  }\n",
       "  th {\n",
       "    text-align: left;\n",
       "  }\n",
       "</style><div class='table-result-container'><table class='table-result'><thead style='background-color: white'><tr><th>id</th><th>category</th><th>text</th></tr></thead><tbody><tr><td>34</td><td>customer_review</td><td>great experience with rival insurance they handled my claim quickly and professionally</td></tr><tr><td>44</td><td>claim_note</td><td>claim 38945 initial payout approved funds to be disbursed soon</td></tr><tr><td>26</td><td>claim_note</td><td>claim 56789 payment approved issued to policyholder</td></tr><tr><td>77</td><td>customer_review</td><td>frustrating experience trying to contact customer support long wait times</td></tr><tr><td>88</td><td>customer_review</td><td>would appreciate clearer communication on claim status updates</td></tr><tr><td>96</td><td>policy_document</td><td>medical expense coverage includes up to 10000 per passenger</td></tr><tr><td>92</td><td>claim_note</td><td>claim 90345 final approval granted payment scheduled</td></tr><tr><td>90</td><td>policy_document</td><td>roadside assistance coverage includes towing up to 50 miles</td></tr><tr><td>81</td><td>customer_review</td><td>extremely satisfied with the fast processing of my claim thank you</td></tr><tr><td>55</td><td>claim_note</td><td>claim 67234 investigation pending adjuster scheduled for next week</td></tr><tr><td>66</td><td>policy_document</td><td>exclusions coverage does not apply to intentional damage or illegal activities</td></tr><tr><td>53</td><td>policy_document</td><td>deductibles vary based on the type of claim and policy terms</td></tr><tr><td>71</td><td>customer_review</td><td>very satisfied with my policy coverage and the prompt service provided</td></tr><tr><td>19</td><td>customer_review</td><td>filing a claim online was easy but the response time was longer than expected</td></tr><tr><td>7</td><td>claim_note</td><td>claim 11234 reviewed documents and found discrepancies in reported damages requested additional evidence from claimant</td></tr><tr><td>78</td><td>policy_document</td><td>annual policy reviews are conducted to adjust coverage based on risk assessment</td></tr><tr><td>2</td><td>customer_review</td><td>amazing experience rival insurance approved my claim in just two days very satisfied with the service</td></tr><tr><td>47</td><td>customer_review</td><td>i appreciate the easy online claim submission process very convenient</td></tr><tr><td>61</td><td>policy_document</td><td>this policy includes liability coverage for rental vehicles during business travel</td></tr><tr><td>58</td><td>customer_review</td><td>quick approval but the repair process took longer than expected</td></tr><tr><td>72</td><td>policy_document</td><td>policyholders can opt for extended roadside assistance at an additional cost</td></tr><tr><td>5</td><td>policy_document</td><td>this insurance policy covers personal injury protection pip up to 50000 per insured person per accident</td></tr><tr><td>8</td><td>claim_note</td><td>claim 23567 approved for payout after verification of supporting documents and repair estimates</td></tr><tr><td>49</td><td>policy_document</td><td>coverage includes damage caused by uninsured motorists subject to policy limits</td></tr><tr><td>68</td><td>claim_note</td><td>claim 47823 adjuster completed review payout approved</td></tr><tr><td>95</td><td>policy_document</td><td>covers rental vehicle costs up to 40 per day for a maximum of 10 days</td></tr><tr><td>33</td><td>claim_note</td><td>claim 45783 adjuster report submitted pending final approval</td></tr><tr><td>21</td><td>customer_review</td><td>the app is userfriendly and i was able to track my claim in realtime</td></tr><tr><td>89</td><td>policy_document</td><td>new policyholders receive a 5 discount on their first year of coverage</td></tr><tr><td>23</td><td>policy_document</td><td>this policy includes rental car reimbursement for up to 40 per day</td></tr><tr><td>43</td><td>policy_document</td><td>pet injury coverage included for up to 1000 in medical expenses</td></tr><tr><td>75</td><td>claim_note</td><td>claim 78329 approved payment scheduled for next week</td></tr><tr><td>45</td><td>claim_note</td><td>claim 17638 rejected due to lack of sufficient evidence</td></tr><tr><td>69</td><td>claim_note</td><td>claim 89423 denied due to lack of supporting documentation</td></tr><tr><td>70</td><td>customer_review</td><td>customer support was helpful but the claim process took longer than expected</td></tr><tr><td>38</td><td>claim_note</td><td>claim 23984 policyholder requested reconsideration under review</td></tr><tr><td>29</td><td>customer_review</td><td>terrible experience had to escalate my claim multiple times</td></tr><tr><td>46</td><td>customer_review</td><td>overall good service but claim processing took longer than expected</td></tr><tr><td>74</td><td>claim_note</td><td>claim 58392 claim in review estimated completion within 5 business days</td></tr><tr><td>36</td><td>policy_document</td><td>comprehensive policies include roadside assistance up to 3 service calls per year</td></tr><tr><td>60</td><td>policy_document</td><td>policyholders must file a claim within 30 days of an incident to be eligible for coverage</td></tr><tr><td>84</td><td>policy_document</td><td>this policy offers optional coverage for custom vehicle modifications</td></tr><tr><td>99</td><td>customer_review</td><td>great experience overall would highly recommend this insurance provider</td></tr><tr><td>41</td><td>customer_review</td><td>very difficult to reach customer service not happy with response times</td></tr><tr><td>13</td><td>policy_document</td><td>coverage includes liability for bodily injury and property damage up to the limits stated in the policy</td></tr><tr><td>51</td><td>customer_review</td><td>great customer service my agent was very helpful and explained everything clearly</td></tr><tr><td>86</td><td>claim_note</td><td>claim 46789 claim resolved payment issued to policyholder</td></tr><tr><td>40</td><td>customer_review</td><td>filed a claim through the mobile app process was smooth and easy</td></tr><tr><td>10</td><td>customer_review</td><td>had to wait on hold for over an hour before speaking to a representative not a great experience</td></tr><tr><td>83</td><td>policy_document</td><td>coverage includes protection against uninsured and underinsured motorists</td></tr><tr><td>27</td><td>claim_note</td><td>claim 34762 adjuster scheduled to inspect vehicle damages onsite</td></tr><tr><td>65</td><td>customer_review</td><td>the mobile app made it super easy to submit and track my claim</td></tr><tr><td>18</td><td>claim_note</td><td>claim 65784 incomplete documentation received followed up with policyholder for additional paperwork</td></tr><tr><td>16</td><td>claim_note</td><td>claim 78456 investigation completed claim approved payment to be processed within 5 business days</td></tr><tr><td>63</td><td>claim_note</td><td>claim 89234 investigation completed approved for partial payout</td></tr><tr><td>9</td><td>claim_note</td><td>claim 34890 denied due to policy exclusion on preexisting damages notified policyholder of appeal options</td></tr><tr><td>37</td><td>policy_document</td><td>this policy does not cover mechanical failures due to wear and tear</td></tr><tr><td>52</td><td>customer_review</td><td>not happy with the premium increase this year looking for other options</td></tr><tr><td>67</td><td>policy_document</td><td>premium discounts available for policyholders with a noclaim history for 5 years</td></tr><tr><td>64</td><td>customer_review</td><td>my claim was handled quickly and professionally no complaints</td></tr><tr><td>97</td><td>claim_note</td><td>claim 78321 additional documents requested pending response</td></tr><tr><td>15</td><td>policy_document</td><td>additional riders available for extended coverage on highvalue assets subject to approval</td></tr><tr><td>30</td><td>policy_document</td><td>coverage for natural disasters includes hurricanes tornadoes and wildfires</td></tr><tr><td>6</td><td>policy_document</td><td>exclusions this policy does not cover damages resulting from intentional acts fraud or unauthorized vehicle usage</td></tr><tr><td>42</td><td>policy_document</td><td>windshield replacement is covered under comprehensive insurance with no deductible</td></tr><tr><td>32</td><td>claim_note</td><td>claim 89456 delayed due to missing documentation notified policyholder</td></tr><tr><td>80</td><td>claim_note</td><td>claim 47892 additional verification required contacted policyholder for clarification</td></tr><tr><td>39</td><td>claim_note</td><td>claim 56473 fraudulent activity detected claim denied</td></tr><tr><td>76</td><td>customer_review</td><td>had a minor issue with my claim but it was resolved quickly</td></tr><tr><td>4</td><td>policy_document</td><td>policyholder agrees to maintain comprehensive coverage for damages not caused by collision including theft and natural disasters</td></tr><tr><td>25</td><td>claim_note</td><td>claim 12987 under review awaiting thirdparty verification of reported damages</td></tr><tr><td>1</td><td>customer_review</td><td>i recently filed a claim with rival insurance and the process was slower than expected the customer service was helpful but i had to follow up multiple times</td></tr><tr><td>62</td><td>claim_note</td><td>claim 78345 additional information requested from claimant pending response</td></tr><tr><td>73</td><td>policy_document</td><td>this policy covers vehicle damage due to hailstorms and other severe weather events</td></tr><tr><td>94</td><td>customer_review</td><td>not satisfied with the premium hike this year looking for alternatives</td></tr><tr><td>28</td><td>customer_review</td><td>rival insurance resolved my issue efficiently very happy with their customer support</td></tr><tr><td>50</td><td>claim_note</td><td>claim 56712 additional documentation received claim reassessed and approved for payout</td></tr><tr><td>87</td><td>customer_review</td><td>best insurance experience ive had quick and hasslefree</td></tr><tr><td>98</td><td>claim_note</td><td>claim 43298 claim rejected due to policy exclusions</td></tr><tr><td>11</td><td>customer_review</td><td>quick and easy claims process i would highly recommend rival insurance to my friends and family</td></tr><tr><td>59</td><td>customer_review</td><td>easy renewal process no issues with my policy so far</td></tr><tr><td>54</td><td>policy_document</td><td>policyholders can bundle home and auto insurance for discounted rates</td></tr><tr><td>91</td><td>claim_note</td><td>claim 56234 under investigation for potential fraud</td></tr><tr><td>14</td><td>policy_document</td><td>policyholders must report any accidents within 24 hours to ensure eligibility for coverage</td></tr><tr><td>12</td><td>customer_review</td><td>denied claim due to a technicality that was not clearly stated in the policy very frustrating</td></tr><tr><td>93</td><td>customer_review</td><td>the online portal makes managing my policy super easy</td></tr><tr><td>31</td><td>policy_document</td><td>policyholders are required to notify the company of any address changes within 30 days</td></tr><tr><td>56</td><td>claim_note</td><td>claim 98234 approved waiting on policyholders response for payout method</td></tr><tr><td>100</td><td>customer_review</td><td>long wait times on the phone but helpful service once connected</td></tr><tr><td>17</td><td>claim_note</td><td>claim 98213 initial assessment shows possible fraudulent activity sent to the fraud department for review</td></tr><tr><td>22</td><td>customer_review</td><td>denied my claim despite having all the required documents will not renew my policy</td></tr><tr><td>35</td><td>customer_review</td><td>still waiting on claim resolution after three weeks not satisfied</td></tr><tr><td>79</td><td>policy_document</td><td>multipolicy discounts available for customers bundling auto and home insurance</td></tr><tr><td>57</td><td>claim_note</td><td>claim 12345 denied due to insufficient documentation appeal process explained to policyholder</td></tr><tr><td>85</td><td>claim_note</td><td>claim 98213 case escalated for further review awaiting manager decision</td></tr><tr><td>82</td><td>customer_review</td><td>had some issues with documentation requirements but support was helpful</td></tr><tr><td>20</td><td>customer_review</td><td>appreciate the 247 customer support the rep was very helpful in explaining my coverage</td></tr><tr><td>48</td><td>policy_document</td><td>the policy provides emergency accommodation coverage for policyholders stranded due to accidents</td></tr><tr><td>24</td><td>policy_document</td><td>premium adjustments will be made annually based on claim history and risk assessment</td></tr><tr><td>3</td><td>customer_review</td><td>frustrating experience my claim was denied without a clear explanation i will consider switching providers</td></tr></tbody></table></div>"
      ]
     },
     "metadata": {
      "application/vnd.databricks.v1+output": {
       "addedWidgets": {},
       "aggData": [],
       "aggError": "",
       "aggOverflow": false,
       "aggSchema": [],
       "aggSeriesLimitReached": false,
       "aggType": "",
       "arguments": {},
       "columnCustomDisplayInfos": {},
       "data": [
        [
         34,
         "customer_review",
         "great experience with rival insurance they handled my claim quickly and professionally"
        ],
        [
         44,
         "claim_note",
         "claim 38945 initial payout approved funds to be disbursed soon"
        ],
        [
         26,
         "claim_note",
         "claim 56789 payment approved issued to policyholder"
        ],
        [
         77,
         "customer_review",
         "frustrating experience trying to contact customer support long wait times"
        ],
        [
         88,
         "customer_review",
         "would appreciate clearer communication on claim status updates"
        ],
        [
         96,
         "policy_document",
         "medical expense coverage includes up to 10000 per passenger"
        ],
        [
         92,
         "claim_note",
         "claim 90345 final approval granted payment scheduled"
        ],
        [
         90,
         "policy_document",
         "roadside assistance coverage includes towing up to 50 miles"
        ],
        [
         81,
         "customer_review",
         "extremely satisfied with the fast processing of my claim thank you"
        ],
        [
         55,
         "claim_note",
         "claim 67234 investigation pending adjuster scheduled for next week"
        ],
        [
         66,
         "policy_document",
         "exclusions coverage does not apply to intentional damage or illegal activities"
        ],
        [
         53,
         "policy_document",
         "deductibles vary based on the type of claim and policy terms"
        ],
        [
         71,
         "customer_review",
         "very satisfied with my policy coverage and the prompt service provided"
        ],
        [
         19,
         "customer_review",
         "filing a claim online was easy but the response time was longer than expected"
        ],
        [
         7,
         "claim_note",
         "claim 11234 reviewed documents and found discrepancies in reported damages requested additional evidence from claimant"
        ],
        [
         78,
         "policy_document",
         "annual policy reviews are conducted to adjust coverage based on risk assessment"
        ],
        [
         2,
         "customer_review",
         "amazing experience rival insurance approved my claim in just two days very satisfied with the service"
        ],
        [
         47,
         "customer_review",
         "i appreciate the easy online claim submission process very convenient"
        ],
        [
         61,
         "policy_document",
         "this policy includes liability coverage for rental vehicles during business travel"
        ],
        [
         58,
         "customer_review",
         "quick approval but the repair process took longer than expected"
        ],
        [
         72,
         "policy_document",
         "policyholders can opt for extended roadside assistance at an additional cost"
        ],
        [
         5,
         "policy_document",
         "this insurance policy covers personal injury protection pip up to 50000 per insured person per accident"
        ],
        [
         8,
         "claim_note",
         "claim 23567 approved for payout after verification of supporting documents and repair estimates"
        ],
        [
         49,
         "policy_document",
         "coverage includes damage caused by uninsured motorists subject to policy limits"
        ],
        [
         68,
         "claim_note",
         "claim 47823 adjuster completed review payout approved"
        ],
        [
         95,
         "policy_document",
         "covers rental vehicle costs up to 40 per day for a maximum of 10 days"
        ],
        [
         33,
         "claim_note",
         "claim 45783 adjuster report submitted pending final approval"
        ],
        [
         21,
         "customer_review",
         "the app is userfriendly and i was able to track my claim in realtime"
        ],
        [
         89,
         "policy_document",
         "new policyholders receive a 5 discount on their first year of coverage"
        ],
        [
         23,
         "policy_document",
         "this policy includes rental car reimbursement for up to 40 per day"
        ],
        [
         43,
         "policy_document",
         "pet injury coverage included for up to 1000 in medical expenses"
        ],
        [
         75,
         "claim_note",
         "claim 78329 approved payment scheduled for next week"
        ],
        [
         45,
         "claim_note",
         "claim 17638 rejected due to lack of sufficient evidence"
        ],
        [
         69,
         "claim_note",
         "claim 89423 denied due to lack of supporting documentation"
        ],
        [
         70,
         "customer_review",
         "customer support was helpful but the claim process took longer than expected"
        ],
        [
         38,
         "claim_note",
         "claim 23984 policyholder requested reconsideration under review"
        ],
        [
         29,
         "customer_review",
         "terrible experience had to escalate my claim multiple times"
        ],
        [
         46,
         "customer_review",
         "overall good service but claim processing took longer than expected"
        ],
        [
         74,
         "claim_note",
         "claim 58392 claim in review estimated completion within 5 business days"
        ],
        [
         36,
         "policy_document",
         "comprehensive policies include roadside assistance up to 3 service calls per year"
        ],
        [
         60,
         "policy_document",
         "policyholders must file a claim within 30 days of an incident to be eligible for coverage"
        ],
        [
         84,
         "policy_document",
         "this policy offers optional coverage for custom vehicle modifications"
        ],
        [
         99,
         "customer_review",
         "great experience overall would highly recommend this insurance provider"
        ],
        [
         41,
         "customer_review",
         "very difficult to reach customer service not happy with response times"
        ],
        [
         13,
         "policy_document",
         "coverage includes liability for bodily injury and property damage up to the limits stated in the policy"
        ],
        [
         51,
         "customer_review",
         "great customer service my agent was very helpful and explained everything clearly"
        ],
        [
         86,
         "claim_note",
         "claim 46789 claim resolved payment issued to policyholder"
        ],
        [
         40,
         "customer_review",
         "filed a claim through the mobile app process was smooth and easy"
        ],
        [
         10,
         "customer_review",
         "had to wait on hold for over an hour before speaking to a representative not a great experience"
        ],
        [
         83,
         "policy_document",
         "coverage includes protection against uninsured and underinsured motorists"
        ],
        [
         27,
         "claim_note",
         "claim 34762 adjuster scheduled to inspect vehicle damages onsite"
        ],
        [
         65,
         "customer_review",
         "the mobile app made it super easy to submit and track my claim"
        ],
        [
         18,
         "claim_note",
         "claim 65784 incomplete documentation received followed up with policyholder for additional paperwork"
        ],
        [
         16,
         "claim_note",
         "claim 78456 investigation completed claim approved payment to be processed within 5 business days"
        ],
        [
         63,
         "claim_note",
         "claim 89234 investigation completed approved for partial payout"
        ],
        [
         9,
         "claim_note",
         "claim 34890 denied due to policy exclusion on preexisting damages notified policyholder of appeal options"
        ],
        [
         37,
         "policy_document",
         "this policy does not cover mechanical failures due to wear and tear"
        ],
        [
         52,
         "customer_review",
         "not happy with the premium increase this year looking for other options"
        ],
        [
         67,
         "policy_document",
         "premium discounts available for policyholders with a noclaim history for 5 years"
        ],
        [
         64,
         "customer_review",
         "my claim was handled quickly and professionally no complaints"
        ],
        [
         97,
         "claim_note",
         "claim 78321 additional documents requested pending response"
        ],
        [
         15,
         "policy_document",
         "additional riders available for extended coverage on highvalue assets subject to approval"
        ],
        [
         30,
         "policy_document",
         "coverage for natural disasters includes hurricanes tornadoes and wildfires"
        ],
        [
         6,
         "policy_document",
         "exclusions this policy does not cover damages resulting from intentional acts fraud or unauthorized vehicle usage"
        ],
        [
         42,
         "policy_document",
         "windshield replacement is covered under comprehensive insurance with no deductible"
        ],
        [
         32,
         "claim_note",
         "claim 89456 delayed due to missing documentation notified policyholder"
        ],
        [
         80,
         "claim_note",
         "claim 47892 additional verification required contacted policyholder for clarification"
        ],
        [
         39,
         "claim_note",
         "claim 56473 fraudulent activity detected claim denied"
        ],
        [
         76,
         "customer_review",
         "had a minor issue with my claim but it was resolved quickly"
        ],
        [
         4,
         "policy_document",
         "policyholder agrees to maintain comprehensive coverage for damages not caused by collision including theft and natural disasters"
        ],
        [
         25,
         "claim_note",
         "claim 12987 under review awaiting thirdparty verification of reported damages"
        ],
        [
         1,
         "customer_review",
         "i recently filed a claim with rival insurance and the process was slower than expected the customer service was helpful but i had to follow up multiple times"
        ],
        [
         62,
         "claim_note",
         "claim 78345 additional information requested from claimant pending response"
        ],
        [
         73,
         "policy_document",
         "this policy covers vehicle damage due to hailstorms and other severe weather events"
        ],
        [
         94,
         "customer_review",
         "not satisfied with the premium hike this year looking for alternatives"
        ],
        [
         28,
         "customer_review",
         "rival insurance resolved my issue efficiently very happy with their customer support"
        ],
        [
         50,
         "claim_note",
         "claim 56712 additional documentation received claim reassessed and approved for payout"
        ],
        [
         87,
         "customer_review",
         "best insurance experience ive had quick and hasslefree"
        ],
        [
         98,
         "claim_note",
         "claim 43298 claim rejected due to policy exclusions"
        ],
        [
         11,
         "customer_review",
         "quick and easy claims process i would highly recommend rival insurance to my friends and family"
        ],
        [
         59,
         "customer_review",
         "easy renewal process no issues with my policy so far"
        ],
        [
         54,
         "policy_document",
         "policyholders can bundle home and auto insurance for discounted rates"
        ],
        [
         91,
         "claim_note",
         "claim 56234 under investigation for potential fraud"
        ],
        [
         14,
         "policy_document",
         "policyholders must report any accidents within 24 hours to ensure eligibility for coverage"
        ],
        [
         12,
         "customer_review",
         "denied claim due to a technicality that was not clearly stated in the policy very frustrating"
        ],
        [
         93,
         "customer_review",
         "the online portal makes managing my policy super easy"
        ],
        [
         31,
         "policy_document",
         "policyholders are required to notify the company of any address changes within 30 days"
        ],
        [
         56,
         "claim_note",
         "claim 98234 approved waiting on policyholders response for payout method"
        ],
        [
         100,
         "customer_review",
         "long wait times on the phone but helpful service once connected"
        ],
        [
         17,
         "claim_note",
         "claim 98213 initial assessment shows possible fraudulent activity sent to the fraud department for review"
        ],
        [
         22,
         "customer_review",
         "denied my claim despite having all the required documents will not renew my policy"
        ],
        [
         35,
         "customer_review",
         "still waiting on claim resolution after three weeks not satisfied"
        ],
        [
         79,
         "policy_document",
         "multipolicy discounts available for customers bundling auto and home insurance"
        ],
        [
         57,
         "claim_note",
         "claim 12345 denied due to insufficient documentation appeal process explained to policyholder"
        ],
        [
         85,
         "claim_note",
         "claim 98213 case escalated for further review awaiting manager decision"
        ],
        [
         82,
         "customer_review",
         "had some issues with documentation requirements but support was helpful"
        ],
        [
         20,
         "customer_review",
         "appreciate the 247 customer support the rep was very helpful in explaining my coverage"
        ],
        [
         48,
         "policy_document",
         "the policy provides emergency accommodation coverage for policyholders stranded due to accidents"
        ],
        [
         24,
         "policy_document",
         "premium adjustments will be made annually based on claim history and risk assessment"
        ],
        [
         3,
         "customer_review",
         "frustrating experience my claim was denied without a clear explanation i will consider switching providers"
        ]
       ],
       "datasetInfos": [],
       "dbfsResultPath": null,
       "isJsonSchema": true,
       "metadata": {},
       "overflow": false,
       "plotOptions": {
        "customPlotOptions": {},
        "displayType": "table",
        "pivotAggregation": null,
        "pivotColumns": null,
        "xColumns": null,
        "yColumns": null
       },
       "removedWidgets": [],
       "schema": [
        {
         "metadata": "{}",
         "name": "id",
         "type": "\"integer\""
        },
        {
         "metadata": "{}",
         "name": "category",
         "type": "\"string\""
        },
        {
         "metadata": "{}",
         "name": "text",
         "type": "\"string\""
        }
       ],
       "type": "table"
      }
     },
     "output_type": "display_data"
    }
   ],
   "source": [
    "from pyspark.sql.functions import length\n",
    "\n",
    "# Load data from Silver layer\n",
    "silver_df = spark.read.format(\"delta\").load(\"dbfs:/mnt/silver/cleaned_text_data\")\n",
    "\n",
    "# Filter out very short texts (less than 50 characters)\n",
    "gold_df = silver_df.filter(length(col(\"text\")) > 50)\n",
    "\n",
    "# Store in Gold layer\n",
    "gold_df.write.format(\"delta\").mode(\"overwrite\").save(\"dbfs:/mnt/gold/processed_text_data\")\n",
    "\n",
    "display(gold_df)\n"
   ]
  },
  {
   "cell_type": "code",
   "execution_count": 0,
   "metadata": {
    "application/vnd.databricks.v1+cell": {
     "cellMetadata": {
      "byteLimit": 2048000,
      "rowLimit": 10000
     },
     "inputWidgets": {},
     "nuid": "19919d8e-5429-41c5-94a0-16c01c85d521",
     "showTitle": false,
     "tableResultSettingsMap": {},
     "title": ""
    }
   },
   "outputs": [
    {
     "name": "stdout",
     "output_type": "stream",
     "text": [
      "Collecting openai\n",
      "  Obtaining dependency information for openai from https://files.pythonhosted.org/packages/67/a0/e1fe4e87218639fc0a0927da5266c2978eaa0e2eb5437479ee64a11535bb/openai-1.63.0-py3-none-any.whl.metadata\n",
      "  Downloading openai-1.63.0-py3-none-any.whl.metadata (27 kB)\n",
      "Collecting anyio<5,>=3.5.0 (from openai)\n",
      "  Obtaining dependency information for anyio<5,>=3.5.0 from https://files.pythonhosted.org/packages/46/eb/e7f063ad1fec6b3178a3cd82d1a3c4de82cccf283fc42746168188e1cdd5/anyio-4.8.0-py3-none-any.whl.metadata\n",
      "  Downloading anyio-4.8.0-py3-none-any.whl.metadata (4.6 kB)\n",
      "Requirement already satisfied: distro<2,>=1.7.0 in /usr/lib/python3/dist-packages (from openai) (1.7.0)\n",
      "Collecting httpx<1,>=0.23.0 (from openai)\n",
      "  Obtaining dependency information for httpx<1,>=0.23.0 from https://files.pythonhosted.org/packages/2a/39/e50c7c3a983047577ee07d2a9e53faf5a69493943ec3f6a384bdc792deb2/httpx-0.28.1-py3-none-any.whl.metadata\n",
      "  Downloading httpx-0.28.1-py3-none-any.whl.metadata (7.1 kB)\n",
      "Collecting jiter<1,>=0.4.0 (from openai)\n",
      "  Obtaining dependency information for jiter<1,>=0.4.0 from https://files.pythonhosted.org/packages/f8/9b/92f9da9a9e107d019bcf883cd9125fa1690079f323f5a9d5c6986eeec3c0/jiter-0.8.2-cp311-cp311-manylinux_2_17_x86_64.manylinux2014_x86_64.whl.metadata\n",
      "  Downloading jiter-0.8.2-cp311-cp311-manylinux_2_17_x86_64.manylinux2014_x86_64.whl.metadata (5.2 kB)\n",
      "Requirement already satisfied: pydantic<3,>=1.9.0 in /databricks/python3/lib/python3.11/site-packages (from openai) (1.10.6)\n",
      "Collecting sniffio (from openai)\n",
      "  Obtaining dependency information for sniffio from https://files.pythonhosted.org/packages/e9/44/75a9c9421471a6c4805dbf2356f7c181a29c1879239abab1ea2cc8f38b40/sniffio-1.3.1-py3-none-any.whl.metadata\n",
      "  Downloading sniffio-1.3.1-py3-none-any.whl.metadata (3.9 kB)\n",
      "Collecting tqdm>4 (from openai)\n",
      "  Obtaining dependency information for tqdm>4 from https://files.pythonhosted.org/packages/d0/30/dc54f88dd4a2b5dc8a0279bdd7270e735851848b762aeb1c1184ed1f6b14/tqdm-4.67.1-py3-none-any.whl.metadata\n",
      "  Downloading tqdm-4.67.1-py3-none-any.whl.metadata (57 kB)\n",
      "\u001b[?25l     \u001b[90m━━━━━━━━━━━━━━━━━━━━━━━━━━━━━━━━━━━━━━━━\u001b[0m \u001b[32m0.0/57.7 kB\u001b[0m \u001b[31m?\u001b[0m eta \u001b[36m-:--:--\u001b[0m\n",
      "\u001b[2K     \u001b[90m━━━━━━━━━━━━━━━━━━━━━━━━━━━━━━━━━━━━━━━━\u001b[0m \u001b[32m57.7/57.7 kB\u001b[0m \u001b[31m3.1 MB/s\u001b[0m eta \u001b[36m0:00:00\u001b[0m\n",
      "\u001b[?25hCollecting typing-extensions<5,>=4.11 (from openai)\n",
      "  Obtaining dependency information for typing-extensions<5,>=4.11 from https://files.pythonhosted.org/packages/26/9f/ad63fc0248c5379346306f8668cda6e2e2e9c95e01216d2b8ffd9ff037d0/typing_extensions-4.12.2-py3-none-any.whl.metadata\n",
      "  Downloading typing_extensions-4.12.2-py3-none-any.whl.metadata (3.0 kB)\n",
      "Requirement already satisfied: idna>=2.8 in /databricks/python3/lib/python3.11/site-packages (from anyio<5,>=3.5.0->openai) (3.4)\n",
      "Requirement already satisfied: certifi in /databricks/python3/lib/python3.11/site-packages (from httpx<1,>=0.23.0->openai) (2023.7.22)\n",
      "Collecting httpcore==1.* (from httpx<1,>=0.23.0->openai)\n",
      "  Obtaining dependency information for httpcore==1.* from https://files.pythonhosted.org/packages/87/f5/72347bc88306acb359581ac4d52f23c0ef445b57157adedb9aee0cd689d2/httpcore-1.0.7-py3-none-any.whl.metadata\n",
      "  Downloading httpcore-1.0.7-py3-none-any.whl.metadata (21 kB)\n",
      "Collecting h11<0.15,>=0.13 (from httpcore==1.*->httpx<1,>=0.23.0->openai)\n",
      "  Obtaining dependency information for h11<0.15,>=0.13 from https://files.pythonhosted.org/packages/95/04/ff642e65ad6b90db43e668d70ffb6736436c7ce41fcc549f4e9472234127/h11-0.14.0-py3-none-any.whl.metadata\n",
      "  Downloading h11-0.14.0-py3-none-any.whl.metadata (8.2 kB)\n",
      "Downloading openai-1.63.0-py3-none-any.whl (472 kB)\n",
      "\u001b[?25l   \u001b[90m━━━━━━━━━━━━━━━━━━━━━━━━━━━━━━━━━━━━━━━━\u001b[0m \u001b[32m0.0/472.3 kB\u001b[0m \u001b[31m?\u001b[0m eta \u001b[36m-:--:--\u001b[0m\n",
      "\u001b[2K   \u001b[91m━━━━━━━━━━━━━━━━━━━━━━━━━━━━\u001b[0m\u001b[91m╸\u001b[0m\u001b[90m━━━━━━━━━━━\u001b[0m \u001b[32m337.9/472.3 kB\u001b[0m \u001b[31m10.0 MB/s\u001b[0m eta \u001b[36m0:00:01\u001b[0m\n",
      "\u001b[2K   \u001b[91m━━━━━━━━━━━━━━━━━━━━━━━━━━━━━━━━━━━━━━━\u001b[0m\u001b[91m╸\u001b[0m \u001b[32m471.0/472.3 kB\u001b[0m \u001b[31m10.2 MB/s\u001b[0m eta \u001b[36m0:00:01\u001b[0m\n",
      "\u001b[2K   \u001b[90m━━━━━━━━━━━━━━━━━━━━━━━━━━━━━━━━━━━━━━━━\u001b[0m \u001b[32m472.3/472.3 kB\u001b[0m \u001b[31m6.5 MB/s\u001b[0m eta \u001b[36m0:00:00\u001b[0m\n",
      "\u001b[?25hDownloading anyio-4.8.0-py3-none-any.whl (96 kB)\n",
      "\u001b[?25l   \u001b[90m━━━━━━━━━━━━━━━━━━━━━━━━━━━━━━━━━━━━━━━━\u001b[0m \u001b[32m0.0/96.0 kB\u001b[0m \u001b[31m?\u001b[0m eta \u001b[36m-:--:--\u001b[0m\n",
      "\u001b[2K   \u001b[90m━━━━━━━━━━━━━━━━━━━━━━━━━━━━━━━━━━━━━━━━\u001b[0m \u001b[32m96.0/96.0 kB\u001b[0m \u001b[31m5.8 MB/s\u001b[0m eta \u001b[36m0:00:00\u001b[0m\n",
      "\u001b[?25hDownloading httpx-0.28.1-py3-none-any.whl (73 kB)\n",
      "\u001b[?25l   \u001b[90m━━━━━━━━━━━━━━━━━━━━━━━━━━━━━━━━━━━━━━━━\u001b[0m \u001b[32m0.0/73.5 kB\u001b[0m \u001b[31m?\u001b[0m eta \u001b[36m-:--:--\u001b[0m\n",
      "\u001b[2K   \u001b[91m━━━━━━━━━━━━━━━━━━━━━━━━━━━━━━━━━━━━━━━\u001b[0m\u001b[90m╺\u001b[0m \u001b[32m71.7/73.5 kB\u001b[0m \u001b[31m62.1 MB/s\u001b[0m eta \u001b[36m0:00:01\u001b[0m\n",
      "\u001b[2K   \u001b[90m━━━━━━━━━━━━━━━━━━━━━━━━━━━━━━━━━━━━━━━━\u001b[0m \u001b[32m73.5/73.5 kB\u001b[0m \u001b[31m1.7 MB/s\u001b[0m eta \u001b[36m0:00:00\u001b[0m\n",
      "\u001b[?25hDownloading httpcore-1.0.7-py3-none-any.whl (78 kB)\n",
      "\u001b[?25l   \u001b[90m━━━━━━━━━━━━━━━━━━━━━━━━━━━━━━━━━━━━━━━━\u001b[0m \u001b[32m0.0/78.6 kB\u001b[0m \u001b[31m?\u001b[0m eta \u001b[36m-:--:--\u001b[0m\n",
      "\u001b[2K   \u001b[91m━━━━━━━━━━━━━━━━━━━━━━━━━━━━━━━━━━━━\u001b[0m\u001b[91m╸\u001b[0m\u001b[90m━━━\u001b[0m \u001b[32m71.7/78.6 kB\u001b[0m \u001b[31m29.5 MB/s\u001b[0m eta \u001b[36m0:00:01\u001b[0m\n",
      "\u001b[2K   \u001b[90m━━━━━━━━━━━━━━━━━━━━━━━━━━━━━━━━━━━━━━━━\u001b[0m \u001b[32m78.6/78.6 kB\u001b[0m \u001b[31m1.3 MB/s\u001b[0m eta \u001b[36m0:00:00\u001b[0m\n",
      "\u001b[?25hDownloading jiter-0.8.2-cp311-cp311-manylinux_2_17_x86_64.manylinux2014_x86_64.whl (345 kB)\n",
      "\u001b[?25l   \u001b[90m━━━━━━━━━━━━━━━━━━━━━━━━━━━━━━━━━━━━━━━━\u001b[0m \u001b[32m0.0/345.6 kB\u001b[0m \u001b[31m?\u001b[0m eta \u001b[36m-:--:--\u001b[0m\n",
      "\u001b[2K   \u001b[91m━━━━━━━━━━━━━━━━━━━━━━━━━━━━━━━━━━━━━━━\u001b[0m\u001b[90m╺\u001b[0m \u001b[32m337.9/345.6 kB\u001b[0m \u001b[31m11.8 MB/s\u001b[0m eta \u001b[36m0:00:01\u001b[0m\n",
      "\u001b[2K   \u001b[90m━━━━━━━━━━━━━━━━━━━━━━━━━━━━━━━━━━━━━━━━\u001b[0m \u001b[32m345.6/345.6 kB\u001b[0m \u001b[31m7.5 MB/s\u001b[0m eta \u001b[36m0:00:00\u001b[0m\n",
      "\u001b[?25hDownloading sniffio-1.3.1-py3-none-any.whl (10 kB)\n",
      "Downloading tqdm-4.67.1-py3-none-any.whl (78 kB)\n",
      "\u001b[?25l   \u001b[90m━━━━━━━━━━━━━━━━━━━━━━━━━━━━━━━━━━━━━━━━\u001b[0m \u001b[32m0.0/78.5 kB\u001b[0m \u001b[31m?\u001b[0m eta \u001b[36m-:--:--\u001b[0m\n",
      "\u001b[2K   \u001b[90m━━━━━━━━━━━━━━━━━━━━━━━━━━━━━━━━━━━━━━━━\u001b[0m \u001b[32m78.5/78.5 kB\u001b[0m \u001b[31m2.0 MB/s\u001b[0m eta \u001b[36m0:00:00\u001b[0m\n",
      "\u001b[?25hDownloading typing_extensions-4.12.2-py3-none-any.whl (37 kB)\n",
      "Downloading h11-0.14.0-py3-none-any.whl (58 kB)\n",
      "\u001b[?25l   \u001b[90m━━━━━━━━━━━━━━━━━━━━━━━━━━━━━━━━━━━━━━━━\u001b[0m \u001b[32m0.0/58.3 kB\u001b[0m \u001b[31m?\u001b[0m eta \u001b[36m-:--:--\u001b[0m\n",
      "\u001b[2K   \u001b[91m━━━━━━━━━━━━━━━━━━━━━━━━━━━━━━━━━━━\u001b[0m\u001b[90m╺\u001b[0m\u001b[90m━━━━\u001b[0m \u001b[32m51.2/58.3 kB\u001b[0m \u001b[31m192.0 MB/s\u001b[0m eta \u001b[36m0:00:01\u001b[0m\n",
      "\u001b[2K   \u001b[90m━━━━━━━━━━━━━━━━━━━━━━━━━━━━━━━━━━━━━━━━\u001b[0m \u001b[32m58.3/58.3 kB\u001b[0m \u001b[31m1.4 MB/s\u001b[0m eta \u001b[36m0:00:00\u001b[0m\n",
      "\u001b[?25hInstalling collected packages: typing-extensions, tqdm, sniffio, jiter, h11, httpcore, anyio, httpx, openai\n",
      "  Attempting uninstall: typing-extensions\n",
      "    Found existing installation: typing_extensions 4.10.0\n",
      "    Not uninstalling typing-extensions at /databricks/python3/lib/python3.11/site-packages, outside environment /local_disk0/.ephemeral_nfs/envs/pythonEnv-16c29a7a-500c-4b01-bc77-62b0777f5837\n",
      "    Can't uninstall 'typing_extensions'. No files were found to uninstall.\n",
      "Successfully installed anyio-4.8.0 h11-0.14.0 httpcore-1.0.7 httpx-0.28.1 jiter-0.8.2 openai-1.63.0 sniffio-1.3.1 tqdm-4.67.1 typing-extensions-4.12.2\n",
      "\u001b[43mNote: you may need to restart the kernel using %restart_python or dbutils.library.restartPython() to use updated packages.\u001b[0m\n"
     ]
    }
   ],
   "source": [
    "%pip install openai\n"
   ]
  },
  {
   "cell_type": "code",
   "execution_count": 0,
   "metadata": {
    "application/vnd.databricks.v1+cell": {
     "cellMetadata": {
      "byteLimit": 2048000,
      "rowLimit": 10000
     },
     "inputWidgets": {},
     "nuid": "dfc1bec4-fd82-45f8-8fe0-06305a1ae751",
     "showTitle": false,
     "tableResultSettingsMap": {},
     "title": ""
    }
   },
   "outputs": [
    {
     "name": "stdout",
     "output_type": "stream",
     "text": [
      "Requirement already satisfied: nest_asyncio in /databricks/python3/lib/python3.11/site-packages (1.5.6)\n",
      "Requirement already satisfied: aiohttp in /local_disk0/.ephemeral_nfs/envs/pythonEnv-16c29a7a-500c-4b01-bc77-62b0777f5837/lib/python3.11/site-packages (3.11.12)\n",
      "Requirement already satisfied: aiohappyeyeballs>=2.3.0 in /local_disk0/.ephemeral_nfs/envs/pythonEnv-16c29a7a-500c-4b01-bc77-62b0777f5837/lib/python3.11/site-packages (from aiohttp) (2.4.6)\n",
      "Requirement already satisfied: aiosignal>=1.1.2 in /local_disk0/.ephemeral_nfs/envs/pythonEnv-16c29a7a-500c-4b01-bc77-62b0777f5837/lib/python3.11/site-packages (from aiohttp) (1.3.2)\n",
      "Requirement already satisfied: attrs>=17.3.0 in /local_disk0/.ephemeral_nfs/envs/pythonEnv-16c29a7a-500c-4b01-bc77-62b0777f5837/lib/python3.11/site-packages (from aiohttp) (25.1.0)\n",
      "Requirement already satisfied: frozenlist>=1.1.1 in /local_disk0/.ephemeral_nfs/envs/pythonEnv-16c29a7a-500c-4b01-bc77-62b0777f5837/lib/python3.11/site-packages (from aiohttp) (1.5.0)\n",
      "Requirement already satisfied: multidict<7.0,>=4.5 in /local_disk0/.ephemeral_nfs/envs/pythonEnv-16c29a7a-500c-4b01-bc77-62b0777f5837/lib/python3.11/site-packages (from aiohttp) (6.1.0)\n",
      "Requirement already satisfied: propcache>=0.2.0 in /local_disk0/.ephemeral_nfs/envs/pythonEnv-16c29a7a-500c-4b01-bc77-62b0777f5837/lib/python3.11/site-packages (from aiohttp) (0.2.1)\n",
      "Requirement already satisfied: yarl<2.0,>=1.17.0 in /local_disk0/.ephemeral_nfs/envs/pythonEnv-16c29a7a-500c-4b01-bc77-62b0777f5837/lib/python3.11/site-packages (from aiohttp) (1.18.3)\n",
      "Requirement already satisfied: idna>=2.0 in /databricks/python3/lib/python3.11/site-packages (from yarl<2.0,>=1.17.0->aiohttp) (3.4)\n",
      "\u001b[43mNote: you may need to restart the kernel using %restart_python or dbutils.library.restartPython() to use updated packages.\u001b[0m\n"
     ]
    }
   ],
   "source": [
    "%pip install nest_asyncio aiohttp\n"
   ]
  },
  {
   "cell_type": "code",
   "execution_count": 0,
   "metadata": {
    "application/vnd.databricks.v1+cell": {
     "cellMetadata": {
      "byteLimit": 2048000,
      "rowLimit": 10000
     },
     "inputWidgets": {},
     "nuid": "1a998088-2052-48ba-8f9e-13d635ab1dba",
     "showTitle": false,
     "tableResultSettingsMap": {},
     "title": ""
    }
   },
   "outputs": [],
   "source": [
    "import openai\n",
    "import asyncio\n",
    "import aiohttp\n",
    "import nest_asyncio\n",
    "import pandas as pd\n",
    "\n",
    "# Apply nest_asyncio to avoid event loop conflicts in Databricks\n",
    "nest_asyncio.apply()\n",
    "\n",
    "openai.api_type = \"azure\"\n",
    "openai.api_base = \"https://sknir-m765z46u-eastus2.cognitiveservices.azure.com/\"  \n",
    "openai.api_version = \"2024-08-01-preview\"\n",
    "openai.api_key = \"X\"  \n"
   ]
  },
  {
   "cell_type": "code",
   "execution_count": 0,
   "metadata": {
    "application/vnd.databricks.v1+cell": {
     "cellMetadata": {
      "byteLimit": 2048000,
      "rowLimit": 10000
     },
     "inputWidgets": {},
     "nuid": "dee3d3a1-d25a-440b-a584-a8f2c7ab02d0",
     "showTitle": false,
     "tableResultSettingsMap": {},
     "title": ""
    }
   },
   "outputs": [],
   "source": [
    "async def generate_summary_async(session, text, max_retries=5):\n",
    "    \"\"\" Asynchronous function to send a request to Azure OpenAI with retry logic for rate limits. \"\"\"\n",
    "    retries = 0\n",
    "    while retries < max_retries:\n",
    "        try:\n",
    "            async with session.post(\n",
    "                url=f\"{openai.api_base}openai/deployments/gpt-4-deployment/chat/completions?api-version={openai.api_version}\",\n",
    "                headers={\n",
    "                    \"Content-Type\": \"application/json\",\n",
    "                    \"api-key\": openai.api_key\n",
    "                },\n",
    "                json={\n",
    "                    \"messages\": [\n",
    "                        {\"role\": \"system\", \"content\": \"You are an AI that summarizes insurance claim descriptions concisely.\"},\n",
    "                        {\"role\": \"user\", \"content\": f\"Summarize this insurance claim: {text}\"}\n",
    "                    ],\n",
    "                    \"max_tokens\": 100\n",
    "                }\n",
    "            ) as response:\n",
    "                result = await response.json()  # Convert response to JSON\n",
    "                print(\"DEBUG: Full API Response:\", result)  \n",
    "                \n",
    "                if \"choices\" in result:\n",
    "                    return result[\"choices\"][0][\"message\"][\"content\"]\n",
    "                elif \"error\" in result:\n",
    "                    if result[\"error\"][\"code\"] == \"429\":\n",
    "                        print(f\"Rate limit exceeded. Retrying in 10 seconds... (Attempt {retries+1}/{max_retries})\")\n",
    "                        await asyncio.sleep(10)  # Wait before retrying\n",
    "                        retries += 1\n",
    "                    else:\n",
    "                        return f\"API Error: {result['error']['message']}\"  # Return error message if present\n",
    "                else:\n",
    "                    return \"Unexpected API Response Format\"\n",
    "        except Exception as e:\n",
    "            return f\"Error: {str(e)}\"\n",
    "    \n",
    "    return \"Failed after multiple retries due to rate limiting.\"\n"
   ]
  },
  {
   "cell_type": "code",
   "execution_count": 0,
   "metadata": {
    "application/vnd.databricks.v1+cell": {
     "cellMetadata": {
      "byteLimit": 2048000,
      "rowLimit": 10000
     },
     "inputWidgets": {},
     "nuid": "bf5e8aaa-afcd-4261-89c2-cd563f143746",
     "showTitle": false,
     "tableResultSettingsMap": {},
     "title": ""
    }
   },
   "outputs": [],
   "source": [
    "async def batch_summarize(text_list, batch_size=2):  \n",
    "    \"\"\" Process API requests in batches for efficiency, handling rate limits. \"\"\"\n",
    "    summaries = []\n",
    "    async with aiohttp.ClientSession() as session:\n",
    "        for i in range(0, len(text_list), batch_size):\n",
    "            batch = text_list[i:i + batch_size]  # Split into batches\n",
    "            tasks = [generate_summary_async(session, text) for text in batch]\n",
    "            results = await asyncio.gather(*tasks)  # Process all tasks in parallel\n",
    "            summaries.extend(results)\n",
    "    return summaries\n"
   ]
  },
  {
   "cell_type": "code",
   "execution_count": 0,
   "metadata": {
    "application/vnd.databricks.v1+cell": {
     "cellMetadata": {
      "byteLimit": 2048000,
      "rowLimit": 10000
     },
     "inputWidgets": {},
     "nuid": "a84eec36-078e-4bd2-8562-f0a904399c92",
     "showTitle": false,
     "tableResultSettingsMap": {},
     "title": ""
    }
   },
   "outputs": [
    {
     "name": "stdout",
     "output_type": "stream",
     "text": [
      "DEBUG: Full API Response: {'choices': [{'content_filter_results': {'hate': {'filtered': False, 'severity': 'safe'}, 'self_harm': {'filtered': False, 'severity': 'safe'}, 'sexual': {'filtered': False, 'severity': 'safe'}, 'violence': {'filtered': False, 'severity': 'safe'}}, 'finish_reason': 'stop', 'index': 0, 'logprobs': None, 'message': {'content': 'Initial payout for claim 38945 has been approved and funds will be disbursed soon.', 'role': 'assistant'}}], 'created': 1739647529, 'id': 'chatcmpl-B1I53ADUvDmWimqloVREevZSUeHxh', 'model': 'gpt-4-turbo-2024-04-09', 'object': 'chat.completion', 'prompt_filter_results': [{'prompt_index': 0, 'content_filter_results': {'hate': {'filtered': False, 'severity': 'safe'}, 'jailbreak': {'filtered': False, 'detected': False}, 'self_harm': {'filtered': False, 'severity': 'safe'}, 'sexual': {'filtered': False, 'severity': 'safe'}, 'violence': {'filtered': False, 'severity': 'safe'}}}], 'system_fingerprint': 'fp_5603ee5e2e', 'usage': {'completion_tokens': 18, 'prompt_tokens': 44, 'total_tokens': 62}}\n",
      "DEBUG: Full API Response: {'choices': [{'content_filter_results': {'hate': {'filtered': False, 'severity': 'safe'}, 'self_harm': {'filtered': False, 'severity': 'safe'}, 'sexual': {'filtered': False, 'severity': 'safe'}, 'violence': {'filtered': False, 'severity': 'safe'}}, 'finish_reason': 'stop', 'index': 0, 'logprobs': None, 'message': {'content': 'Customer had a positive experience with rival insurance, describing their claim handling as quick and professional.', 'role': 'assistant'}}], 'created': 1739647529, 'id': 'chatcmpl-B1I53v734xfEU8e1v7B5P8ULWoYez', 'model': 'gpt-4-turbo-2024-04-09', 'object': 'chat.completion', 'prompt_filter_results': [{'prompt_index': 0, 'content_filter_results': {'hate': {'filtered': False, 'severity': 'safe'}, 'jailbreak': {'filtered': False, 'detected': False}, 'self_harm': {'filtered': False, 'severity': 'safe'}, 'sexual': {'filtered': False, 'severity': 'safe'}, 'violence': {'filtered': False, 'severity': 'safe'}}}], 'system_fingerprint': 'fp_5603ee5e2e', 'usage': {'completion_tokens': 18, 'prompt_tokens': 43, 'total_tokens': 61}}\n",
      "DEBUG: Full API Response: {'error': {'code': '429', 'message': 'Requests to the ChatCompletions_Create Operation under Azure OpenAI API version 2024-08-01-preview have exceeded call rate limit of your current AIServices S0 pricing tier. Please retry after 10 seconds. Please contact Azure support service if you would like to further increase the default rate limit.'}}\n",
      "⚠️ Rate limit exceeded. Retrying in 10 seconds... (Attempt 1/5)\n",
      "DEBUG: Full API Response: {'error': {'code': '429', 'message': 'Requests to the ChatCompletions_Create Operation under Azure OpenAI API version 2024-08-01-preview have exceeded call rate limit of your current AIServices S0 pricing tier. Please retry after 10 seconds. Please contact Azure support service if you would like to further increase the default rate limit.'}}\n",
      "⚠️ Rate limit exceeded. Retrying in 10 seconds... (Attempt 1/5)\n",
      "DEBUG: Full API Response: {'choices': [{'content_filter_results': {'hate': {'filtered': False, 'severity': 'safe'}, 'self_harm': {'filtered': False, 'severity': 'safe'}, 'sexual': {'filtered': False, 'severity': 'safe'}, 'violence': {'filtered': False, 'severity': 'safe'}}, 'finish_reason': 'stop', 'index': 0, 'logprobs': None, 'message': {'content': 'Claim 56789 has been approved and payment has been issued to the policyholder.', 'role': 'assistant'}}], 'created': 1739647540, 'id': 'chatcmpl-B1I5EXs0bYjzHQOBbE9owuPRJvdrT', 'model': 'gpt-4-turbo-2024-04-09', 'object': 'chat.completion', 'prompt_filter_results': [{'prompt_index': 0, 'content_filter_results': {'hate': {'filtered': False, 'severity': 'safe'}, 'jailbreak': {'filtered': False, 'detected': False}, 'self_harm': {'filtered': False, 'severity': 'safe'}, 'sexual': {'filtered': False, 'severity': 'safe'}, 'violence': {'filtered': False, 'severity': 'safe'}}}], 'system_fingerprint': 'fp_5603ee5e2e', 'usage': {'completion_tokens': 17, 'prompt_tokens': 41, 'total_tokens': 58}}\n",
      "DEBUG: Full API Response: {'choices': [{'content_filter_results': {'hate': {'filtered': False, 'severity': 'safe'}, 'self_harm': {'filtered': False, 'severity': 'safe'}, 'sexual': {'filtered': False, 'severity': 'safe'}, 'violence': {'filtered': False, 'severity': 'safe'}}, 'finish_reason': 'stop', 'index': 0, 'logprobs': None, 'message': {'content': 'The insurance claim involves a customer experiencing frustrating long wait times when trying to contact support.', 'role': 'assistant'}}], 'created': 1739647540, 'id': 'chatcmpl-B1I5E9QNGDtDNbDBR99SFdIfvfJI0', 'model': 'gpt-4-turbo-2024-04-09', 'object': 'chat.completion', 'prompt_filter_results': [{'prompt_index': 0, 'content_filter_results': {'hate': {'filtered': False, 'severity': 'safe'}, 'jailbreak': {'filtered': False, 'detected': False}, 'self_harm': {'filtered': False, 'severity': 'safe'}, 'sexual': {'filtered': False, 'severity': 'safe'}, 'violence': {'filtered': False, 'severity': 'safe'}}}], 'system_fingerprint': 'fp_5603ee5e2e', 'usage': {'completion_tokens': 17, 'prompt_tokens': 41, 'total_tokens': 58}}\n",
      "DEBUG: Full API Response: {'error': {'code': '429', 'message': 'Requests to the ChatCompletions_Create Operation under Azure OpenAI API version 2024-08-01-preview have exceeded call rate limit of your current AIServices S0 pricing tier. Please retry after 10 seconds. Please contact Azure support service if you would like to further increase the default rate limit.'}}\n",
      "⚠️ Rate limit exceeded. Retrying in 10 seconds... (Attempt 1/5)\n",
      "DEBUG: Full API Response: {'error': {'code': '429', 'message': 'Requests to the ChatCompletions_Create Operation under Azure OpenAI API version 2024-08-01-preview have exceeded call rate limit of your current AIServices S0 pricing tier. Please retry after 10 seconds. Please contact Azure support service if you would like to further increase the default rate limit.'}}\n",
      "⚠️ Rate limit exceeded. Retrying in 10 seconds... (Attempt 1/5)\n",
      "DEBUG: Full API Response: {'choices': [{'content_filter_results': {'hate': {'filtered': False, 'severity': 'safe'}, 'self_harm': {'filtered': False, 'severity': 'safe'}, 'sexual': {'filtered': False, 'severity': 'safe'}, 'violence': {'filtered': False, 'severity': 'safe'}}, 'finish_reason': 'stop', 'index': 0, 'logprobs': None, 'message': {'content': 'The insurance policy covers medical expenses up to $10,000 for each passenger.', 'role': 'assistant'}}], 'created': 1739647551, 'id': 'chatcmpl-B1I5PVlILWskfMYXFdyTPOHOfAssk', 'model': 'gpt-4-turbo-2024-04-09', 'object': 'chat.completion', 'prompt_filter_results': [{'prompt_index': 0, 'content_filter_results': {'hate': {'filtered': False, 'severity': 'safe'}, 'jailbreak': {'filtered': False, 'detected': False}, 'self_harm': {'filtered': False, 'severity': 'safe'}, 'sexual': {'filtered': False, 'severity': 'safe'}, 'violence': {'filtered': False, 'severity': 'safe'}}}], 'system_fingerprint': 'fp_5603ee5e2e', 'usage': {'completion_tokens': 16, 'prompt_tokens': 42, 'total_tokens': 58}}\n",
      "DEBUG: Full API Response: {'choices': [{'content_filter_results': {'hate': {'filtered': False, 'severity': 'safe'}, 'self_harm': {'filtered': False, 'severity': 'safe'}, 'sexual': {'filtered': False, 'severity': 'safe'}, 'violence': {'filtered': False, 'severity': 'safe'}}, 'finish_reason': 'stop', 'index': 0, 'logprobs': None, 'message': {'content': 'The insured is requesting more frequent and clearer updates on the status of their insurance claim.', 'role': 'assistant'}}], 'created': 1739647551, 'id': 'chatcmpl-B1I5Phtr6sN4qWyQcLMQTWhmj4cVQ', 'model': 'gpt-4-turbo-2024-04-09', 'object': 'chat.completion', 'prompt_filter_results': [{'prompt_index': 0, 'content_filter_results': {'hate': {'filtered': False, 'severity': 'safe'}, 'jailbreak': {'filtered': False, 'detected': False}, 'self_harm': {'filtered': False, 'severity': 'safe'}, 'sexual': {'filtered': False, 'severity': 'safe'}, 'violence': {'filtered': False, 'severity': 'safe'}}}], 'system_fingerprint': 'fp_5603ee5e2e', 'usage': {'completion_tokens': 17, 'prompt_tokens': 39, 'total_tokens': 56}}\n",
      "DEBUG: Full API Response: {'error': {'code': '429', 'message': 'Requests to the ChatCompletions_Create Operation under Azure OpenAI API version 2024-08-01-preview have exceeded call rate limit of your current AIServices S0 pricing tier. Please retry after 10 seconds. Please contact Azure support service if you would like to further increase the default rate limit.'}}\n",
      "⚠️ Rate limit exceeded. Retrying in 10 seconds... (Attempt 1/5)\n",
      "DEBUG: Full API Response: {'error': {'code': '429', 'message': 'Requests to the ChatCompletions_Create Operation under Azure OpenAI API version 2024-08-01-preview have exceeded call rate limit of your current AIServices S0 pricing tier. Please retry after 10 seconds. Please contact Azure support service if you would like to further increase the default rate limit.'}}\n",
      "⚠️ Rate limit exceeded. Retrying in 10 seconds... (Attempt 1/5)\n",
      "DEBUG: Full API Response: {'choices': [{'content_filter_results': {'hate': {'filtered': False, 'severity': 'safe'}, 'self_harm': {'filtered': False, 'severity': 'safe'}, 'sexual': {'filtered': False, 'severity': 'safe'}, 'violence': {'filtered': False, 'severity': 'safe'}}, 'finish_reason': 'stop', 'index': 0, 'logprobs': None, 'message': {'content': 'Claim 90345 has received final approval and payment is scheduled.', 'role': 'assistant'}}], 'created': 1739647562, 'id': 'chatcmpl-B1I5aQzgGMwLipxczlCIU2z3RKAmI', 'model': 'gpt-4-turbo-2024-04-09', 'object': 'chat.completion', 'prompt_filter_results': [{'prompt_index': 0, 'content_filter_results': {'hate': {'filtered': False, 'severity': 'safe'}, 'jailbreak': {'filtered': False, 'detected': False}, 'self_harm': {'filtered': False, 'severity': 'safe'}, 'sexual': {'filtered': False, 'severity': 'safe'}, 'violence': {'filtered': False, 'severity': 'safe'}}}], 'system_fingerprint': 'fp_5603ee5e2e', 'usage': {'completion_tokens': 13, 'prompt_tokens': 40, 'total_tokens': 53}}\n",
      "DEBUG: Full API Response: {'choices': [{'content_filter_results': {'hate': {'filtered': False, 'severity': 'safe'}, 'self_harm': {'filtered': False, 'severity': 'safe'}, 'sexual': {'filtered': False, 'severity': 'safe'}, 'violence': {'filtered': False, 'severity': 'safe'}}, 'finish_reason': 'stop', 'index': 0, 'logprobs': None, 'message': {'content': 'The insurance claim states that roadside assistance coverage provides towing services for up to 50 miles.', 'role': 'assistant'}}], 'created': 1739647562, 'id': 'chatcmpl-B1I5amVGx0gze09yvFHQ0vqZGzHl4', 'model': 'gpt-4-turbo-2024-04-09', 'object': 'chat.completion', 'prompt_filter_results': [{'prompt_index': 0, 'content_filter_results': {'hate': {'filtered': False, 'severity': 'safe'}, 'jailbreak': {'filtered': False, 'detected': False}, 'self_harm': {'filtered': False, 'severity': 'safe'}, 'sexual': {'filtered': False, 'severity': 'safe'}, 'violence': {'filtered': False, 'severity': 'safe'}}}], 'system_fingerprint': 'fp_5603ee5e2e', 'usage': {'completion_tokens': 18, 'prompt_tokens': 41, 'total_tokens': 59}}\n",
      "DEBUG: Full API Response: {'error': {'code': '429', 'message': 'Requests to the ChatCompletions_Create Operation under Azure OpenAI API version 2024-08-01-preview have exceeded call rate limit of your current AIServices S0 pricing tier. Please retry after 10 seconds. Please contact Azure support service if you would like to further increase the default rate limit.'}}\n",
      "⚠️ Rate limit exceeded. Retrying in 10 seconds... (Attempt 1/5)\n",
      "DEBUG: Full API Response: {'error': {'code': '429', 'message': 'Requests to the ChatCompletions_Create Operation under Azure OpenAI API version 2024-08-01-preview have exceeded call rate limit of your current AIServices S0 pricing tier. Please retry after 10 seconds. Please contact Azure support service if you would like to further increase the default rate limit.'}}\n",
      "⚠️ Rate limit exceeded. Retrying in 10 seconds... (Attempt 1/5)\n",
      "DEBUG: Full API Response: {'error': {'code': '429', 'message': 'Requests to the ChatCompletions_Create Operation under Azure OpenAI API version 2024-08-01-preview have exceeded token rate limit of your current AIServices S0 pricing tier. Please retry after 18 seconds. Please contact Azure support service if you would like to further increase the default rate limit.'}}\n",
      "⚠️ Rate limit exceeded. Retrying in 10 seconds... (Attempt 2/5)\n",
      "DEBUG: Full API Response: {'error': {'code': '429', 'message': 'Requests to the ChatCompletions_Create Operation under Azure OpenAI API version 2024-08-01-preview have exceeded token rate limit of your current AIServices S0 pricing tier. Please retry after 18 seconds. Please contact Azure support service if you would like to further increase the default rate limit.'}}\n",
      "⚠️ Rate limit exceeded. Retrying in 10 seconds... (Attempt 2/5)\n",
      "DEBUG: Full API Response: {'error': {'code': '429', 'message': 'Requests to the ChatCompletions_Create Operation under Azure OpenAI API version 2024-08-01-preview have exceeded token rate limit of your current AIServices S0 pricing tier. Please retry after 8 seconds. Please contact Azure support service if you would like to further increase the default rate limit.'}}\n",
      "⚠️ Rate limit exceeded. Retrying in 10 seconds... (Attempt 3/5)\n",
      "DEBUG: Full API Response: {'error': {'code': '429', 'message': 'Requests to the ChatCompletions_Create Operation under Azure OpenAI API version 2024-08-01-preview have exceeded call rate limit of your current AIServices S0 pricing tier. Please retry after 1 second. Please contact Azure support service if you would like to further increase the default rate limit.'}}\n",
      "⚠️ Rate limit exceeded. Retrying in 10 seconds... (Attempt 3/5)\n",
      "DEBUG: Full API Response: {'error': {'code': '429', 'message': 'Requests to the ChatCompletions_Create Operation under Azure OpenAI API version 2024-08-01-preview have exceeded call rate limit of your current AIServices S0 pricing tier. Please retry after 1 second. Please contact Azure support service if you would like to further increase the default rate limit.'}}\n",
      "⚠️ Rate limit exceeded. Retrying in 10 seconds... (Attempt 4/5)\n",
      "DEBUG: Full API Response: {'choices': [{'content_filter_results': {'hate': {'filtered': False, 'severity': 'safe'}, 'self_harm': {'filtered': False, 'severity': 'safe'}, 'sexual': {'filtered': False, 'severity': 'safe'}, 'violence': {'filtered': False, 'severity': 'safe'}}, 'finish_reason': 'stop', 'index': 0, 'logprobs': None, 'message': {'content': 'Claim 67234 is currently under investigation with an adjuster scheduled for next week.', 'role': 'assistant'}}], 'created': 1739647592, 'id': 'chatcmpl-B1I64s6X9ofMCtRjKSikAv43LTxjA', 'model': 'gpt-4-turbo-2024-04-09', 'object': 'chat.completion', 'prompt_filter_results': [{'prompt_index': 0, 'content_filter_results': {'hate': {'filtered': False, 'severity': 'safe'}, 'jailbreak': {'filtered': False, 'detected': False}, 'self_harm': {'filtered': False, 'severity': 'safe'}, 'sexual': {'filtered': False, 'severity': 'safe'}, 'violence': {'filtered': False, 'severity': 'safe'}}}], 'system_fingerprint': 'fp_5603ee5e2e', 'usage': {'completion_tokens': 17, 'prompt_tokens': 43, 'total_tokens': 60}}\n",
      "DEBUG: Full API Response: {'error': {'code': '429', 'message': 'Requests to the ChatCompletions_Create Operation under Azure OpenAI API version 2024-08-01-preview have exceeded call rate limit of your current AIServices S0 pricing tier. Please retry after 1 second. Please contact Azure support service if you would like to further increase the default rate limit.'}}\n",
      "⚠️ Rate limit exceeded. Retrying in 10 seconds... (Attempt 5/5)\n",
      "DEBUG: Full API Response: {'choices': [{'content_filter_results': {'hate': {'filtered': False, 'severity': 'safe'}, 'self_harm': {'filtered': False, 'severity': 'safe'}, 'sexual': {'filtered': False, 'severity': 'safe'}, 'violence': {'filtered': False, 'severity': 'safe'}}, 'finish_reason': 'stop', 'index': 0, 'logprobs': None, 'message': {'content': 'The insurance policy excludes coverage for intentional damage or illegal activities.', 'role': 'assistant'}}], 'created': 1739647612, 'id': 'chatcmpl-B1I6OKfasmu0fFLp6VbpvN1M4fwRH', 'model': 'gpt-4-turbo-2024-04-09', 'object': 'chat.completion', 'prompt_filter_results': [{'prompt_index': 0, 'content_filter_results': {'hate': {'filtered': False, 'severity': 'safe'}, 'jailbreak': {'filtered': False, 'detected': False}, 'self_harm': {'filtered': False, 'severity': 'safe'}, 'sexual': {'filtered': False, 'severity': 'safe'}, 'violence': {'filtered': False, 'severity': 'safe'}}}], 'system_fingerprint': 'fp_5603ee5e2e', 'usage': {'completion_tokens': 12, 'prompt_tokens': 43, 'total_tokens': 55}}\n",
      "DEBUG: Full API Response: {'choices': [{'content_filter_results': {'hate': {'filtered': False, 'severity': 'safe'}, 'self_harm': {'filtered': False, 'severity': 'safe'}, 'sexual': {'filtered': False, 'severity': 'safe'}, 'violence': {'filtered': False, 'severity': 'safe'}}, 'finish_reason': 'stop', 'index': 0, 'logprobs': None, 'message': {'content': 'Deductibles for insurance claims depend on the specific claim type and the terms of the policy.', 'role': 'assistant'}}], 'created': 1739647612, 'id': 'chatcmpl-B1I6OTgGIXjm6rGgEbUSigBgaQL1K', 'model': 'gpt-4-turbo-2024-04-09', 'object': 'chat.completion', 'prompt_filter_results': [{'prompt_index': 0, 'content_filter_results': {'hate': {'filtered': False, 'severity': 'safe'}, 'jailbreak': {'filtered': False, 'detected': False}, 'self_harm': {'filtered': False, 'severity': 'safe'}, 'sexual': {'filtered': False, 'severity': 'safe'}, 'violence': {'filtered': False, 'severity': 'safe'}}}], 'system_fingerprint': 'fp_5603ee5e2e', 'usage': {'completion_tokens': 19, 'prompt_tokens': 43, 'total_tokens': 62}}\n",
      "DEBUG: Full API Response: {'error': {'code': '429', 'message': 'Requests to the ChatCompletions_Create Operation under Azure OpenAI API version 2024-08-01-preview have exceeded call rate limit of your current AIServices S0 pricing tier. Please retry after 10 seconds. Please contact Azure support service if you would like to further increase the default rate limit.'}}\n",
      "⚠️ Rate limit exceeded. Retrying in 10 seconds... (Attempt 1/5)\n",
      "DEBUG: Full API Response: {'error': {'code': '429', 'message': 'Requests to the ChatCompletions_Create Operation under Azure OpenAI API version 2024-08-01-preview have exceeded call rate limit of your current AIServices S0 pricing tier. Please retry after 10 seconds. Please contact Azure support service if you would like to further increase the default rate limit.'}}\n",
      "⚠️ Rate limit exceeded. Retrying in 10 seconds... (Attempt 1/5)\n",
      "DEBUG: Full API Response: {'error': {'code': '429', 'message': 'Requests to the ChatCompletions_Create Operation under Azure OpenAI API version 2024-08-01-preview have exceeded call rate limit of your current AIServices S0 pricing tier. Please retry after 10 seconds. Please contact Azure support service if you would like to further increase the default rate limit.'}}\n",
      "⚠️ Rate limit exceeded. Retrying in 10 seconds... (Attempt 2/5)\n",
      "DEBUG: Full API Response: {'choices': [{'content_filter_results': {'hate': {'filtered': False, 'severity': 'safe'}, 'self_harm': {'filtered': False, 'severity': 'safe'}, 'sexual': {'filtered': False, 'severity': 'safe'}, 'violence': {'filtered': False, 'severity': 'safe'}}, 'finish_reason': 'stop', 'index': 0, 'logprobs': None, 'message': {'content': 'The online claim process was straightforward, however, the response time was slower than anticipated.', 'role': 'assistant'}}], 'created': 1739647623, 'id': 'chatcmpl-B1I6Z6gpaLx7ouCiPOQvaJ0qMWReX', 'model': 'gpt-4-turbo-2024-04-09', 'object': 'chat.completion', 'prompt_filter_results': [{'prompt_index': 0, 'content_filter_results': {'hate': {'filtered': False, 'severity': 'safe'}, 'jailbreak': {'filtered': False, 'detected': False}, 'self_harm': {'filtered': False, 'severity': 'safe'}, 'sexual': {'filtered': False, 'severity': 'safe'}, 'violence': {'filtered': False, 'severity': 'safe'}}}], 'system_fingerprint': 'fp_5603ee5e2e', 'usage': {'completion_tokens': 17, 'prompt_tokens': 45, 'total_tokens': 62}}\n",
      "DEBUG: Full API Response: {'choices': [{'content_filter_results': {'hate': {'filtered': False, 'severity': 'safe'}, 'self_harm': {'filtered': False, 'severity': 'safe'}, 'sexual': {'filtered': False, 'severity': 'safe'}, 'violence': {'filtered': False, 'severity': 'safe'}}, 'finish_reason': 'stop', 'index': 0, 'logprobs': None, 'message': {'content': \"This is a positive feedback claim expressing satisfaction with the policy coverage and the service's promptness.\", 'role': 'assistant'}}], 'created': 1739647633, 'id': 'chatcmpl-B1I6jE2olsoB8ENY5eYFul9CyJv7O', 'model': 'gpt-4-turbo-2024-04-09', 'object': 'chat.completion', 'prompt_filter_results': [{'prompt_index': 0, 'content_filter_results': {'hate': {'filtered': False, 'severity': 'safe'}, 'jailbreak': {'filtered': False, 'detected': False}, 'self_harm': {'filtered': False, 'severity': 'safe'}, 'sexual': {'filtered': False, 'severity': 'safe'}, 'violence': {'filtered': False, 'severity': 'safe'}}}], 'system_fingerprint': 'fp_5603ee5e2e', 'usage': {'completion_tokens': 19, 'prompt_tokens': 42, 'total_tokens': 61}}\n",
      "DEBUG: Full API Response: {'error': {'code': '429', 'message': 'Requests to the ChatCompletions_Create Operation under Azure OpenAI API version 2024-08-01-preview have exceeded call rate limit of your current AIServices S0 pricing tier. Please retry after 10 seconds. Please contact Azure support service if you would like to further increase the default rate limit.'}}\n",
      "⚠️ Rate limit exceeded. Retrying in 10 seconds... (Attempt 1/5)\n",
      "DEBUG: Full API Response: {'error': {'code': '429', 'message': 'Requests to the ChatCompletions_Create Operation under Azure OpenAI API version 2024-08-01-preview have exceeded call rate limit of your current AIServices S0 pricing tier. Please retry after 10 seconds. Please contact Azure support service if you would like to further increase the default rate limit.'}}\n",
      "⚠️ Rate limit exceeded. Retrying in 10 seconds... (Attempt 1/5)\n",
      "DEBUG: Full API Response: {'choices': [{'content_filter_results': {'hate': {'filtered': False, 'severity': 'safe'}, 'self_harm': {'filtered': False, 'severity': 'safe'}, 'sexual': {'filtered': False, 'severity': 'safe'}, 'violence': {'filtered': False, 'severity': 'safe'}}, 'finish_reason': 'stop', 'index': 0, 'logprobs': None, 'message': {'content': 'Annual policy reviews adjust coverage based on risk assessment to ensure appropriate coverage.', 'role': 'assistant'}}], 'created': 1739647644, 'id': 'chatcmpl-B1I6uYdp5w9j4iYyO42oz1BnPaYkD', 'model': 'gpt-4-turbo-2024-04-09', 'object': 'chat.completion', 'prompt_filter_results': [{'prompt_index': 0, 'content_filter_results': {'hate': {'filtered': False, 'severity': 'safe'}, 'jailbreak': {'filtered': False, 'detected': False}, 'self_harm': {'filtered': False, 'severity': 'safe'}, 'sexual': {'filtered': False, 'severity': 'safe'}, 'violence': {'filtered': False, 'severity': 'safe'}}}], 'system_fingerprint': 'fp_5603ee5e2e', 'usage': {'completion_tokens': 14, 'prompt_tokens': 43, 'total_tokens': 57}}\n",
      "DEBUG: Full API Response: {'choices': [{'content_filter_results': {'hate': {'filtered': False, 'severity': 'safe'}, 'self_harm': {'filtered': False, 'severity': 'safe'}, 'sexual': {'filtered': False, 'severity': 'safe'}, 'violence': {'filtered': False, 'severity': 'safe'}}, 'finish_reason': 'stop', 'index': 0, 'logprobs': None, 'message': {'content': 'Claim 11234 has discrepancies in reported damages; additional evidence requested from claimant.', 'role': 'assistant'}}], 'created': 1739647644, 'id': 'chatcmpl-B1I6uAiQ7KIPyKvg6uPNQ4qO60oaB', 'model': 'gpt-4-turbo-2024-04-09', 'object': 'chat.completion', 'prompt_filter_results': [{'prompt_index': 0, 'content_filter_results': {'hate': {'filtered': False, 'severity': 'safe'}, 'jailbreak': {'filtered': False, 'detected': False}, 'self_harm': {'filtered': False, 'severity': 'safe'}, 'sexual': {'filtered': False, 'severity': 'safe'}, 'violence': {'filtered': False, 'severity': 'safe'}}}], 'system_fingerprint': 'fp_5603ee5e2e', 'usage': {'completion_tokens': 17, 'prompt_tokens': 49, 'total_tokens': 66}}\n",
      "DEBUG: Full API Response: {'error': {'code': '429', 'message': 'Requests to the ChatCompletions_Create Operation under Azure OpenAI API version 2024-08-01-preview have exceeded call rate limit of your current AIServices S0 pricing tier. Please retry after 10 seconds. Please contact Azure support service if you would like to further increase the default rate limit.'}}\n",
      "⚠️ Rate limit exceeded. Retrying in 10 seconds... (Attempt 1/5)\n",
      "DEBUG: Full API Response: {'error': {'code': '429', 'message': 'Requests to the ChatCompletions_Create Operation under Azure OpenAI API version 2024-08-01-preview have exceeded call rate limit of your current AIServices S0 pricing tier. Please retry after 10 seconds. Please contact Azure support service if you would like to further increase the default rate limit.'}}\n",
      "⚠️ Rate limit exceeded. Retrying \n",
      "\n",
      "*** WARNING: max output size exceeded, skipping output. ***\n",
      "\n",
      "nish_reason': 'stop', 'index': 0, 'logprobs': None, 'message': {'content': 'Policyholders must inform the insurance company of any address changes within 30 days.', 'role': 'assistant'}}], 'created': 1739648387, 'id': 'chatcmpl-B1IItO8RIK6uaD0Rf8woHAQT15pRt', 'model': 'gpt-4-turbo-2024-04-09', 'object': 'chat.completion', 'prompt_filter_results': [{'prompt_index': 0, 'content_filter_results': {'hate': {'filtered': False, 'severity': 'safe'}, 'jailbreak': {'filtered': False, 'detected': False}, 'self_harm': {'filtered': False, 'severity': 'safe'}, 'sexual': {'filtered': False, 'severity': 'safe'}, 'violence': {'filtered': False, 'severity': 'safe'}}}], 'system_fingerprint': 'fp_5603ee5e2e', 'usage': {'completion_tokens': 16, 'prompt_tokens': 47, 'total_tokens': 63}}\n",
      "DEBUG: Full API Response: {'choices': [{'content_filter_results': {'hate': {'filtered': False, 'severity': 'safe'}, 'self_harm': {'filtered': False, 'severity': 'safe'}, 'sexual': {'filtered': False, 'severity': 'safe'}, 'violence': {'filtered': False, 'severity': 'safe'}}, 'finish_reason': 'stop', 'index': 0, 'logprobs': None, 'message': {'content': \"Claim 98234 has been approved and is pending the policyholder's selection of a payout method.\", 'role': 'assistant'}}], 'created': 1739648387, 'id': 'chatcmpl-B1IItzFM1fikdhliH1rqseHAmXZ8O', 'model': 'gpt-4-turbo-2024-04-09', 'object': 'chat.completion', 'prompt_filter_results': [{'prompt_index': 0, 'content_filter_results': {'hate': {'filtered': False, 'severity': 'safe'}, 'jailbreak': {'filtered': False, 'detected': False}, 'self_harm': {'filtered': False, 'severity': 'safe'}, 'sexual': {'filtered': False, 'severity': 'safe'}, 'violence': {'filtered': False, 'severity': 'safe'}}}], 'system_fingerprint': 'fp_5603ee5e2e', 'usage': {'completion_tokens': 20, 'prompt_tokens': 44, 'total_tokens': 64}}\n",
      "DEBUG: Full API Response: {'error': {'code': '429', 'message': 'Requests to the ChatCompletions_Create Operation under Azure OpenAI API version 2024-08-01-preview have exceeded call rate limit of your current AIServices S0 pricing tier. Please retry after 10 seconds. Please contact Azure support service if you would like to further increase the default rate limit.'}}\n",
      "⚠️ Rate limit exceeded. Retrying in 10 seconds... (Attempt 1/5)\n",
      "DEBUG: Full API Response: {'error': {'code': '429', 'message': 'Requests to the ChatCompletions_Create Operation under Azure OpenAI API version 2024-08-01-preview have exceeded call rate limit of your current AIServices S0 pricing tier. Please retry after 10 seconds. Please contact Azure support service if you would like to further increase the default rate limit.'}}\n",
      "⚠️ Rate limit exceeded. Retrying in 10 seconds... (Attempt 1/5)\n",
      "DEBUG: Full API Response: {'error': {'code': '429', 'message': 'Requests to the ChatCompletions_Create Operation under Azure OpenAI API version 2024-08-01-preview have exceeded token rate limit of your current AIServices S0 pricing tier. Please retry after 8 seconds. Please contact Azure support service if you would like to further increase the default rate limit.'}}\n",
      "⚠️ Rate limit exceeded. Retrying in 10 seconds... (Attempt 2/5)\n",
      "DEBUG: Full API Response: {'error': {'code': '429', 'message': 'Requests to the ChatCompletions_Create Operation under Azure OpenAI API version 2024-08-01-preview have exceeded token rate limit of your current AIServices S0 pricing tier. Please retry after 9 seconds. Please contact Azure support service if you would like to further increase the default rate limit.'}}\n",
      "⚠️ Rate limit exceeded. Retrying in 10 seconds... (Attempt 2/5)\n",
      "DEBUG: Full API Response: {'error': {'code': '429', 'message': 'Requests to the ChatCompletions_Create Operation under Azure OpenAI API version 2024-08-01-preview have exceeded call rate limit of your current AIServices S0 pricing tier. Please retry after 1 second. Please contact Azure support service if you would like to further increase the default rate limit.'}}\n",
      "⚠️ Rate limit exceeded. Retrying in 10 seconds... (Attempt 3/5)\n",
      "DEBUG: Full API Response: {'choices': [{'content_filter_results': {'hate': {'filtered': False, 'severity': 'safe'}, 'protected_material_code': {'filtered': False, 'detected': False}, 'protected_material_text': {'filtered': False, 'detected': False}, 'self_harm': {'filtered': False, 'severity': 'safe'}, 'sexual': {'filtered': False, 'severity': 'safe'}, 'violence': {'filtered': False, 'severity': 'safe'}}, 'finish_reason': 'stop', 'index': 0, 'logprobs': None, 'message': {'content': 'Long phone wait times, helpful service once connected.', 'role': 'assistant'}}], 'created': 1739648407, 'id': 'chatcmpl-B1IJDmw85LXZxqIay4GH8wxMcVF3x', 'model': 'gpt-4-turbo-2024-04-09', 'object': 'chat.completion', 'prompt_filter_results': [{'prompt_index': 0, 'content_filter_results': {'hate': {'filtered': False, 'severity': 'safe'}, 'jailbreak': {'filtered': False, 'detected': False}, 'self_harm': {'filtered': False, 'severity': 'safe'}, 'sexual': {'filtered': False, 'severity': 'safe'}, 'violence': {'filtered': False, 'severity': 'safe'}}}], 'system_fingerprint': 'fp_5603ee5e2e', 'usage': {'completion_tokens': 10, 'prompt_tokens': 42, 'total_tokens': 52}}\n",
      "DEBUG: Full API Response: {'choices': [{'content_filter_results': {'hate': {'filtered': False, 'severity': 'safe'}, 'self_harm': {'filtered': False, 'severity': 'safe'}, 'sexual': {'filtered': False, 'severity': 'safe'}, 'violence': {'filtered': False, 'severity': 'safe'}}, 'finish_reason': 'stop', 'index': 0, 'logprobs': None, 'message': {'content': 'Claim 98213 indicates potential fraud and has been referred to the fraud department for further investigation.', 'role': 'assistant'}}], 'created': 1739648418, 'id': 'chatcmpl-B1IJOB5PKFzwX1eL2EUUveuz2WjYL', 'model': 'gpt-4-turbo-2024-04-09', 'object': 'chat.completion', 'prompt_filter_results': [{'prompt_index': 0, 'content_filter_results': {'hate': {'filtered': False, 'severity': 'safe'}, 'jailbreak': {'filtered': False, 'detected': False}, 'self_harm': {'filtered': False, 'severity': 'safe'}, 'sexual': {'filtered': False, 'severity': 'safe'}, 'violence': {'filtered': False, 'severity': 'safe'}}}], 'system_fingerprint': 'fp_5603ee5e2e', 'usage': {'completion_tokens': 19, 'prompt_tokens': 48, 'total_tokens': 67}}\n",
      "DEBUG: Full API Response: {'error': {'code': '429', 'message': 'Requests to the ChatCompletions_Create Operation under Azure OpenAI API version 2024-08-01-preview have exceeded call rate limit of your current AIServices S0 pricing tier. Please retry after 10 seconds. Please contact Azure support service if you would like to further increase the default rate limit.'}}\n",
      "⚠️ Rate limit exceeded. Retrying in 10 seconds... (Attempt 1/5)\n",
      "DEBUG: Full API Response: {'error': {'code': '429', 'message': 'Requests to the ChatCompletions_Create Operation under Azure OpenAI API version 2024-08-01-preview have exceeded call rate limit of your current AIServices S0 pricing tier. Please retry after 10 seconds. Please contact Azure support service if you would like to further increase the default rate limit.'}}\n",
      "⚠️ Rate limit exceeded. Retrying in 10 seconds... (Attempt 1/5)\n",
      "DEBUG: Full API Response: {'error': {'code': '429', 'message': 'Requests to the ChatCompletions_Create Operation under Azure OpenAI API version 2024-08-01-preview have exceeded token rate limit of your current AIServices S0 pricing tier. Please retry after 8 seconds. Please contact Azure support service if you would like to further increase the default rate limit.'}}\n",
      "⚠️ Rate limit exceeded. Retrying in 10 seconds... (Attempt 2/5)\n",
      "DEBUG: Full API Response: {'error': {'code': '429', 'message': 'Requests to the ChatCompletions_Create Operation under Azure OpenAI API version 2024-08-01-preview have exceeded token rate limit of your current AIServices S0 pricing tier. Please retry after 8 seconds. Please contact Azure support service if you would like to further increase the default rate limit.'}}\n",
      "⚠️ Rate limit exceeded. Retrying in 10 seconds... (Attempt 2/5)\n",
      "DEBUG: Full API Response: {'error': {'code': '429', 'message': 'Requests to the ChatCompletions_Create Operation under Azure OpenAI API version 2024-08-01-preview have exceeded call rate limit of your current AIServices S0 pricing tier. Please retry after 1 second. Please contact Azure support service if you would like to further increase the default rate limit.'}}\n",
      "⚠️ Rate limit exceeded. Retrying in 10 seconds... (Attempt 3/5)\n",
      "DEBUG: Full API Response: {'error': {'code': '429', 'message': 'Requests to the ChatCompletions_Create Operation under Azure OpenAI API version 2024-08-01-preview have exceeded call rate limit of your current AIServices S0 pricing tier. Please retry after 1 second. Please contact Azure support service if you would like to further increase the default rate limit.'}}\n",
      "⚠️ Rate limit exceeded. Retrying in 10 seconds... (Attempt 3/5)\n",
      "DEBUG: Full API Response: {'choices': [{'content_filter_results': {'hate': {'filtered': False, 'severity': 'safe'}, 'self_harm': {'filtered': False, 'severity': 'safe'}, 'sexual': {'filtered': False, 'severity': 'safe'}, 'violence': {'filtered': False, 'severity': 'safe'}}, 'finish_reason': 'stop', 'index': 0, 'logprobs': None, 'message': {'content': 'The claimant is dissatisfied with the unresolved status of their insurance claim after three weeks.', 'role': 'assistant'}}], 'created': 1739648448, 'id': 'chatcmpl-B1IJsM1lMtWfECn4q6GYPXisna4Vs', 'model': 'gpt-4-turbo-2024-04-09', 'object': 'chat.completion', 'prompt_filter_results': [{'prompt_index': 0, 'content_filter_results': {'hate': {'filtered': False, 'severity': 'safe'}, 'jailbreak': {'filtered': False, 'detected': False}, 'self_harm': {'filtered': False, 'severity': 'safe'}, 'sexual': {'filtered': False, 'severity': 'safe'}, 'violence': {'filtered': False, 'severity': 'safe'}}}], 'system_fingerprint': 'fp_5603ee5e2e', 'usage': {'completion_tokens': 18, 'prompt_tokens': 41, 'total_tokens': 59}}\n",
      "DEBUG: Full API Response: {'choices': [{'content_filter_results': {'hate': {'filtered': False, 'severity': 'safe'}, 'self_harm': {'filtered': False, 'severity': 'safe'}, 'sexual': {'filtered': False, 'severity': 'safe'}, 'violence': {'filtered': False, 'severity': 'safe'}}, 'finish_reason': 'stop', 'index': 0, 'logprobs': None, 'message': {'content': 'The insurance claim was denied despite submitting all required documents, and the policy will not be renewed.', 'role': 'assistant'}}], 'created': 1739648448, 'id': 'chatcmpl-B1IJsW5a2VNQYX6hNCRiainaytY4M', 'model': 'gpt-4-turbo-2024-04-09', 'object': 'chat.completion', 'prompt_filter_results': [{'prompt_index': 0, 'content_filter_results': {'hate': {'filtered': False, 'severity': 'safe'}, 'jailbreak': {'filtered': False, 'detected': False}, 'self_harm': {'filtered': False, 'severity': 'safe'}, 'sexual': {'filtered': False, 'severity': 'safe'}, 'violence': {'filtered': False, 'severity': 'safe'}}}], 'system_fingerprint': 'fp_5603ee5e2e', 'usage': {'completion_tokens': 19, 'prompt_tokens': 45, 'total_tokens': 64}}\n",
      "DEBUG: Full API Response: {'error': {'code': '429', 'message': 'Requests to the ChatCompletions_Create Operation under Azure OpenAI API version 2024-08-01-preview have exceeded call rate limit of your current AIServices S0 pricing tier. Please retry after 10 seconds. Please contact Azure support service if you would like to further increase the default rate limit.'}}\n",
      "⚠️ Rate limit exceeded. Retrying in 10 seconds... (Attempt 1/5)\n",
      "DEBUG: Full API Response: {'error': {'code': '429', 'message': 'Requests to the ChatCompletions_Create Operation under Azure OpenAI API version 2024-08-01-preview have exceeded call rate limit of your current AIServices S0 pricing tier. Please retry after 10 seconds. Please contact Azure support service if you would like to further increase the default rate limit.'}}\n",
      "⚠️ Rate limit exceeded. Retrying in 10 seconds... (Attempt 1/5)\n",
      "DEBUG: Full API Response: {'choices': [{'content_filter_results': {'hate': {'filtered': False, 'severity': 'safe'}, 'self_harm': {'filtered': False, 'severity': 'safe'}, 'sexual': {'filtered': False, 'severity': 'safe'}, 'violence': {'filtered': False, 'severity': 'safe'}}, 'finish_reason': 'stop', 'index': 0, 'logprobs': None, 'message': {'content': 'The insurance claim describes that customers who bundle auto and home insurance are eligible for multipolicy discounts.', 'role': 'assistant'}}], 'created': 1739648459, 'id': 'chatcmpl-B1IK3QWVfCfuKxrDrGEr9eHwKA9sv', 'model': 'gpt-4-turbo-2024-04-09', 'object': 'chat.completion', 'prompt_filter_results': [{'prompt_index': 0, 'content_filter_results': {'hate': {'filtered': False, 'severity': 'safe'}, 'jailbreak': {'filtered': False, 'detected': False}, 'self_harm': {'filtered': False, 'severity': 'safe'}, 'sexual': {'filtered': False, 'severity': 'safe'}, 'violence': {'filtered': False, 'severity': 'safe'}}}], 'system_fingerprint': 'fp_5603ee5e2e', 'usage': {'completion_tokens': 19, 'prompt_tokens': 43, 'total_tokens': 62}}\n",
      "DEBUG: Full API Response: {'choices': [{'content_filter_results': {'hate': {'filtered': False, 'severity': 'safe'}, 'self_harm': {'filtered': False, 'severity': 'safe'}, 'sexual': {'filtered': False, 'severity': 'safe'}, 'violence': {'filtered': False, 'severity': 'safe'}}, 'finish_reason': 'stop', 'index': 0, 'logprobs': None, 'message': {'content': 'Claim 12345 was denied due to insufficient documentation, and the appeal process was explained to the policyholder.', 'role': 'assistant'}}], 'created': 1739648459, 'id': 'chatcmpl-B1IK3IHxD7yHCP0JfxrAwQuBPdcxj', 'model': 'gpt-4-turbo-2024-04-09', 'object': 'chat.completion', 'prompt_filter_results': [{'prompt_index': 0, 'content_filter_results': {'hate': {'filtered': False, 'severity': 'safe'}, 'jailbreak': {'filtered': False, 'detected': False}, 'self_harm': {'filtered': False, 'severity': 'safe'}, 'sexual': {'filtered': False, 'severity': 'safe'}, 'violence': {'filtered': False, 'severity': 'safe'}}}], 'system_fingerprint': 'fp_5603ee5e2e', 'usage': {'completion_tokens': 22, 'prompt_tokens': 46, 'total_tokens': 68}}\n",
      "DEBUG: Full API Response: {'error': {'code': '429', 'message': 'Requests to the ChatCompletions_Create Operation under Azure OpenAI API version 2024-08-01-preview have exceeded call rate limit of your current AIServices S0 pricing tier. Please retry after 10 seconds. Please contact Azure support service if you would like to further increase the default rate limit.'}}\n",
      "⚠️ Rate limit exceeded. Retrying in 10 seconds... (Attempt 1/5)\n",
      "DEBUG: Full API Response: {'error': {'code': '429', 'message': 'Requests to the ChatCompletions_Create Operation under Azure OpenAI API version 2024-08-01-preview have exceeded call rate limit of your current AIServices S0 pricing tier. Please retry after 10 seconds. Please contact Azure support service if you would like to further increase the default rate limit.'}}\n",
      "⚠️ Rate limit exceeded. Retrying in 10 seconds... (Attempt 1/5)\n",
      "DEBUG: Full API Response: {'choices': [{'content_filter_results': {'hate': {'filtered': False, 'severity': 'safe'}, 'self_harm': {'filtered': False, 'severity': 'safe'}, 'sexual': {'filtered': False, 'severity': 'safe'}, 'violence': {'filtered': False, 'severity': 'safe'}}, 'finish_reason': 'stop', 'index': 0, 'logprobs': None, 'message': {'content': 'Issues with documentation for insurance claim; resolved with helpful support.', 'role': 'assistant'}}], 'created': 1739648470, 'id': 'chatcmpl-B1IKE8uEfwF5DYmrXjQ2wAxVwsJ4f', 'model': 'gpt-4-turbo-2024-04-09', 'object': 'chat.completion', 'prompt_filter_results': [{'prompt_index': 0, 'content_filter_results': {'hate': {'filtered': False, 'severity': 'safe'}, 'jailbreak': {'filtered': False, 'detected': False}, 'self_harm': {'filtered': False, 'severity': 'safe'}, 'sexual': {'filtered': False, 'severity': 'safe'}, 'violence': {'filtered': False, 'severity': 'safe'}}}], 'system_fingerprint': 'fp_5603ee5e2e', 'usage': {'completion_tokens': 12, 'prompt_tokens': 41, 'total_tokens': 53}}\n",
      "DEBUG: Full API Response: {'choices': [{'content_filter_results': {'hate': {'filtered': False, 'severity': 'safe'}, 'self_harm': {'filtered': False, 'severity': 'safe'}, 'sexual': {'filtered': False, 'severity': 'safe'}, 'violence': {'filtered': False, 'severity': 'safe'}}, 'finish_reason': 'stop', 'index': 0, 'logprobs': None, 'message': {'content': \"Insurance claim 98213 has been escalated and is pending a manager's decision after further review.\", 'role': 'assistant'}}], 'created': 1739648470, 'id': 'chatcmpl-B1IKECbw4aTUYhlQIgbJVfJSmUAJe', 'model': 'gpt-4-turbo-2024-04-09', 'object': 'chat.completion', 'prompt_filter_results': [{'prompt_index': 0, 'content_filter_results': {'hate': {'filtered': False, 'severity': 'safe'}, 'jailbreak': {'filtered': False, 'detected': False}, 'self_harm': {'filtered': False, 'severity': 'safe'}, 'sexual': {'filtered': False, 'severity': 'safe'}, 'violence': {'filtered': False, 'severity': 'safe'}}}], 'system_fingerprint': 'fp_5603ee5e2e', 'usage': {'completion_tokens': 19, 'prompt_tokens': 43, 'total_tokens': 62}}\n",
      "DEBUG: Full API Response: {'error': {'code': '429', 'message': 'Requests to the ChatCompletions_Create Operation under Azure OpenAI API version 2024-08-01-preview have exceeded call rate limit of your current AIServices S0 pricing tier. Please retry after 10 seconds. Please contact Azure support service if you would like to further increase the default rate limit.'}}\n",
      "⚠️ Rate limit exceeded. Retrying in 10 seconds... (Attempt 1/5)\n",
      "DEBUG: Full API Response: {'error': {'code': '429', 'message': 'Requests to the ChatCompletions_Create Operation under Azure OpenAI API version 2024-08-01-preview have exceeded call rate limit of your current AIServices S0 pricing tier. Please retry after 10 seconds. Please contact Azure support service if you would like to further increase the default rate limit.'}}\n",
      "⚠️ Rate limit exceeded. Retrying in 10 seconds... (Attempt 1/5)\n",
      "DEBUG: Full API Response: {'error': {'code': '429', 'message': 'Requests to the ChatCompletions_Create Operation under Azure OpenAI API version 2024-08-01-preview have exceeded token rate limit of your current AIServices S0 pricing tier. Please retry after 29 seconds. Please contact Azure support service if you would like to further increase the default rate limit.'}}\n",
      "⚠️ Rate limit exceeded. Retrying in 10 seconds... (Attempt 2/5)\n",
      "DEBUG: Full API Response: {'error': {'code': '429', 'message': 'Requests to the ChatCompletions_Create Operation under Azure OpenAI API version 2024-08-01-preview have exceeded token rate limit of your current AIServices S0 pricing tier. Please retry after 28 seconds. Please contact Azure support service if you would like to further increase the default rate limit.'}}\n",
      "⚠️ Rate limit exceeded. Retrying in 10 seconds... (Attempt 2/5)\n",
      "DEBUG: Full API Response: {'error': {'code': '429', 'message': 'Requests to the ChatCompletions_Create Operation under Azure OpenAI API version 2024-08-01-preview have exceeded call rate limit of your current AIServices S0 pricing tier. Please retry after 1 second. Please contact Azure support service if you would like to further increase the default rate limit.'}}\n",
      "⚠️ Rate limit exceeded. Retrying in 10 seconds... (Attempt 3/5)\n",
      "DEBUG: Full API Response: {'error': {'code': '429', 'message': 'Requests to the ChatCompletions_Create Operation under Azure OpenAI API version 2024-08-01-preview have exceeded call rate limit of your current AIServices S0 pricing tier. Please retry after 1 second. Please contact Azure support service if you would like to further increase the default rate limit.'}}\n",
      "⚠️ Rate limit exceeded. Retrying in 10 seconds... (Attempt 3/5)\n",
      "DEBUG: Full API Response: {'error': {'code': '429', 'message': 'Requests to the ChatCompletions_Create Operation under Azure OpenAI API version 2024-08-01-preview have exceeded token rate limit of your current AIServices S0 pricing tier. Please retry after 8 seconds. Please contact Azure support service if you would like to further increase the default rate limit.'}}\n",
      "⚠️ Rate limit exceeded. Retrying in 10 seconds... (Attempt 4/5)\n",
      "DEBUG: Full API Response: {'error': {'code': '429', 'message': 'Requests to the ChatCompletions_Create Operation under Azure OpenAI API version 2024-08-01-preview have exceeded token rate limit of your current AIServices S0 pricing tier. Please retry after 8 seconds. Please contact Azure support service if you would like to further increase the default rate limit.'}}\n",
      "⚠️ Rate limit exceeded. Retrying in 10 seconds... (Attempt 4/5)\n",
      "DEBUG: Full API Response: {'error': {'code': '429', 'message': 'Requests to the ChatCompletions_Create Operation under Azure OpenAI API version 2024-08-01-preview have exceeded call rate limit of your current AIServices S0 pricing tier. Please retry after 1 second. Please contact Azure support service if you would like to further increase the default rate limit.'}}\n",
      "⚠️ Rate limit exceeded. Retrying in 10 seconds... (Attempt 5/5)\n",
      "DEBUG: Full API Response: {'choices': [{'content_filter_results': {'hate': {'filtered': False, 'severity': 'safe'}, 'self_harm': {'filtered': False, 'severity': 'safe'}, 'sexual': {'filtered': False, 'severity': 'safe'}, 'violence': {'filtered': False, 'severity': 'safe'}}, 'finish_reason': 'stop', 'index': 0, 'logprobs': None, 'message': {'content': 'The insurance policy covers emergency accommodation expenses for policyholders stranded due to accidents.', 'role': 'assistant'}}], 'created': 1739648511, 'id': 'chatcmpl-B1IKt433BM08MHvjXrVmP8cMFEVRV', 'model': 'gpt-4-turbo-2024-04-09', 'object': 'chat.completion', 'prompt_filter_results': [{'prompt_index': 0, 'content_filter_results': {'hate': {'filtered': False, 'severity': 'safe'}, 'jailbreak': {'filtered': False, 'detected': False}, 'self_harm': {'filtered': False, 'severity': 'safe'}, 'sexual': {'filtered': False, 'severity': 'safe'}, 'violence': {'filtered': False, 'severity': 'safe'}}}], 'system_fingerprint': 'fp_5603ee5e2e', 'usage': {'completion_tokens': 15, 'prompt_tokens': 44, 'total_tokens': 59}}\n",
      "DEBUG: Full API Response: {'error': {'code': '429', 'message': 'Requests to the ChatCompletions_Create Operation under Azure OpenAI API version 2024-08-01-preview have exceeded call rate limit of your current AIServices S0 pricing tier. Please retry after 1 second. Please contact Azure support service if you would like to further increase the default rate limit.'}}\n",
      "⚠️ Rate limit exceeded. Retrying in 10 seconds... (Attempt 1/5)\n",
      "DEBUG: Full API Response: {'choices': [{'content_filter_results': {'hate': {'filtered': False, 'severity': 'safe'}, 'self_harm': {'filtered': False, 'severity': 'safe'}, 'sexual': {'filtered': False, 'severity': 'safe'}, 'violence': {'filtered': False, 'severity': 'safe'}}, 'finish_reason': 'stop', 'index': 0, 'logprobs': None, 'message': {'content': 'The insurance claim was denied without a clear explanation, causing frustration and leading the claimant to consider switching providers.', 'role': 'assistant'}}], 'created': 1739648521, 'id': 'chatcmpl-B1IL3jqurdmlwvy8MZijaXdmsYTgA', 'model': 'gpt-4-turbo-2024-04-09', 'object': 'chat.completion', 'prompt_filter_results': [{'prompt_index': 0, 'content_filter_results': {'hate': {'filtered': False, 'severity': 'safe'}, 'jailbreak': {'filtered': False, 'detected': False}, 'self_harm': {'filtered': False, 'severity': 'safe'}, 'sexual': {'filtered': False, 'severity': 'safe'}, 'violence': {'filtered': False, 'severity': 'safe'}}}], 'system_fingerprint': 'fp_5603ee5e2e', 'usage': {'completion_tokens': 22, 'prompt_tokens': 46, 'total_tokens': 68}}\n",
      "DEBUG: Full API Response: {'error': {'code': '429', 'message': 'Requests to the ChatCompletions_Create Operation under Azure OpenAI API version 2024-08-01-preview have exceeded call rate limit of your current AIServices S0 pricing tier. Please retry after 1 second. Please contact Azure support service if you would like to further increase the default rate limit.'}}\n",
      "⚠️ Rate limit exceeded. Retrying in 10 seconds... (Attempt 2/5)\n",
      "DEBUG: Full API Response: {'choices': [{'content_filter_results': {'hate': {'filtered': False, 'severity': 'safe'}, 'self_harm': {'filtered': False, 'severity': 'safe'}, 'sexual': {'filtered': False, 'severity': 'safe'}, 'violence': {'filtered': False, 'severity': 'safe'}}, 'finish_reason': 'stop', 'index': 0, 'logprobs': None, 'message': {'content': 'Annual insurance premium adjustments will be based on claim history and risk assessment.', 'role': 'assistant'}}], 'created': 1739648541, 'id': 'chatcmpl-B1ILNsJkMAWiNNwSE3duAu228Of0y', 'model': 'gpt-4-turbo-2024-04-09', 'object': 'chat.completion', 'prompt_filter_results': [{'prompt_index': 0, 'content_filter_results': {'hate': {'filtered': False, 'severity': 'safe'}, 'jailbreak': {'filtered': False, 'detected': False}, 'self_harm': {'filtered': False, 'severity': 'safe'}, 'sexual': {'filtered': False, 'severity': 'safe'}, 'violence': {'filtered': False, 'severity': 'safe'}}}], 'system_fingerprint': 'fp_5603ee5e2e', 'usage': {'completion_tokens': 14, 'prompt_tokens': 44, 'total_tokens': 58}}\n"
     ]
    }
   ],
   "source": [
    "# Load processed text data from Gold Layer\n",
    "gold_df = spark.read.format(\"delta\").load(\"dbfs:/mnt/gold/processed_text_data\")\n",
    "\n",
    "# Convert Spark DataFrame to Pandas\n",
    "text_data = gold_df.select(\"text\").toPandas()\n",
    "\n",
    "# Run batch summarization with retry handling\n",
    "loop = asyncio.get_running_loop()\n",
    "future = asyncio.create_task(batch_summarize(text_data[\"text\"].tolist(), batch_size=2))\n",
    "summaries = loop.run_until_complete(future)\n",
    "\n",
    "# Store the results back in the DataFrame\n",
    "text_data[\"summary\"] = summaries\n"
   ]
  },
  {
   "cell_type": "code",
   "execution_count": 0,
   "metadata": {
    "application/vnd.databricks.v1+cell": {
     "cellMetadata": {
      "byteLimit": 2048000,
      "rowLimit": 10000
     },
     "inputWidgets": {},
     "nuid": "b0e8a5c4-5a78-445c-bbae-00345ae506f0",
     "showTitle": false,
     "tableResultSettingsMap": {},
     "title": ""
    }
   },
   "outputs": [
    {
     "data": {
      "text/html": [
       "<style scoped>\n",
       "  .table-result-container {\n",
       "    max-height: 300px;\n",
       "    overflow: auto;\n",
       "  }\n",
       "  table, th, td {\n",
       "    border: 1px solid black;\n",
       "    border-collapse: collapse;\n",
       "  }\n",
       "  th, td {\n",
       "    padding: 5px;\n",
       "  }\n",
       "  th {\n",
       "    text-align: left;\n",
       "  }\n",
       "</style><div class='table-result-container'><table class='table-result'><thead style='background-color: white'><tr><th>text</th><th>summary</th></tr></thead><tbody><tr><td>great experience with rival insurance they handled my claim quickly and professionally</td><td>Customer had a positive experience with rival insurance, describing their claim handling as quick and professional.</td></tr><tr><td>claim 38945 initial payout approved funds to be disbursed soon</td><td>Initial payout for claim 38945 has been approved and funds will be disbursed soon.</td></tr><tr><td>claim 56789 payment approved issued to policyholder</td><td>Claim 56789 has been approved and payment has been issued to the policyholder.</td></tr><tr><td>frustrating experience trying to contact customer support long wait times</td><td>The insurance claim involves a customer experiencing frustrating long wait times when trying to contact support.</td></tr><tr><td>would appreciate clearer communication on claim status updates</td><td>The insured is requesting more frequent and clearer updates on the status of their insurance claim.</td></tr><tr><td>medical expense coverage includes up to 10000 per passenger</td><td>The insurance policy covers medical expenses up to $10,000 for each passenger.</td></tr><tr><td>claim 90345 final approval granted payment scheduled</td><td>Claim 90345 has received final approval and payment is scheduled.</td></tr><tr><td>roadside assistance coverage includes towing up to 50 miles</td><td>The insurance claim states that roadside assistance coverage provides towing services for up to 50 miles.</td></tr><tr><td>extremely satisfied with the fast processing of my claim thank you</td><td>⚠️ Failed after multiple retries due to rate limiting.</td></tr><tr><td>claim 67234 investigation pending adjuster scheduled for next week</td><td>Claim 67234 is currently under investigation with an adjuster scheduled for next week.</td></tr><tr><td>exclusions coverage does not apply to intentional damage or illegal activities</td><td>The insurance policy excludes coverage for intentional damage or illegal activities.</td></tr><tr><td>deductibles vary based on the type of claim and policy terms</td><td>Deductibles for insurance claims depend on the specific claim type and the terms of the policy.</td></tr><tr><td>very satisfied with my policy coverage and the prompt service provided</td><td>This is a positive feedback claim expressing satisfaction with the policy coverage and the service's promptness.</td></tr><tr><td>filing a claim online was easy but the response time was longer than expected</td><td>The online claim process was straightforward, however, the response time was slower than anticipated.</td></tr><tr><td>claim 11234 reviewed documents and found discrepancies in reported damages requested additional evidence from claimant</td><td>Claim 11234 has discrepancies in reported damages; additional evidence requested from claimant.</td></tr><tr><td>annual policy reviews are conducted to adjust coverage based on risk assessment</td><td>Annual policy reviews adjust coverage based on risk assessment to ensure appropriate coverage.</td></tr><tr><td>amazing experience rival insurance approved my claim in just two days very satisfied with the service</td><td>The insurance claim was approved by Rival Insurance within two days, and the customer was very satisfied with the service.</td></tr><tr><td>i appreciate the easy online claim submission process very convenient</td><td>This summary does not contain any information relevant to an insurance claim description to summarize.</td></tr><tr><td>this policy includes liability coverage for rental vehicles during business travel</td><td>The insurance policy provides liability coverage for rental vehicles used during business travel.</td></tr><tr><td>quick approval but the repair process took longer than expected</td><td>The insurance claim was approved quickly, but the repair process experienced delays and took longer than anticipated.</td></tr><tr><td>policyholders can opt for extended roadside assistance at an additional cost</td><td>Policyholders have the option to add extended roadside assistance to their coverage for an extra fee.</td></tr><tr><td>this insurance policy covers personal injury protection pip up to 50000 per insured person per accident</td><td>The insurance policy provides personal injury protection (PIP) coverage of up to $50,000 per person per accident.</td></tr><tr><td>claim 23567 approved for payout after verification of supporting documents and repair estimates</td><td>⚠️ Failed after multiple retries due to rate limiting.</td></tr><tr><td>coverage includes damage caused by uninsured motorists subject to policy limits</td><td>The insurance claim covers damage caused by uninsured motorists within the policy limits.</td></tr><tr><td>claim 47823 adjuster completed review payout approved</td><td>Claim 47823 has been reviewed by the adjuster and the payout has been approved.</td></tr><tr><td>covers rental vehicle costs up to 40 per day for a maximum of 10 days</td><td>The insurance claim provides coverage for rental vehicle expenses up to $40 per day, for up to 10 days.</td></tr><tr><td>claim 45783 adjuster report submitted pending final approval</td><td>Insurance claim 45783 is awaiting final approval after the adjuster's report has been submitted.</td></tr><tr><td>the app is userfriendly and i was able to track my claim in realtime</td><td>This is not a description of an insurance claim. It appears to be positive feedback regarding the user-friendliness of an insurance app and its real-time claim tracking feature.</td></tr><tr><td>new policyholders receive a 5 discount on their first year of coverage</td><td>New policyholders are eligible for a 5% discount on their first year of coverage.</td></tr><tr><td>this policy includes rental car reimbursement for up to 40 per day</td><td>The insurance policy covers rental car expenses up to $40 per day.</td></tr><tr><td>pet injury coverage included for up to 1000 in medical expenses</td><td>The insurance claim includes coverage for pet injury medical expenses up to $1000.</td></tr><tr><td>claim 78329 approved payment scheduled for next week</td><td>Claim 78329 has been approved and payment is scheduled for next week.</td></tr><tr><td>claim 17638 rejected due to lack of sufficient evidence</td><td>Claim 17638 was rejected because there was not enough evidence provided.</td></tr><tr><td>claim 89423 denied due to lack of supporting documentation</td><td>Claim 89423 was denied due to insufficient supporting documentation.</td></tr><tr><td>customer support was helpful but the claim process took longer than expected</td><td>Customer support was helpful; however, the claim process experienced delays.</td></tr><tr><td>claim 23984 policyholder requested reconsideration under review</td><td>Claim 23984 is currently under review as the policyholder has requested reconsideration.</td></tr><tr><td>terrible experience had to escalate my claim multiple times</td><td>The claimant had a negative experience and needed to escalate the claim multiple times.</td></tr><tr><td>overall good service but claim processing took longer than expected</td><td>The service was satisfactory, but the claim processing time exceeded expectations.</td></tr><tr><td>claim 58392 claim in review estimated completion within 5 business days</td><td>Insurance claim 58392 is currently under review with an estimated completion time within 5 business days.</td></tr><tr><td>comprehensive policies include roadside assistance up to 3 service calls per year</td><td>The insurance policy covers up to three roadside assistance service calls per year under the comprehensive plan.</td></tr><tr><td>policyholders must file a claim within 30 days of an incident to be eligible for coverage</td><td>Policyholders are required to file a claim within 30 days of an incident to qualify for coverage.</td></tr><tr><td>this policy offers optional coverage for custom vehicle modifications</td><td>⚠️ Failed after multiple retries due to rate limiting.</td></tr><tr><td>great experience overall would highly recommend this insurance provider</td><td>This claim provides positive feedback, highly recommending the insurance provider based on a great overall experience.</td></tr><tr><td>very difficult to reach customer service not happy with response times</td><td>Customer is dissatisfied with customer service accessibility and response times.</td></tr><tr><td>coverage includes liability for bodily injury and property damage up to the limits stated in the policy</td><td>The insurance policy provides coverage for both bodily injury and property damage, up to the specified limits in the policy.</td></tr><tr><td>great customer service my agent was very helpful and explained everything clearly</td><td>This is not an insurance claim description; it is a customer's positive feedback regarding their agent's service.</td></tr><tr><td>claim 46789 claim resolved payment issued to policyholder</td><td>Claim 46789 has been resolved, and payment has been issued to the policyholder.</td></tr><tr><td>filed a claim through the mobile app process was smooth and easy</td><td>Claim filed through mobile app; process was smooth and easy.</td></tr><tr><td>had to wait on hold for over an hour before speaking to a representative not a great experience</td><td>Customer experienced an excessively long wait time of over an hour before speaking with a representative, resulting in a poor service experience.</td></tr><tr><td>coverage includes protection against uninsured and underinsured motorists</td><td>The insurance coverage includes protection against both uninsured and underinsured motorists.</td></tr><tr><td>claim 34762 adjuster scheduled to inspect vehicle damages onsite</td><td>Claim 34762: Adjuster scheduled for onsite inspection of vehicle damages.</td></tr><tr><td>the mobile app made it super easy to submit and track my claim</td><td>⚠️ Failed after multiple retries due to rate limiting.</td></tr><tr><td>claim 65784 incomplete documentation received followed up with policyholder for additional paperwork</td><td>Claim 65784 is incomplete due to missing documentation; follow-up with policyholder has been conducted to obtain the necessary additional paperwork.</td></tr><tr><td>claim 78456 investigation completed claim approved payment to be processed within 5 business days</td><td>Claim 78456 has been investigated and approved. Payment processing will be completed within 5 business days.</td></tr><tr><td>claim 89234 investigation completed approved for partial payout</td><td>Claim 89234 has been investigated and approved for a partial payout.</td></tr><tr><td>claim 34890 denied due to policy exclusion on preexisting damages notified policyholder of appeal options</td><td>Claim 34890 was denied due to the policy's exclusion of preexisting damages. The policyholder was informed about the options for appeal.</td></tr><tr><td>this policy does not cover mechanical failures due to wear and tear</td><td>The insurance policy excludes coverage for mechanical failures caused by wear and tear.</td></tr><tr><td>not happy with the premium increase this year looking for other options</td><td>Customer is dissatisfied with the premium increase and is exploring alternative insurance options.</td></tr><tr><td>premium discounts available for policyholders with a noclaim history for 5 years</td><td>⚠️ Failed after multiple retries due to rate limiting.</td></tr><tr><td>my claim was handled quickly and professionally no complaints</td><td>The insurance claim was processed swiftly and professionally without any complaints.</td></tr><tr><td>claim 78321 additional documents requested pending response</td><td>Insurance claim 78321 is pending due to a request for additional documents, awaiting a response.</td></tr><tr><td>additional riders available for extended coverage on highvalue assets subject to approval</td><td>Additional insurance coverage options for high-value assets are available, subject to approval.</td></tr><tr><td>coverage for natural disasters includes hurricanes tornadoes and wildfires</td><td>The insurance claim provides coverage for natural disasters such as hurricanes, tornadoes, and wildfires.</td></tr><tr><td>exclusions this policy does not cover damages resulting from intentional acts fraud or unauthorized vehicle usage</td><td>The insurance claim excludes coverage for damages resulting from intentional acts, fraud, or unauthorized vehicle usage.</td></tr><tr><td>windshield replacement is covered under comprehensive insurance with no deductible</td><td>The insurance claim states that windshield replacement is covered under comprehensive insurance without any deductible.</td></tr><tr><td>claim 89456 delayed due to missing documentation notified policyholder</td><td>Claim 89456 was delayed because of missing documentation; the policyholder has been notified.</td></tr><tr><td>claim 47892 additional verification required contacted policyholder for clarification</td><td>Claim 47892 requires additional verification; policyholder was contacted for clarification.</td></tr><tr><td>claim 56473 fraudulent activity detected claim denied</td><td>Claim 56473 was denied due to detected fraudulent activity.</td></tr><tr><td>had a minor issue with my claim but it was resolved quickly</td><td>The insurance claim encountered a minor issue but was resolved promptly.</td></tr><tr><td>policyholder agrees to maintain comprehensive coverage for damages not caused by collision including theft and natural disasters</td><td>The policyholder is insured for non-collision damages such as theft and natural disasters under a comprehensive coverage plan.</td></tr><tr><td>claim 12987 under review awaiting thirdparty verification of reported damages</td><td>Insurance claim 12987 is under review, pending third-party verification of the reported damages.</td></tr><tr><td>i recently filed a claim with rival insurance and the process was slower than expected the customer service was helpful but i had to follow up multiple times</td><td>Customer experienced a slow claims process with Rival Insurance, requiring multiple follow-ups despite helpful customer service.</td></tr><tr><td>claim 78345 additional information requested from claimant pending response</td><td>Claim 78345 is awaiting additional information from the claimant and is pending a response.</td></tr><tr><td>this policy covers vehicle damage due to hailstorms and other severe weather events</td><td>⚠️ Failed after multiple retries due to rate limiting.</td></tr><tr><td>not satisfied with the premium hike this year looking for alternatives</td><td>Customer is unhappy with the increased premium and is considering alternative insurance options.</td></tr><tr><td>rival insurance resolved my issue efficiently very happy with their customer support</td><td>Customer satisfied with efficient issue resolution and customer support by rival insurance.</td></tr><tr><td>claim 56712 additional documentation received claim reassessed and approved for payout</td><td>Claim 56712 was reassessed and approved for payout after receiving additional documentation.</td></tr><tr><td>best insurance experience ive had quick and hasslefree</td><td>The insurance claim process was quick and hassle-free, providing a highly satisfactory experience.</td></tr><tr><td>claim 43298 claim rejected due to policy exclusions</td><td>Claim 43298 was rejected due to policy exclusions.</td></tr><tr><td>quick and easy claims process i would highly recommend rival insurance to my friends and family</td><td>Client endorses Rival Insurance for its straightforward claims process and recommends them to friends and family.</td></tr><tr><td>easy renewal process no issues with my policy so far</td><td>No issues reported during policy renewal process.</td></tr><tr><td>policyholders can bundle home and auto insurance for discounted rates</td><td>Policyholders can receive discounted rates by bundling home and auto insurance.\n",
       "</td></tr><tr><td>claim 56234 under investigation for potential fraud</td><td>Claim 56234 is currently under investigation for potential fraud.</td></tr><tr><td>policyholders must report any accidents within 24 hours to ensure eligibility for coverage</td><td>Insurance claim policy requires accidents to be reported within 24 hours for coverage eligibility.</td></tr><tr><td>denied claim due to a technicality that was not clearly stated in the policy very frustrating</td><td>The insurance claim was denied due to an unspecified technicality not clearly mentioned in the policy, causing frustration for the claimant.</td></tr><tr><td>the online portal makes managing my policy super easy</td><td>The customer expressed satisfaction with the convenience of managing their policy through the online portal.</td></tr><tr><td>policyholders are required to notify the company of any address changes within 30 days</td><td>Policyholders must inform the insurance company of any address changes within 30 days.</td></tr><tr><td>claim 98234 approved waiting on policyholders response for payout method</td><td>Claim 98234 has been approved and is pending the policyholder's selection of a payout method.</td></tr><tr><td>long wait times on the phone but helpful service once connected</td><td>Long phone wait times, helpful service once connected.</td></tr><tr><td>claim 98213 initial assessment shows possible fraudulent activity sent to the fraud department for review</td><td>Claim 98213 indicates potential fraud and has been referred to the fraud department for further investigation.</td></tr><tr><td>denied my claim despite having all the required documents will not renew my policy</td><td>The insurance claim was denied despite submitting all required documents, and the policy will not be renewed.</td></tr><tr><td>still waiting on claim resolution after three weeks not satisfied</td><td>The claimant is dissatisfied with the unresolved status of their insurance claim after three weeks.</td></tr><tr><td>multipolicy discounts available for customers bundling auto and home insurance</td><td>The insurance claim describes that customers who bundle auto and home insurance are eligible for multipolicy discounts.</td></tr><tr><td>claim 12345 denied due to insufficient documentation appeal process explained to policyholder</td><td>Claim 12345 was denied due to insufficient documentation, and the appeal process was explained to the policyholder.</td></tr><tr><td>claim 98213 case escalated for further review awaiting manager decision</td><td>Insurance claim 98213 has been escalated and is pending a manager's decision after further review.</td></tr><tr><td>had some issues with documentation requirements but support was helpful</td><td>Issues with documentation for insurance claim; resolved with helpful support.</td></tr><tr><td>appreciate the 247 customer support the rep was very helpful in explaining my coverage</td><td>⚠️ Failed after multiple retries due to rate limiting.</td></tr><tr><td>the policy provides emergency accommodation coverage for policyholders stranded due to accidents</td><td>The insurance policy covers emergency accommodation expenses for policyholders stranded due to accidents.</td></tr><tr><td>premium adjustments will be made annually based on claim history and risk assessment</td><td>Annual insurance premium adjustments will be based on claim history and risk assessment.</td></tr><tr><td>frustrating experience my claim was denied without a clear explanation i will consider switching providers</td><td>The insurance claim was denied without a clear explanation, causing frustration and leading the claimant to consider switching providers.</td></tr></tbody></table></div>"
      ]
     },
     "metadata": {
      "application/vnd.databricks.v1+output": {
       "addedWidgets": {},
       "aggData": [],
       "aggError": "",
       "aggOverflow": false,
       "aggSchema": [],
       "aggSeriesLimitReached": false,
       "aggType": "",
       "arguments": {},
       "columnCustomDisplayInfos": {},
       "data": [
        [
         "great experience with rival insurance they handled my claim quickly and professionally",
         "Customer had a positive experience with rival insurance, describing their claim handling as quick and professional."
        ],
        [
         "claim 38945 initial payout approved funds to be disbursed soon",
         "Initial payout for claim 38945 has been approved and funds will be disbursed soon."
        ],
        [
         "claim 56789 payment approved issued to policyholder",
         "Claim 56789 has been approved and payment has been issued to the policyholder."
        ],
        [
         "frustrating experience trying to contact customer support long wait times",
         "The insurance claim involves a customer experiencing frustrating long wait times when trying to contact support."
        ],
        [
         "would appreciate clearer communication on claim status updates",
         "The insured is requesting more frequent and clearer updates on the status of their insurance claim."
        ],
        [
         "medical expense coverage includes up to 10000 per passenger",
         "The insurance policy covers medical expenses up to $10,000 for each passenger."
        ],
        [
         "claim 90345 final approval granted payment scheduled",
         "Claim 90345 has received final approval and payment is scheduled."
        ],
        [
         "roadside assistance coverage includes towing up to 50 miles",
         "The insurance claim states that roadside assistance coverage provides towing services for up to 50 miles."
        ],
        [
         "extremely satisfied with the fast processing of my claim thank you",
         "⚠️ Failed after multiple retries due to rate limiting."
        ],
        [
         "claim 67234 investigation pending adjuster scheduled for next week",
         "Claim 67234 is currently under investigation with an adjuster scheduled for next week."
        ],
        [
         "exclusions coverage does not apply to intentional damage or illegal activities",
         "The insurance policy excludes coverage for intentional damage or illegal activities."
        ],
        [
         "deductibles vary based on the type of claim and policy terms",
         "Deductibles for insurance claims depend on the specific claim type and the terms of the policy."
        ],
        [
         "very satisfied with my policy coverage and the prompt service provided",
         "This is a positive feedback claim expressing satisfaction with the policy coverage and the service's promptness."
        ],
        [
         "filing a claim online was easy but the response time was longer than expected",
         "The online claim process was straightforward, however, the response time was slower than anticipated."
        ],
        [
         "claim 11234 reviewed documents and found discrepancies in reported damages requested additional evidence from claimant",
         "Claim 11234 has discrepancies in reported damages; additional evidence requested from claimant."
        ],
        [
         "annual policy reviews are conducted to adjust coverage based on risk assessment",
         "Annual policy reviews adjust coverage based on risk assessment to ensure appropriate coverage."
        ],
        [
         "amazing experience rival insurance approved my claim in just two days very satisfied with the service",
         "The insurance claim was approved by Rival Insurance within two days, and the customer was very satisfied with the service."
        ],
        [
         "i appreciate the easy online claim submission process very convenient",
         "This summary does not contain any information relevant to an insurance claim description to summarize."
        ],
        [
         "this policy includes liability coverage for rental vehicles during business travel",
         "The insurance policy provides liability coverage for rental vehicles used during business travel."
        ],
        [
         "quick approval but the repair process took longer than expected",
         "The insurance claim was approved quickly, but the repair process experienced delays and took longer than anticipated."
        ],
        [
         "policyholders can opt for extended roadside assistance at an additional cost",
         "Policyholders have the option to add extended roadside assistance to their coverage for an extra fee."
        ],
        [
         "this insurance policy covers personal injury protection pip up to 50000 per insured person per accident",
         "The insurance policy provides personal injury protection (PIP) coverage of up to $50,000 per person per accident."
        ],
        [
         "claim 23567 approved for payout after verification of supporting documents and repair estimates",
         "⚠️ Failed after multiple retries due to rate limiting."
        ],
        [
         "coverage includes damage caused by uninsured motorists subject to policy limits",
         "The insurance claim covers damage caused by uninsured motorists within the policy limits."
        ],
        [
         "claim 47823 adjuster completed review payout approved",
         "Claim 47823 has been reviewed by the adjuster and the payout has been approved."
        ],
        [
         "covers rental vehicle costs up to 40 per day for a maximum of 10 days",
         "The insurance claim provides coverage for rental vehicle expenses up to $40 per day, for up to 10 days."
        ],
        [
         "claim 45783 adjuster report submitted pending final approval",
         "Insurance claim 45783 is awaiting final approval after the adjuster's report has been submitted."
        ],
        [
         "the app is userfriendly and i was able to track my claim in realtime",
         "This is not a description of an insurance claim. It appears to be positive feedback regarding the user-friendliness of an insurance app and its real-time claim tracking feature."
        ],
        [
         "new policyholders receive a 5 discount on their first year of coverage",
         "New policyholders are eligible for a 5% discount on their first year of coverage."
        ],
        [
         "this policy includes rental car reimbursement for up to 40 per day",
         "The insurance policy covers rental car expenses up to $40 per day."
        ],
        [
         "pet injury coverage included for up to 1000 in medical expenses",
         "The insurance claim includes coverage for pet injury medical expenses up to $1000."
        ],
        [
         "claim 78329 approved payment scheduled for next week",
         "Claim 78329 has been approved and payment is scheduled for next week."
        ],
        [
         "claim 17638 rejected due to lack of sufficient evidence",
         "Claim 17638 was rejected because there was not enough evidence provided."
        ],
        [
         "claim 89423 denied due to lack of supporting documentation",
         "Claim 89423 was denied due to insufficient supporting documentation."
        ],
        [
         "customer support was helpful but the claim process took longer than expected",
         "Customer support was helpful; however, the claim process experienced delays."
        ],
        [
         "claim 23984 policyholder requested reconsideration under review",
         "Claim 23984 is currently under review as the policyholder has requested reconsideration."
        ],
        [
         "terrible experience had to escalate my claim multiple times",
         "The claimant had a negative experience and needed to escalate the claim multiple times."
        ],
        [
         "overall good service but claim processing took longer than expected",
         "The service was satisfactory, but the claim processing time exceeded expectations."
        ],
        [
         "claim 58392 claim in review estimated completion within 5 business days",
         "Insurance claim 58392 is currently under review with an estimated completion time within 5 business days."
        ],
        [
         "comprehensive policies include roadside assistance up to 3 service calls per year",
         "The insurance policy covers up to three roadside assistance service calls per year under the comprehensive plan."
        ],
        [
         "policyholders must file a claim within 30 days of an incident to be eligible for coverage",
         "Policyholders are required to file a claim within 30 days of an incident to qualify for coverage."
        ],
        [
         "this policy offers optional coverage for custom vehicle modifications",
         "⚠️ Failed after multiple retries due to rate limiting."
        ],
        [
         "great experience overall would highly recommend this insurance provider",
         "This claim provides positive feedback, highly recommending the insurance provider based on a great overall experience."
        ],
        [
         "very difficult to reach customer service not happy with response times",
         "Customer is dissatisfied with customer service accessibility and response times."
        ],
        [
         "coverage includes liability for bodily injury and property damage up to the limits stated in the policy",
         "The insurance policy provides coverage for both bodily injury and property damage, up to the specified limits in the policy."
        ],
        [
         "great customer service my agent was very helpful and explained everything clearly",
         "This is not an insurance claim description; it is a customer's positive feedback regarding their agent's service."
        ],
        [
         "claim 46789 claim resolved payment issued to policyholder",
         "Claim 46789 has been resolved, and payment has been issued to the policyholder."
        ],
        [
         "filed a claim through the mobile app process was smooth and easy",
         "Claim filed through mobile app; process was smooth and easy."
        ],
        [
         "had to wait on hold for over an hour before speaking to a representative not a great experience",
         "Customer experienced an excessively long wait time of over an hour before speaking with a representative, resulting in a poor service experience."
        ],
        [
         "coverage includes protection against uninsured and underinsured motorists",
         "The insurance coverage includes protection against both uninsured and underinsured motorists."
        ],
        [
         "claim 34762 adjuster scheduled to inspect vehicle damages onsite",
         "Claim 34762: Adjuster scheduled for onsite inspection of vehicle damages."
        ],
        [
         "the mobile app made it super easy to submit and track my claim",
         "⚠️ Failed after multiple retries due to rate limiting."
        ],
        [
         "claim 65784 incomplete documentation received followed up with policyholder for additional paperwork",
         "Claim 65784 is incomplete due to missing documentation; follow-up with policyholder has been conducted to obtain the necessary additional paperwork."
        ],
        [
         "claim 78456 investigation completed claim approved payment to be processed within 5 business days",
         "Claim 78456 has been investigated and approved. Payment processing will be completed within 5 business days."
        ],
        [
         "claim 89234 investigation completed approved for partial payout",
         "Claim 89234 has been investigated and approved for a partial payout."
        ],
        [
         "claim 34890 denied due to policy exclusion on preexisting damages notified policyholder of appeal options",
         "Claim 34890 was denied due to the policy's exclusion of preexisting damages. The policyholder was informed about the options for appeal."
        ],
        [
         "this policy does not cover mechanical failures due to wear and tear",
         "The insurance policy excludes coverage for mechanical failures caused by wear and tear."
        ],
        [
         "not happy with the premium increase this year looking for other options",
         "Customer is dissatisfied with the premium increase and is exploring alternative insurance options."
        ],
        [
         "premium discounts available for policyholders with a noclaim history for 5 years",
         "⚠️ Failed after multiple retries due to rate limiting."
        ],
        [
         "my claim was handled quickly and professionally no complaints",
         "The insurance claim was processed swiftly and professionally without any complaints."
        ],
        [
         "claim 78321 additional documents requested pending response",
         "Insurance claim 78321 is pending due to a request for additional documents, awaiting a response."
        ],
        [
         "additional riders available for extended coverage on highvalue assets subject to approval",
         "Additional insurance coverage options for high-value assets are available, subject to approval."
        ],
        [
         "coverage for natural disasters includes hurricanes tornadoes and wildfires",
         "The insurance claim provides coverage for natural disasters such as hurricanes, tornadoes, and wildfires."
        ],
        [
         "exclusions this policy does not cover damages resulting from intentional acts fraud or unauthorized vehicle usage",
         "The insurance claim excludes coverage for damages resulting from intentional acts, fraud, or unauthorized vehicle usage."
        ],
        [
         "windshield replacement is covered under comprehensive insurance with no deductible",
         "The insurance claim states that windshield replacement is covered under comprehensive insurance without any deductible."
        ],
        [
         "claim 89456 delayed due to missing documentation notified policyholder",
         "Claim 89456 was delayed because of missing documentation; the policyholder has been notified."
        ],
        [
         "claim 47892 additional verification required contacted policyholder for clarification",
         "Claim 47892 requires additional verification; policyholder was contacted for clarification."
        ],
        [
         "claim 56473 fraudulent activity detected claim denied",
         "Claim 56473 was denied due to detected fraudulent activity."
        ],
        [
         "had a minor issue with my claim but it was resolved quickly",
         "The insurance claim encountered a minor issue but was resolved promptly."
        ],
        [
         "policyholder agrees to maintain comprehensive coverage for damages not caused by collision including theft and natural disasters",
         "The policyholder is insured for non-collision damages such as theft and natural disasters under a comprehensive coverage plan."
        ],
        [
         "claim 12987 under review awaiting thirdparty verification of reported damages",
         "Insurance claim 12987 is under review, pending third-party verification of the reported damages."
        ],
        [
         "i recently filed a claim with rival insurance and the process was slower than expected the customer service was helpful but i had to follow up multiple times",
         "Customer experienced a slow claims process with Rival Insurance, requiring multiple follow-ups despite helpful customer service."
        ],
        [
         "claim 78345 additional information requested from claimant pending response",
         "Claim 78345 is awaiting additional information from the claimant and is pending a response."
        ],
        [
         "this policy covers vehicle damage due to hailstorms and other severe weather events",
         "⚠️ Failed after multiple retries due to rate limiting."
        ],
        [
         "not satisfied with the premium hike this year looking for alternatives",
         "Customer is unhappy with the increased premium and is considering alternative insurance options."
        ],
        [
         "rival insurance resolved my issue efficiently very happy with their customer support",
         "Customer satisfied with efficient issue resolution and customer support by rival insurance."
        ],
        [
         "claim 56712 additional documentation received claim reassessed and approved for payout",
         "Claim 56712 was reassessed and approved for payout after receiving additional documentation."
        ],
        [
         "best insurance experience ive had quick and hasslefree",
         "The insurance claim process was quick and hassle-free, providing a highly satisfactory experience."
        ],
        [
         "claim 43298 claim rejected due to policy exclusions",
         "Claim 43298 was rejected due to policy exclusions."
        ],
        [
         "quick and easy claims process i would highly recommend rival insurance to my friends and family",
         "Client endorses Rival Insurance for its straightforward claims process and recommends them to friends and family."
        ],
        [
         "easy renewal process no issues with my policy so far",
         "No issues reported during policy renewal process."
        ],
        [
         "policyholders can bundle home and auto insurance for discounted rates",
         "Policyholders can receive discounted rates by bundling home and auto insurance.\n"
        ],
        [
         "claim 56234 under investigation for potential fraud",
         "Claim 56234 is currently under investigation for potential fraud."
        ],
        [
         "policyholders must report any accidents within 24 hours to ensure eligibility for coverage",
         "Insurance claim policy requires accidents to be reported within 24 hours for coverage eligibility."
        ],
        [
         "denied claim due to a technicality that was not clearly stated in the policy very frustrating",
         "The insurance claim was denied due to an unspecified technicality not clearly mentioned in the policy, causing frustration for the claimant."
        ],
        [
         "the online portal makes managing my policy super easy",
         "The customer expressed satisfaction with the convenience of managing their policy through the online portal."
        ],
        [
         "policyholders are required to notify the company of any address changes within 30 days",
         "Policyholders must inform the insurance company of any address changes within 30 days."
        ],
        [
         "claim 98234 approved waiting on policyholders response for payout method",
         "Claim 98234 has been approved and is pending the policyholder's selection of a payout method."
        ],
        [
         "long wait times on the phone but helpful service once connected",
         "Long phone wait times, helpful service once connected."
        ],
        [
         "claim 98213 initial assessment shows possible fraudulent activity sent to the fraud department for review",
         "Claim 98213 indicates potential fraud and has been referred to the fraud department for further investigation."
        ],
        [
         "denied my claim despite having all the required documents will not renew my policy",
         "The insurance claim was denied despite submitting all required documents, and the policy will not be renewed."
        ],
        [
         "still waiting on claim resolution after three weeks not satisfied",
         "The claimant is dissatisfied with the unresolved status of their insurance claim after three weeks."
        ],
        [
         "multipolicy discounts available for customers bundling auto and home insurance",
         "The insurance claim describes that customers who bundle auto and home insurance are eligible for multipolicy discounts."
        ],
        [
         "claim 12345 denied due to insufficient documentation appeal process explained to policyholder",
         "Claim 12345 was denied due to insufficient documentation, and the appeal process was explained to the policyholder."
        ],
        [
         "claim 98213 case escalated for further review awaiting manager decision",
         "Insurance claim 98213 has been escalated and is pending a manager's decision after further review."
        ],
        [
         "had some issues with documentation requirements but support was helpful",
         "Issues with documentation for insurance claim; resolved with helpful support."
        ],
        [
         "appreciate the 247 customer support the rep was very helpful in explaining my coverage",
         "⚠️ Failed after multiple retries due to rate limiting."
        ],
        [
         "the policy provides emergency accommodation coverage for policyholders stranded due to accidents",
         "The insurance policy covers emergency accommodation expenses for policyholders stranded due to accidents."
        ],
        [
         "premium adjustments will be made annually based on claim history and risk assessment",
         "Annual insurance premium adjustments will be based on claim history and risk assessment."
        ],
        [
         "frustrating experience my claim was denied without a clear explanation i will consider switching providers",
         "The insurance claim was denied without a clear explanation, causing frustration and leading the claimant to consider switching providers."
        ]
       ],
       "datasetInfos": [],
       "dbfsResultPath": null,
       "isJsonSchema": true,
       "metadata": {},
       "overflow": false,
       "plotOptions": {
        "customPlotOptions": {},
        "displayType": "table",
        "pivotAggregation": null,
        "pivotColumns": null,
        "xColumns": null,
        "yColumns": null
       },
       "removedWidgets": [],
       "schema": [
        {
         "metadata": "{}",
         "name": "text",
         "type": "\"string\""
        },
        {
         "metadata": "{}",
         "name": "summary",
         "type": "\"string\""
        }
       ],
       "type": "table"
      }
     },
     "output_type": "display_data"
    }
   ],
   "source": [
    "# Convert back to Spark DataFrame\n",
    "summary_df = spark.createDataFrame(text_data)\n",
    "\n",
    "# Save summarized data to the Gold Layer\n",
    "summary_df.write.format(\"delta\").mode(\"overwrite\").save(\"dbfs:/mnt/gold/summarized_text_data\")\n",
    "\n",
    "display(summary_df)\n"
   ]
  },
  {
   "cell_type": "code",
   "execution_count": 0,
   "metadata": {
    "application/vnd.databricks.v1+cell": {
     "cellMetadata": {
      "byteLimit": 2048000,
      "rowLimit": 10000
     },
     "inputWidgets": {},
     "nuid": "9ca7a9a4-9137-4fcd-a150-0caffff895c0",
     "showTitle": false,
     "tableResultSettingsMap": {},
     "title": ""
    }
   },
   "outputs": [],
   "source": [
    "summary_df = spark.read.format(\"delta\").load(\"dbfs:/mnt/gold/summarized_text_data\")\n",
    "\n",
    "# Convert to Pandas for text analysis\n",
    "summary_pd = summary_df.toPandas()\n"
   ]
  },
  {
   "cell_type": "code",
   "execution_count": 0,
   "metadata": {
    "application/vnd.databricks.v1+cell": {
     "cellMetadata": {
      "byteLimit": 2048000,
      "rowLimit": 10000
     },
     "inputWidgets": {},
     "nuid": "94b422c0-c388-4b7b-9b04-91e2785de8e1",
     "showTitle": false,
     "tableResultSettingsMap": {},
     "title": ""
    }
   },
   "outputs": [
    {
     "name": "stdout",
     "output_type": "stream",
     "text": [
      "🔹 Most Common Policy Coverages:\n",
      "['claim' 'insurance' 'insurance claim' 'policy' 'coverage' 'customer'\n",
      " 'approved' 'policyholder' 'insurance policy' 'service']\n"
     ]
    }
   ],
   "source": [
    "from sklearn.feature_extraction.text import CountVectorizer\n",
    "import numpy as np\n",
    "\n",
    "# Convert summaries to a list\n",
    "summaries = summary_pd[\"summary\"].tolist()\n",
    "\n",
    "# Create a CountVectorizer to find common words\n",
    "vectorizer = CountVectorizer(stop_words=\"english\", ngram_range=(1, 2), max_features=20)\n",
    "X = vectorizer.fit_transform(summaries)\n",
    "\n",
    "# Get the most common words/phrases\n",
    "common_words = np.array(vectorizer.get_feature_names_out())\n",
    "word_frequencies = X.toarray().sum(axis=0)\n",
    "\n",
    "# Sort by frequency\n",
    "sorted_indices = np.argsort(word_frequencies)[::-1]\n",
    "top_policy_terms = common_words[sorted_indices]\n",
    "\n",
    "\n",
    "print(\"🔹 Most Common Policy Coverages:\")\n",
    "print(top_policy_terms[:10])\n"
   ]
  },
  {
   "cell_type": "code",
   "execution_count": 0,
   "metadata": {
    "application/vnd.databricks.v1+cell": {
     "cellMetadata": {
      "byteLimit": 2048000,
      "rowLimit": 10000
     },
     "inputWidgets": {},
     "nuid": "7b2b981a-3682-468d-94ec-5db969c1c06c",
     "showTitle": false,
     "tableResultSettingsMap": {},
     "title": ""
    }
   },
   "outputs": [
    {
     "name": "stdout",
     "output_type": "stream",
     "text": [
      "Collecting nltk\n",
      "  Obtaining dependency information for nltk from https://files.pythonhosted.org/packages/4d/66/7d9e26593edda06e8cb531874633f7c2372279c3b0f46235539fe546df8b/nltk-3.9.1-py3-none-any.whl.metadata\n",
      "  Downloading nltk-3.9.1-py3-none-any.whl.metadata (2.9 kB)\n",
      "Requirement already satisfied: click in /databricks/python3/lib/python3.11/site-packages (from nltk) (8.0.4)\n",
      "Requirement already satisfied: joblib in /databricks/python3/lib/python3.11/site-packages (from nltk) (1.2.0)\n",
      "Collecting regex>=2021.8.3 (from nltk)\n",
      "  Obtaining dependency information for regex>=2021.8.3 from https://files.pythonhosted.org/packages/bf/ce/0d0e61429f603bac433910d99ef1a02ce45a8967ffbe3cbee48599e62d88/regex-2024.11.6-cp311-cp311-manylinux_2_17_x86_64.manylinux2014_x86_64.whl.metadata\n",
      "  Downloading regex-2024.11.6-cp311-cp311-manylinux_2_17_x86_64.manylinux2014_x86_64.whl.metadata (40 kB)\n",
      "\u001b[?25l     \u001b[90m━━━━━━━━━━━━━━━━━━━━━━━━━━━━━━━━━━━━━━━━\u001b[0m \u001b[32m0.0/40.5 kB\u001b[0m \u001b[31m?\u001b[0m eta \u001b[36m-:--:--\u001b[0m\n",
      "\u001b[2K     \u001b[90m━━━━━━━━━━━━━━━━━━━━━━━━━━━━━━━━━━━━━━━━\u001b[0m \u001b[32m40.5/40.5 kB\u001b[0m \u001b[31m2.8 MB/s\u001b[0m eta \u001b[36m0:00:00\u001b[0m\n",
      "\u001b[?25hRequirement already satisfied: tqdm in /local_disk0/.ephemeral_nfs/envs/pythonEnv-16c29a7a-500c-4b01-bc77-62b0777f5837/lib/python3.11/site-packages (from nltk) (4.67.1)\n",
      "Downloading nltk-3.9.1-py3-none-any.whl (1.5 MB)\n",
      "\u001b[?25l   \u001b[90m━━━━━━━━━━━━━━━━━━━━━━━━━━━━━━━━━━━━━━━━\u001b[0m \u001b[32m0.0/1.5 MB\u001b[0m \u001b[31m?\u001b[0m eta \u001b[36m-:--:--\u001b[0m\n",
      "\u001b[2K   \u001b[91m━━━━━━━━━━━━━━━━━━━━━━━━━━━━━━━━━━━━━━━\u001b[0m\u001b[91m╸\u001b[0m \u001b[32m1.5/1.5 MB\u001b[0m \u001b[31m71.9 MB/s\u001b[0m eta \u001b[36m0:00:01\u001b[0m\n",
      "\u001b[2K   \u001b[90m━━━━━━━━━━━━━━━━━━━━━━━━━━━━━━━━━━━━━━━━\u001b[0m \u001b[32m1.5/1.5 MB\u001b[0m \u001b[31m30.0 MB/s\u001b[0m eta \u001b[36m0:00:00\u001b[0m\n",
      "\u001b[?25hDownloading regex-2024.11.6-cp311-cp311-manylinux_2_17_x86_64.manylinux2014_x86_64.whl (792 kB)\n",
      "\u001b[?25l   \u001b[90m━━━━━━━━━━━━━━━━━━━━━━━━━━━━━━━━━━━━━━━━\u001b[0m \u001b[32m0.0/792.7 kB\u001b[0m \u001b[31m?\u001b[0m eta \u001b[36m-:--:--\u001b[0m\n",
      "\u001b[2K   \u001b[90m━━━━━━━━━━━━━━━━━━━━━━━━━━━━━━━━━━━━━━━━\u001b[0m \u001b[32m792.7/792.7 kB\u001b[0m \u001b[31m46.7 MB/s\u001b[0m eta \u001b[36m0:00:00\u001b[0m\n",
      "\u001b[?25hInstalling collected packages: regex, nltk\n",
      "Successfully installed nltk-3.9.1 regex-2024.11.6\n",
      "\u001b[43mNote: you may need to restart the kernel using %restart_python or dbutils.library.restartPython() to use updated packages.\u001b[0m\n"
     ]
    }
   ],
   "source": [
    "pip install nltk"
   ]
  },
  {
   "cell_type": "code",
   "execution_count": 0,
   "metadata": {
    "application/vnd.databricks.v1+cell": {
     "cellMetadata": {
      "byteLimit": 2048000,
      "rowLimit": 10000
     },
     "inputWidgets": {},
     "nuid": "65ac1979-9c5d-4a4a-bd7b-e1adf989839f",
     "showTitle": false,
     "tableResultSettingsMap": {},
     "title": ""
    }
   },
   "outputs": [
    {
     "name": "stdout",
     "output_type": "stream",
     "text": [
      "🔹 Sentiment Distribution:\n",
      "Negative    44\n",
      "Positive    34\n",
      "Neutral     22\n",
      "Name: sentiment, dtype: int64\n"
     ]
    },
    {
     "name": "stderr",
     "output_type": "stream",
     "text": [
      "[nltk_data] Downloading package vader_lexicon to /root/nltk_data...\n"
     ]
    }
   ],
   "source": [
    "from nltk.sentiment import SentimentIntensityAnalyzer\n",
    "import nltk\n",
    "nltk.download('vader_lexicon')\n",
    "sia = SentimentIntensityAnalyzer()\n",
    "\n",
    "# sentiment analysis\n",
    "summary_pd[\"sentiment_score\"] = summary_pd[\"summary\"].apply(lambda x: sia.polarity_scores(x)[\"compound\"])\n",
    "\n",
    "# Categorize as positive, neutral, or negative\n",
    "summary_pd[\"sentiment\"] = summary_pd[\"sentiment_score\"].apply(\n",
    "    lambda x: \"Positive\" if x > 0.05 else (\"Negative\" if x < -0.05 else \"Neutral\")\n",
    ")\n",
    "\n",
    "sentiment_counts = summary_pd[\"sentiment\"].value_counts()\n",
    "print(\"🔹 Sentiment Distribution:\")\n",
    "print(sentiment_counts)\n"
   ]
  },
  {
   "cell_type": "code",
   "execution_count": 0,
   "metadata": {
    "application/vnd.databricks.v1+cell": {
     "cellMetadata": {
      "byteLimit": 2048000,
      "rowLimit": 10000
     },
     "inputWidgets": {},
     "nuid": "8cf51a5f-7ab7-45ab-8805-1a903de60368",
     "showTitle": false,
     "tableResultSettingsMap": {},
     "title": ""
    }
   },
   "outputs": [
    {
     "name": "stdout",
     "output_type": "stream",
     "text": [
      "🔹 Most Common Claim Process Stages:\n",
      "approved: 10\n",
      "denied: 7\n",
      "pending: 5\n",
      "under review: 3\n",
      "investigation: 3\n"
     ]
    }
   ],
   "source": [
    "# keywords related to claims processing\n",
    "claim_stages = [\"approved\", \"denied\", \"pending\", \"under review\", \"processed\", \"payment issued\", \"investigation\", \"rejected\"]\n",
    "\n",
    "# Count occurrence\n",
    "stage_counts = {stage: summary_pd[\"summary\"].str.contains(stage, case=False).sum() for stage in claim_stages}\n",
    "\n",
    "# Sort \n",
    "sorted_stages = sorted(stage_counts.items(), key=lambda x: x[1], reverse=True)\n",
    "\n",
    "print(\"🔹 Most Common Claim Process Stages:\")\n",
    "for stage, count in sorted_stages[:5]:\n",
    "    print(f\"{stage}: {count}\")\n"
   ]
  },
  {
   "cell_type": "code",
   "execution_count": 0,
   "metadata": {
    "application/vnd.databricks.v1+cell": {
     "cellMetadata": {
      "byteLimit": 2048000,
      "rowLimit": 10000
     },
     "inputWidgets": {},
     "nuid": "e56ab6c6-8baa-46db-8680-9033e3ca1f75",
     "showTitle": false,
     "tableResultSettingsMap": {},
     "title": ""
    }
   },
   "outputs": [
    {
     "data": {
      "image/png": "[encoded data removed]",
      "text/plain": [
       "<Figure size 800x400 with 1 Axes>"
      ]
     },
     "metadata": {},
     "output_type": "display_data"
    },
    {
     "data": {
      "image/png": "[encoded data removed]",
      "text/plain": [
       "<Figure size 1000x500 with 1 Axes>"
      ]
     },
     "metadata": {},
     "output_type": "display_data"
    }
   ],
   "source": [
    "import matplotlib.pyplot as plt\n",
    "plt.figure(figsize=(8, 4))\n",
    "sentiment_counts.plot(kind=\"bar\", color=[\"green\", \"gray\", \"red\"])\n",
    "plt.title(\"Sentiment Distribution in User Reviews\")\n",
    "plt.xlabel(\"Sentiment\")\n",
    "plt.ylabel(\"Count\")\n",
    "plt.show()\n",
    "plt.figure(figsize=(10, 5))\n",
    "plt.bar(*zip(*sorted_stages[:5]))  # Top 5 stages\n",
    "plt.title(\"Most Common Claim Process Stages\")\n",
    "plt.xlabel(\"Claim Stage\")\n",
    "plt.ylabel(\"Count\")\n",
    "plt.xticks(rotation=45)\n",
    "plt.show()\n"
   ]
  },
  {
   "cell_type": "code",
   "execution_count": 0,
   "metadata": {
    "application/vnd.databricks.v1+cell": {
     "cellMetadata": {
      "byteLimit": 2048000,
      "rowLimit": 10000
     },
     "inputWidgets": {},
     "nuid": "8f62dbb5-d3a3-44c8-a723-2c16dd1837a3",
     "showTitle": false,
     "tableResultSettingsMap": {},
     "title": ""
    }
   },
   "outputs": [
    {
     "name": "stdout",
     "output_type": "stream",
     "text": [
      "Generated Summary: A customer experienced an accident and subsequently filed an insurance claim.\n"
     ]
    }
   ],
   "source": [
    "import requests\n",
    "import json\n",
    "\n",
    "AZURE_FUNCTION_URL = \"https://rivlasummarizationfunc.azurewebsites.net/api/summarize\"\n",
    "\n",
    "def get_summary(text):\n",
    "    \"\"\"Call Azure Function API for summarization\"\"\"\n",
    "    headers = {\"Content-Type\": \"application/json\"}\n",
    "    data = json.dumps({\"text\": text})\n",
    "    \n",
    "    response = requests.post(AZURE_FUNCTION_URL, headers=headers, data=data)\n",
    "    \n",
    "    if response.status_code == 200:\n",
    "        return response.json().get(\"summary\", \"No summary returned.\")\n",
    "    else:\n",
    "        return f\"Error: {response.status_code} - {response.text}\"\n",
    "\n",
    "# Test the API Call\n",
    "sample_text = \"Customer had an accident and filed a claim.\"\n",
    "summary = get_summary(sample_text)\n",
    "print(\"Generated Summary:\", summary)\n",
    "\n",
    "# this can be done for the whole data and then it can be converted to csv or other desired formats."
   ]
  },
  {
   "cell_type": "code",
   "execution_count": 0,
   "metadata": {
    "application/vnd.databricks.v1+cell": {
     "cellMetadata": {
      "byteLimit": 2048000,
      "rowLimit": 10000
     },
     "inputWidgets": {},
     "nuid": "c20635b7-46b3-4cb6-99ab-2a215b17a188",
     "showTitle": false,
     "tableResultSettingsMap": {},
     "title": ""
    }
   },
   "outputs": [
    {
     "name": "stdout",
     "output_type": "stream",
     "text": [
      "{\n",
      "    \"status\": \"success\",\n",
      "    \"data\": [\n",
      "        \"{\\\"text\\\":\\\"great experience with rival insurance they handled my claim quickly and professionally\\\",\\\"summary\\\":\\\"Customer had a positive experience with rival insurance, describing their claim handling as quick and professional.\\\"}\",\n",
      "        \"{\\\"text\\\":\\\"claim 38945 initial payout approved funds to be disbursed soon\\\",\\\"summary\\\":\\\"Initial payout for claim 38945 has been approved and funds will be disbursed soon.\\\"}\",\n",
      "        \"{\\\"text\\\":\\\"claim 56789 payment approved issued to policyholder\\\",\\\"summary\\\":\\\"Claim 56789 has been approved and payment has been issued to the policyholder.\\\"}\",\n",
      "        \"{\\\"text\\\":\\\"frustrating experience trying to contact customer support long wait times\\\",\\\"summary\\\":\\\"The insurance claim involves a customer experiencing frustrating long wait times when trying to contact support.\\\"}\",\n",
      "        \"{\\\"text\\\":\\\"would appreciate clearer communication on claim status updates\\\",\\\"summary\\\":\\\"The insured is requesting more frequent and clearer updates on the status of their insurance claim.\\\"}\",\n",
      "        \"{\\\"text\\\":\\\"medical expense coverage includes up to 10000 per passenger\\\",\\\"summary\\\":\\\"The insurance policy covers medical expenses up to $10,000 for each passenger.\\\"}\",\n",
      "        \"{\\\"text\\\":\\\"claim 90345 final approval granted payment scheduled\\\",\\\"summary\\\":\\\"Claim 90345 has received final approval and payment is scheduled.\\\"}\",\n",
      "        \"{\\\"text\\\":\\\"roadside assistance coverage includes towing up to 50 miles\\\",\\\"summary\\\":\\\"The insurance claim states that roadside assistance coverage provides towing services for up to 50 miles.\\\"}\",\n",
      "        \"{\\\"text\\\":\\\"extremely satisfied with the fast processing of my claim thank you\\\",\\\"summary\\\":\\\"\\u26a0\\ufe0f Failed after multiple retries due to rate limiting.\\\"}\",\n",
      "        \"{\\\"text\\\":\\\"claim 67234 investigation pending adjuster scheduled for next week\\\",\\\"summary\\\":\\\"Claim 67234 is currently under investigation with an adjuster scheduled for next week.\\\"}\",\n",
      "        \"{\\\"text\\\":\\\"exclusions coverage does not apply to intentional damage or illegal activities\\\",\\\"summary\\\":\\\"The insurance policy excludes coverage for intentional damage or illegal activities.\\\"}\",\n",
      "        \"{\\\"text\\\":\\\"deductibles vary based on the type of claim and policy terms\\\",\\\"summary\\\":\\\"Deductibles for insurance claims depend on the specific claim type and the terms of the policy.\\\"}\",\n",
      "        \"{\\\"text\\\":\\\"very satisfied with my policy coverage and the prompt service provided\\\",\\\"summary\\\":\\\"This is a positive feedback claim expressing satisfaction with the policy coverage and the service's promptness.\\\"}\",\n",
      "        \"{\\\"text\\\":\\\"filing a claim online was easy but the response time was longer than expected\\\",\\\"summary\\\":\\\"The online claim process was straightforward, however, the response time was slower than anticipated.\\\"}\",\n",
      "        \"{\\\"text\\\":\\\"claim 11234 reviewed documents and found discrepancies in reported damages requested additional evidence from claimant\\\",\\\"summary\\\":\\\"Claim 11234 has discrepancies in reported damages; additional evidence requested from claimant.\\\"}\",\n",
      "        \"{\\\"text\\\":\\\"annual policy reviews are conducted to adjust coverage based on risk assessment\\\",\\\"summary\\\":\\\"Annual policy reviews adjust coverage based on risk assessment to ensure appropriate coverage.\\\"}\",\n",
      "        \"{\\\"text\\\":\\\"amazing experience rival insurance approved my claim in just two days very satisfied with the service\\\",\\\"summary\\\":\\\"The insurance claim was approved by Rival Insurance within two days, and the customer was very satisfied with the service.\\\"}\",\n",
      "        \"{\\\"text\\\":\\\"i appreciate the easy online claim submission process very convenient\\\",\\\"summary\\\":\\\"This summary does not contain any information relevant to an insurance claim description to summarize.\\\"}\",\n",
      "        \"{\\\"text\\\":\\\"this policy includes liability coverage for rental vehicles during business travel\\\",\\\"summary\\\":\\\"The insurance policy provides liability coverage for rental vehicles used during business travel.\\\"}\",\n",
      "        \"{\\\"text\\\":\\\"quick approval but the repair process took longer than expected\\\",\\\"summary\\\":\\\"The insurance claim was approved quickly, but the repair process experienced delays and took longer than anticipated.\\\"}\",\n",
      "        \"{\\\"text\\\":\\\"policyholders can opt for extended roadside assistance at an additional cost\\\",\\\"summary\\\":\\\"Policyholders have the option to add extended roadside assistance to their coverage for an extra fee.\\\"}\",\n",
      "        \"{\\\"text\\\":\\\"this insurance policy covers personal injury protection pip up to 50000 per insured person per accident\\\",\\\"summary\\\":\\\"The insurance policy provides personal injury protection (PIP) coverage of up to $50,000 per person per accident.\\\"}\",\n",
      "        \"{\\\"text\\\":\\\"claim 23567 approved for payout after verification of supporting documents and repair estimates\\\",\\\"summary\\\":\\\"\\u26a0\\ufe0f Failed after multiple retries due to rate limiting.\\\"}\",\n",
      "        \"{\\\"text\\\":\\\"coverage includes damage caused by uninsured motorists subject to policy limits\\\",\\\"summary\\\":\\\"The insurance claim covers damage caused by uninsured motorists within the policy limits.\\\"}\",\n",
      "        \"{\\\"text\\\":\\\"claim 47823 adjuster completed review payout approved\\\",\\\"summary\\\":\\\"Claim 47823 has been reviewed by the adjuster and the payout has been approved.\\\"}\",\n",
      "        \"{\\\"text\\\":\\\"covers rental vehicle costs up to 40 per day for a maximum of 10 days\\\",\\\"summary\\\":\\\"The insurance claim provides coverage for rental vehicle expenses up to $40 per day, for up to 10 days.\\\"}\",\n",
      "        \"{\\\"text\\\":\\\"claim 45783 adjuster report submitted pending final approval\\\",\\\"summary\\\":\\\"Insurance claim 45783 is awaiting final approval after the adjuster's report has been submitted.\\\"}\",\n",
      "        \"{\\\"text\\\":\\\"the app is userfriendly and i was able to track my claim in realtime\\\",\\\"summary\\\":\\\"This is not a description of an insurance claim. It appears to be positive feedback regarding the user-friendliness of an insurance app and its real-time claim tracking feature.\\\"}\",\n",
      "        \"{\\\"text\\\":\\\"new policyholders receive a 5 discount on their first year of coverage\\\",\\\"summary\\\":\\\"New policyholders are eligible for a 5% discount on their first year of coverage.\\\"}\",\n",
      "        \"{\\\"text\\\":\\\"this policy includes rental car reimbursement for up to 40 per day\\\",\\\"summary\\\":\\\"The insurance policy covers rental car expenses up to $40 per day.\\\"}\",\n",
      "        \"{\\\"text\\\":\\\"pet injury coverage included for up to 1000 in medical expenses\\\",\\\"summary\\\":\\\"The insurance claim includes coverage for pet injury medical expenses up to $1000.\\\"}\",\n",
      "        \"{\\\"text\\\":\\\"claim 78329 approved payment scheduled for next week\\\",\\\"summary\\\":\\\"Claim 78329 has been approved and payment is scheduled for next week.\\\"}\",\n",
      "        \"{\\\"text\\\":\\\"claim 17638 rejected due to lack of sufficient evidence\\\",\\\"summary\\\":\\\"Claim 17638 was rejected because there was not enough evidence provided.\\\"}\",\n",
      "        \"{\\\"text\\\":\\\"claim 89423 denied due to lack of supporting documentation\\\",\\\"summary\\\":\\\"Claim 89423 was denied due to insufficient supporting documentation.\\\"}\",\n",
      "        \"{\\\"text\\\":\\\"customer support was helpful but the claim process took longer than expected\\\",\\\"summary\\\":\\\"Customer support was helpful; however, the claim process experienced delays.\\\"}\",\n",
      "        \"{\\\"text\\\":\\\"claim 23984 policyholder requested reconsideration under review\\\",\\\"summary\\\":\\\"Claim 23984 is currently under review as the policyholder has requested reconsideration.\\\"}\",\n",
      "        \"{\\\"text\\\":\\\"terrible experience had to escalate my claim multiple times\\\",\\\"summary\\\":\\\"The claimant had a negative experience and needed to escalate the claim multiple times.\\\"}\",\n",
      "        \"{\\\"text\\\":\\\"overall good service but claim processing took longer than expected\\\",\\\"summary\\\":\\\"The service was satisfactory, but the claim processing time exceeded expectations.\\\"}\",\n",
      "        \"{\\\"text\\\":\\\"claim 58392 claim in review estimated completion within 5 business days\\\",\\\"summary\\\":\\\"Insurance claim 58392 is currently under review with an estimated completion time within 5 business days.\\\"}\",\n",
      "        \"{\\\"text\\\":\\\"comprehensive policies include roadside assistance up to 3 service calls per year\\\",\\\"summary\\\":\\\"The insurance policy covers up to three roadside assistance service calls per year under the comprehensive plan.\\\"}\",\n",
      "        \"{\\\"text\\\":\\\"policyholders must file a claim within 30 days of an incident to be eligible for coverage\\\",\\\"summary\\\":\\\"Policyholders are required to file a claim within 30 days of an incident to qualify for coverage.\\\"}\",\n",
      "        \"{\\\"text\\\":\\\"this policy offers optional coverage for custom vehicle modifications\\\",\\\"summary\\\":\\\"\\u26a0\\ufe0f Failed after multiple retries due to rate limiting.\\\"}\",\n",
      "        \"{\\\"text\\\":\\\"great experience overall would highly recommend this insurance provider\\\",\\\"summary\\\":\\\"This claim provides positive feedback, highly recommending the insurance provider based on a great overall experience.\\\"}\",\n",
      "        \"{\\\"text\\\":\\\"very difficult to reach customer service not happy with response times\\\",\\\"summary\\\":\\\"Customer is dissatisfied with customer service accessibility and response times.\\\"}\",\n",
      "        \"{\\\"text\\\":\\\"coverage includes liability for bodily injury and property damage up to the limits stated in the policy\\\",\\\"summary\\\":\\\"The insurance policy provides coverage for both bodily injury and property damage, up to the specified limits in the policy.\\\"}\",\n",
      "        \"{\\\"text\\\":\\\"great customer service my agent was very helpful and explained everything clearly\\\",\\\"summary\\\":\\\"This is not an insurance claim description; it is a customer's positive feedback regarding their agent's service.\\\"}\",\n",
      "        \"{\\\"text\\\":\\\"claim 46789 claim resolved payment issued to policyholder\\\",\\\"summary\\\":\\\"Claim 46789 has been resolved, and payment has been issued to the policyholder.\\\"}\",\n",
      "        \"{\\\"text\\\":\\\"filed a claim through the mobile app process was smooth and easy\\\",\\\"summary\\\":\\\"Claim filed through mobile app; process was smooth and easy.\\\"}\",\n",
      "        \"{\\\"text\\\":\\\"had to wait on hold for over an hour before speaking to a representative not a great experience\\\",\\\"summary\\\":\\\"Customer experienced an excessively long wait time of over an hour before speaking with a representative, resulting in a poor service experience.\\\"}\",\n",
      "        \"{\\\"text\\\":\\\"coverage includes protection against uninsured and underinsured motorists\\\",\\\"summary\\\":\\\"The insurance coverage includes protection against both uninsured and underinsured motorists.\\\"}\",\n",
      "        \"{\\\"text\\\":\\\"claim 34762 adjuster scheduled to inspect vehicle damages onsite\\\",\\\"summary\\\":\\\"Claim 34762: Adjuster scheduled for onsite inspection of vehicle damages.\\\"}\",\n",
      "        \"{\\\"text\\\":\\\"the mobile app made it super easy to submit and track my claim\\\",\\\"summary\\\":\\\"\\u26a0\\ufe0f Failed after multiple retries due to rate limiting.\\\"}\",\n",
      "        \"{\\\"text\\\":\\\"claim 65784 incomplete documentation received followed up with policyholder for additional paperwork\\\",\\\"summary\\\":\\\"Claim 65784 is incomplete due to missing documentation; follow-up with policyholder has been conducted to obtain the necessary additional paperwork.\\\"}\",\n",
      "        \"{\\\"text\\\":\\\"claim 78456 investigation completed claim approved payment to be processed within 5 business days\\\",\\\"summary\\\":\\\"Claim 78456 has been investigated and approved. Payment processing will be completed within 5 business days.\\\"}\",\n",
      "        \"{\\\"text\\\":\\\"claim 89234 investigation completed approved for partial payout\\\",\\\"summary\\\":\\\"Claim 89234 has been investigated and approved for a partial payout.\\\"}\",\n",
      "        \"{\\\"text\\\":\\\"claim 34890 denied due to policy exclusion on preexisting damages notified policyholder of appeal options\\\",\\\"summary\\\":\\\"Claim 34890 was denied due to the policy's exclusion of preexisting damages. The policyholder was informed about the options for appeal.\\\"}\",\n",
      "        \"{\\\"text\\\":\\\"this policy does not cover mechanical failures due to wear and tear\\\",\\\"summary\\\":\\\"The insurance policy excludes coverage for mechanical failures caused by wear and tear.\\\"}\",\n",
      "        \"{\\\"text\\\":\\\"not happy with the premium increase this year looking for other options\\\",\\\"summary\\\":\\\"Customer is dissatisfied with the premium increase and is exploring alternative insurance options.\\\"}\",\n",
      "        \"{\\\"text\\\":\\\"premium discounts available for policyholders with a noclaim history for 5 years\\\",\\\"summary\\\":\\\"\\u26a0\\ufe0f Failed after multiple retries due to rate limiting.\\\"}\",\n",
      "        \"{\\\"text\\\":\\\"my claim was handled quickly and professionally no complaints\\\",\\\"summary\\\":\\\"The insurance claim was processed swiftly and professionally without any complaints.\\\"}\",\n",
      "        \"{\\\"text\\\":\\\"claim 78321 additional documents requested pending response\\\",\\\"summary\\\":\\\"Insurance claim 78321 is pending due to a request for additional documents, awaiting a response.\\\"}\",\n",
      "        \"{\\\"text\\\":\\\"additional riders available for extended coverage on highvalue assets subject to approval\\\",\\\"summary\\\":\\\"Additional insurance coverage options for high-value assets are available, subject to approval.\\\"}\",\n",
      "        \"{\\\"text\\\":\\\"coverage for natural disasters includes hurricanes tornadoes and wildfires\\\",\\\"summary\\\":\\\"The insurance claim provides coverage for natural disasters such as hurricanes, tornadoes, and wildfires.\\\"}\",\n",
      "        \"{\\\"text\\\":\\\"exclusions this policy does not cover damages resulting from intentional acts fraud or unauthorized vehicle usage\\\",\\\"summary\\\":\\\"The insurance claim excludes coverage for damages resulting from intentional acts, fraud, or unauthorized vehicle usage.\\\"}\",\n",
      "        \"{\\\"text\\\":\\\"windshield replacement is covered under comprehensive insurance with no deductible\\\",\\\"summary\\\":\\\"The insurance claim states that windshield replacement is covered under comprehensive insurance without any deductible.\\\"}\",\n",
      "        \"{\\\"text\\\":\\\"claim 89456 delayed due to missing documentation notified policyholder\\\",\\\"summary\\\":\\\"Claim 89456 was delayed because of missing documentation; the policyholder has been notified.\\\"}\",\n",
      "        \"{\\\"text\\\":\\\"claim 47892 additional verification required contacted policyholder for clarification\\\",\\\"summary\\\":\\\"Claim 47892 requires additional verification; policyholder was contacted for clarification.\\\"}\",\n",
      "        \"{\\\"text\\\":\\\"claim 56473 fraudulent activity detected claim denied\\\",\\\"summary\\\":\\\"Claim 56473 was denied due to detected fraudulent activity.\\\"}\",\n",
      "        \"{\\\"text\\\":\\\"had a minor issue with my claim but it was resolved quickly\\\",\\\"summary\\\":\\\"The insurance claim encountered a minor issue but was resolved promptly.\\\"}\",\n",
      "        \"{\\\"text\\\":\\\"policyholder agrees to maintain comprehensive coverage for damages not caused by collision including theft and natural disasters\\\",\\\"summary\\\":\\\"The policyholder is insured for non-collision damages such as theft and natural disasters under a comprehensive coverage plan.\\\"}\",\n",
      "        \"{\\\"text\\\":\\\"claim 12987 under review awaiting thirdparty verification of reported damages\\\",\\\"summary\\\":\\\"Insurance claim 12987 is under review, pending third-party verification of the reported damages.\\\"}\",\n",
      "        \"{\\\"text\\\":\\\"i recently filed a claim with rival insurance and the process was slower than expected the customer service was helpful but i had to follow up multiple times\\\",\\\"summary\\\":\\\"Customer experienced a slow claims process with Rival Insurance, requiring multiple follow-ups despite helpful customer service.\\\"}\",\n",
      "        \"{\\\"text\\\":\\\"claim 78345 additional information requested from claimant pending response\\\",\\\"summary\\\":\\\"Claim 78345 is awaiting additional information from the claimant and is pending a response.\\\"}\",\n",
      "        \"{\\\"text\\\":\\\"this policy covers vehicle damage due to hailstorms and other severe weather events\\\",\\\"summary\\\":\\\"\\u26a0\\ufe0f Failed after multiple retries due to rate limiting.\\\"}\",\n",
      "        \"{\\\"text\\\":\\\"not satisfied with the premium hike this year looking for alternatives\\\",\\\"summary\\\":\\\"Customer is unhappy with the increased premium and is considering alternative insurance options.\\\"}\",\n",
      "        \"{\\\"text\\\":\\\"rival insurance resolved my issue efficiently very happy with their customer support\\\",\\\"summary\\\":\\\"Customer satisfied with efficient issue resolution and customer support by rival insurance.\\\"}\",\n",
      "        \"{\\\"text\\\":\\\"claim 56712 additional documentation received claim reassessed and approved for payout\\\",\\\"summary\\\":\\\"Claim 56712 was reassessed and approved for payout after receiving additional documentation.\\\"}\",\n",
      "        \"{\\\"text\\\":\\\"best insurance experience ive had quick and hasslefree\\\",\\\"summary\\\":\\\"The insurance claim process was quick and hassle-free, providing a highly satisfactory experience.\\\"}\",\n",
      "        \"{\\\"text\\\":\\\"claim 43298 claim rejected due to policy exclusions\\\",\\\"summary\\\":\\\"Claim 43298 was rejected due to policy exclusions.\\\"}\",\n",
      "        \"{\\\"text\\\":\\\"quick and easy claims process i would highly recommend rival insurance to my friends and family\\\",\\\"summary\\\":\\\"Client endorses Rival Insurance for its straightforward claims process and recommends them to friends and family.\\\"}\",\n",
      "        \"{\\\"text\\\":\\\"easy renewal process no issues with my policy so far\\\",\\\"summary\\\":\\\"No issues reported during policy renewal process.\\\"}\",\n",
      "        \"{\\\"text\\\":\\\"policyholders can bundle home and auto insurance for discounted rates\\\",\\\"summary\\\":\\\"Policyholders can receive discounted rates by bundling home and auto insurance.\\\\n\\\"}\",\n",
      "        \"{\\\"text\\\":\\\"claim 56234 under investigation for potential fraud\\\",\\\"summary\\\":\\\"Claim 56234 is currently under investigation for potential fraud.\\\"}\",\n",
      "        \"{\\\"text\\\":\\\"policyholders must report any accidents within 24 hours to ensure eligibility for coverage\\\",\\\"summary\\\":\\\"Insurance claim policy requires accidents to be reported within 24 hours for coverage eligibility.\\\"}\",\n",
      "        \"{\\\"text\\\":\\\"denied claim due to a technicality that was not clearly stated in the policy very frustrating\\\",\\\"summary\\\":\\\"The insurance claim was denied due to an unspecified technicality not clearly mentioned in the policy, causing frustration for the claimant.\\\"}\",\n",
      "        \"{\\\"text\\\":\\\"the online portal makes managing my policy super easy\\\",\\\"summary\\\":\\\"The customer expressed satisfaction with the convenience of managing their policy through the online portal.\\\"}\",\n",
      "        \"{\\\"text\\\":\\\"policyholders are required to notify the company of any address changes within 30 days\\\",\\\"summary\\\":\\\"Policyholders must inform the insurance company of any address changes within 30 days.\\\"}\",\n",
      "        \"{\\\"text\\\":\\\"claim 98234 approved waiting on policyholders response for payout method\\\",\\\"summary\\\":\\\"Claim 98234 has been approved and is pending the policyholder's selection of a payout method.\\\"}\",\n",
      "        \"{\\\"text\\\":\\\"long wait times on the phone but helpful service once connected\\\",\\\"summary\\\":\\\"Long phone wait times, helpful service once connected.\\\"}\",\n",
      "        \"{\\\"text\\\":\\\"claim 98213 initial assessment shows possible fraudulent activity sent to the fraud department for review\\\",\\\"summary\\\":\\\"Claim 98213 indicates potential fraud and has been referred to the fraud department for further investigation.\\\"}\",\n",
      "        \"{\\\"text\\\":\\\"denied my claim despite having all the required documents will not renew my policy\\\",\\\"summary\\\":\\\"The insurance claim was denied despite submitting all required documents, and the policy will not be renewed.\\\"}\",\n",
      "        \"{\\\"text\\\":\\\"still waiting on claim resolution after three weeks not satisfied\\\",\\\"summary\\\":\\\"The claimant is dissatisfied with the unresolved status of their insurance claim after three weeks.\\\"}\",\n",
      "        \"{\\\"text\\\":\\\"multipolicy discounts available for customers bundling auto and home insurance\\\",\\\"summary\\\":\\\"The insurance claim describes that customers who bundle auto and home insurance are eligible for multipolicy discounts.\\\"}\",\n",
      "        \"{\\\"text\\\":\\\"claim 12345 denied due to insufficient documentation appeal process explained to policyholder\\\",\\\"summary\\\":\\\"Claim 12345 was denied due to insufficient documentation, and the appeal process was explained to the policyholder.\\\"}\",\n",
      "        \"{\\\"text\\\":\\\"claim 98213 case escalated for further review awaiting manager decision\\\",\\\"summary\\\":\\\"Insurance claim 98213 has been escalated and is pending a manager's decision after further review.\\\"}\",\n",
      "        \"{\\\"text\\\":\\\"had some issues with documentation requirements but support was helpful\\\",\\\"summary\\\":\\\"Issues with documentation for insurance claim; resolved with helpful support.\\\"}\",\n",
      "        \"{\\\"text\\\":\\\"appreciate the 247 customer support the rep was very helpful in explaining my coverage\\\",\\\"summary\\\":\\\"\\u26a0\\ufe0f Failed after multiple retries due to rate limiting.\\\"}\",\n",
      "        \"{\\\"text\\\":\\\"the policy provides emergency accommodation coverage for policyholders stranded due to accidents\\\",\\\"summary\\\":\\\"The insurance policy covers emergency accommodation expenses for policyholders stranded due to accidents.\\\"}\",\n",
      "        \"{\\\"text\\\":\\\"premium adjustments will be made annually based on claim history and risk assessment\\\",\\\"summary\\\":\\\"Annual insurance premium adjustments will be based on claim history and risk assessment.\\\"}\",\n",
      "        \"{\\\"text\\\":\\\"frustrating experience my claim was denied without a clear explanation i will consider switching providers\\\",\\\"summary\\\":\\\"The insurance claim was denied without a clear explanation, causing frustration and leading the claimant to consider switching providers.\\\"}\"\n",
      "    ]\n",
      "}\n"
     ]
    }
   ],
   "source": [
    "from pyspark.sql import SparkSession\n",
    "from pyspark.sql.functions import col\n",
    "\n",
    "# Initialize Spark\n",
    "spark = SparkSession.builder.appName(\"SummarizedDataAPI\").getOrCreate()\n",
    "\n",
    "#  Function to fetch summarized data from Delta Table\n",
    "def get_summarized_data():\n",
    "    try:\n",
    "        # Load summarized data from Gold Layer\n",
    "        summary_df = spark.read.format(\"delta\").load(\"dbfs:/mnt/gold/summarized_text_data\")\n",
    "\n",
    "        # Convert Spark DataFrame to JSON\n",
    "        summaries = summary_df.toJSON().collect()\n",
    "\n",
    "        return json.dumps({\"status\": \"success\", \"data\": summaries}, indent=4)\n",
    "    \n",
    "    except Exception as e:\n",
    "        return json.dumps({\"status\": \"error\", \"message\": str(e)}, indent=4)\n",
    "\n",
    "\n",
    "print(get_summarized_data())\n"
   ]
  }
 ],
 "metadata": {
  "application/vnd.databricks.v1+notebook": {
   "computePreferences": null,
   "dashboards": [],
   "environmentMetadata": {
    "base_environment": "",
    "environment_version": "2"
   },
   "language": "python",
   "notebookMetadata": {
    "pythonIndentUnit": 4
   },
   "notebookName": "AIPipelineNotebook",
   "widgets": {}
  },
  "language_info": {
   "name": "python"
  }
 },
 "nbformat": 4,
 "nbformat_minor": 0
}
